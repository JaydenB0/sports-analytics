{
  "nbformat": 4,
  "nbformat_minor": 5,
  "metadata": {
    "kernelspec": {
      "display_name": "Python [conda env:sports-analytics] *",
      "language": "python",
      "name": "conda-env-sports-analytics-py"
    },
    "language_info": {
      "codemirror_mode": {
        "name": "ipython",
        "version": 3
      },
      "file_extension": ".py",
      "mimetype": "text/x-python",
      "name": "python",
      "nbconvert_exporter": "python",
      "pygments_lexer": "ipython3",
      "version": "3.9.2"
    },
    "latex_envs": {
      "LaTeX_envs_menu_present": true,
      "autoclose": true,
      "autocomplete": true,
      "bibliofile": "biblio.bib",
      "cite_by": "apalike",
      "current_citInitial": 1,
      "eqLabelWithNumbers": true,
      "eqNumInitial": 1,
      "hotkeys": {
        "equation": "Ctrl-E",
        "itemize": "Ctrl-I"
      },
      "labels_anchors": false,
      "latex_user_defs": false,
      "report_style_numbering": false,
      "user_envs_cfg": false
    },
    "toc": {
      "base_numbering": 1,
      "nav_menu": {},
      "number_sections": false,
      "sideBar": true,
      "skip_h1_title": true,
      "title_cell": "Table of Contents",
      "title_sidebar": "Contents",
      "toc_cell": true,
      "toc_position": {},
      "toc_section_display": true,
      "toc_window_display": true
    },
    "colab": {
      "name": "data_collection.ipynb",
      "provenance": [],
      "machine_shape": "hm"
    }
  },
  "cells": [
    {
      "cell_type": "markdown",
      "metadata": {
        "id": "prompt-copper"
      },
      "source": [
        "<h1 align='center'> Basketball Data Collection </h1>"
      ],
      "id": "prompt-copper"
    },
    {
      "cell_type": "markdown",
      "metadata": {
        "id": "transparent-garlic"
      },
      "source": [
        "This notebook contains the associated work necessary to collect the data that composes the [***Kaggle Basketball Dataset*** (wyattowalsh/basketball)](https://www.kaggle.com/wyattowalsh/basketball) and serves as the foundation for the [basketball related projects](https://github.com/wyattowalsh/sports-analytics/tree/main/basketball) within my [sports analytics GitHub repository](https://github.com/wyattowalsh/sports-analytics).\n",
        "\n",
        "One of the goals for the data collection component of this project is to produce a `robust`, *organized* dataset that can grow to as **large of a scale** as possible. You can find an explanation of my solution for storing the files related to the [***Basketball Dataset***](https://www.kaggle.com/wyattowalsh/basketball) below.\n",
        "\n",
        "<img src=\"https://unsplash.com/photos/Kv-gAzpUSRg/download?force=true\">\n",
        "\n",
        "## Overview\n",
        "\n",
        "***Kaggle*** offers many formats of which one can save files to a dataset, which include: `CSV`, `JSON`, `SQLite`, and `Archives`, among others. The platform essentially acts similarly to industrial cloud solutions like *Google Cloud Platform's* (**GCP**) ***Cloud Storage*** or *Amazon Web Service's* (**AWS**) ***S3*** albeit with a **100GB** storage capacity. ***Kaggle*** datasets as well as these industrial solutions can be considered as broad object/file storage and in certain data engineering paradigms can serve as data lakes. \n",
        "\n",
        "It seems that many state-of-the-art (SOTA) data storage solutions pivot around an organizational-wide data lake (of which itself allows for general object storage) that has multiple inputs (*\"tributaries\"*) both streaming into and routinely added to the overall lake. One benefit of this paradigm is that the lake facilitates the storage of both structured (tabular) and unstructured (image, video, audio, text, etc) data. This can prove useful because, as time progresses, new techniques for extracting useful information from unstructured data can be utilized. Thus it also seems like a good idea to hold onto all extracted data, if possible. \n",
        "\n",
        "***Kaggle*** datasets can serve as data lakes through the archival process or simply storing data files in their raw file format. This certainly serves as a strong foundation for building a &#8212; one day in the future &#8212; <b><i>\"big data\"</i></b> collection. \n",
        "\n",
        "However, there is further work that can be done in configuring ***Kaggle*** datasets to enable additional platform functionality as well as improved storage efficiency. data storage solution of data lakes. Similarly, to how storing files in the `.avro`  Further, data lakes can be refined over time to enable extraction and analysis across all ingested data. One feature of data lakes that can be utilized is storing \n",
        "\n",
        "\n",
        "\n",
        "\n",
        "To facilitate the growth of this &#8212; one day in the future &#8212; \"big data\" collection,  this, the dataset is stored within a ***SQLite*** database ( [`basketball.sqlite`] ). Of the different options available to store data on ***Kaggle*** "
      ],
      "id": "transparent-garlic"
    },
    {
      "cell_type": "markdown",
      "metadata": {
        "id": "_a7HBcMWyUZl"
      },
      "source": [
        "## View System Information"
      ],
      "id": "_a7HBcMWyUZl"
    },
    {
      "cell_type": "code",
      "metadata": {
        "id": "7MItZ0I0qReG",
        "outputId": "cd0e6b43-dd3d-44a6-af31-17910f60c275",
        "colab": {
          "base_uri": "https://localhost:8080/"
        }
      },
      "source": [
        "print(\"********************** CUDA Version ********************** \\n - \\n\")\n",
        "!nvcc --version\n",
        "print(\"********************** CPU Info ********************** \\n - \\n\")\n",
        "!cat /proc/cpuinfo\n",
        "print(\"********************** CPU Count ********************** \\n - \\n\")\n",
        "import os\n",
        "print(os.cpu_count())\n",
        "print(\"********************** GPU Info ********************** \\n - \\n\")\n",
        "!nvidia-smi\n",
        "print(\"********************** Python Version ********************** \\n - \\n\")\n",
        "!python -V"
      ],
      "id": "7MItZ0I0qReG",
      "execution_count": 2,
      "outputs": [
        {
          "output_type": "stream",
          "text": [
            "********************** CUDA Version ********************** \n",
            " - \n",
            "\n",
            "nvcc: NVIDIA (R) Cuda compiler driver\n",
            "Copyright (c) 2005-2020 NVIDIA Corporation\n",
            "Built on Wed_Jul_22_19:09:09_PDT_2020\n",
            "Cuda compilation tools, release 11.0, V11.0.221\n",
            "Build cuda_11.0_bu.TC445_37.28845127_0\n",
            "********************** CPU Info ********************** \n",
            " - \n",
            "\n",
            "processor\t: 0\n",
            "vendor_id\t: AuthenticAMD\n",
            "cpu family\t: 23\n",
            "model\t\t: 49\n",
            "model name\t: AMD EPYC 7B12\n",
            "stepping\t: 0\n",
            "microcode\t: 0x1000065\n",
            "cpu MHz\t\t: 2249.996\n",
            "cache size\t: 512 KB\n",
            "physical id\t: 0\n",
            "siblings\t: 4\n",
            "core id\t\t: 0\n",
            "cpu cores\t: 2\n",
            "apicid\t\t: 0\n",
            "initial apicid\t: 0\n",
            "fpu\t\t: yes\n",
            "fpu_exception\t: yes\n",
            "cpuid level\t: 13\n",
            "wp\t\t: yes\n",
            "flags\t\t: fpu vme de pse tsc msr pae mce cx8 apic sep mtrr pge mca cmov pat pse36 clflush mmx fxsr sse sse2 ht syscall nx mmxext fxsr_opt pdpe1gb rdtscp lm constant_tsc rep_good nopl xtopology nonstop_tsc cpuid extd_apicid tsc_known_freq pni pclmulqdq ssse3 fma cx16 sse4_1 sse4_2 movbe popcnt aes xsave avx f16c rdrand hypervisor lahf_lm cmp_legacy cr8_legacy abm sse4a misalignsse 3dnowprefetch osvw topoext ssbd ibrs ibpb stibp vmmcall fsgsbase tsc_adjust bmi1 avx2 smep bmi2 rdseed adx smap clflushopt clwb sha_ni xsaveopt xsavec xgetbv1 clzero xsaveerptr arat npt nrip_save umip rdpid\n",
            "bugs\t\t: sysret_ss_attrs spectre_v1 spectre_v2 spec_store_bypass\n",
            "bogomips\t: 4499.99\n",
            "TLB size\t: 3072 4K pages\n",
            "clflush size\t: 64\n",
            "cache_alignment\t: 64\n",
            "address sizes\t: 48 bits physical, 48 bits virtual\n",
            "power management:\n",
            "\n",
            "processor\t: 1\n",
            "vendor_id\t: AuthenticAMD\n",
            "cpu family\t: 23\n",
            "model\t\t: 49\n",
            "model name\t: AMD EPYC 7B12\n",
            "stepping\t: 0\n",
            "microcode\t: 0x1000065\n",
            "cpu MHz\t\t: 2249.996\n",
            "cache size\t: 512 KB\n",
            "physical id\t: 0\n",
            "siblings\t: 4\n",
            "core id\t\t: 1\n",
            "cpu cores\t: 2\n",
            "apicid\t\t: 2\n",
            "initial apicid\t: 2\n",
            "fpu\t\t: yes\n",
            "fpu_exception\t: yes\n",
            "cpuid level\t: 13\n",
            "wp\t\t: yes\n",
            "flags\t\t: fpu vme de pse tsc msr pae mce cx8 apic sep mtrr pge mca cmov pat pse36 clflush mmx fxsr sse sse2 ht syscall nx mmxext fxsr_opt pdpe1gb rdtscp lm constant_tsc rep_good nopl xtopology nonstop_tsc cpuid extd_apicid tsc_known_freq pni pclmulqdq ssse3 fma cx16 sse4_1 sse4_2 movbe popcnt aes xsave avx f16c rdrand hypervisor lahf_lm cmp_legacy cr8_legacy abm sse4a misalignsse 3dnowprefetch osvw topoext ssbd ibrs ibpb stibp vmmcall fsgsbase tsc_adjust bmi1 avx2 smep bmi2 rdseed adx smap clflushopt clwb sha_ni xsaveopt xsavec xgetbv1 clzero xsaveerptr arat npt nrip_save umip rdpid\n",
            "bugs\t\t: sysret_ss_attrs spectre_v1 spectre_v2 spec_store_bypass\n",
            "bogomips\t: 4499.99\n",
            "TLB size\t: 3072 4K pages\n",
            "clflush size\t: 64\n",
            "cache_alignment\t: 64\n",
            "address sizes\t: 48 bits physical, 48 bits virtual\n",
            "power management:\n",
            "\n",
            "processor\t: 2\n",
            "vendor_id\t: AuthenticAMD\n",
            "cpu family\t: 23\n",
            "model\t\t: 49\n",
            "model name\t: AMD EPYC 7B12\n",
            "stepping\t: 0\n",
            "microcode\t: 0x1000065\n",
            "cpu MHz\t\t: 2249.996\n",
            "cache size\t: 512 KB\n",
            "physical id\t: 0\n",
            "siblings\t: 4\n",
            "core id\t\t: 0\n",
            "cpu cores\t: 2\n",
            "apicid\t\t: 1\n",
            "initial apicid\t: 1\n",
            "fpu\t\t: yes\n",
            "fpu_exception\t: yes\n",
            "cpuid level\t: 13\n",
            "wp\t\t: yes\n",
            "flags\t\t: fpu vme de pse tsc msr pae mce cx8 apic sep mtrr pge mca cmov pat pse36 clflush mmx fxsr sse sse2 ht syscall nx mmxext fxsr_opt pdpe1gb rdtscp lm constant_tsc rep_good nopl xtopology nonstop_tsc cpuid extd_apicid tsc_known_freq pni pclmulqdq ssse3 fma cx16 sse4_1 sse4_2 movbe popcnt aes xsave avx f16c rdrand hypervisor lahf_lm cmp_legacy cr8_legacy abm sse4a misalignsse 3dnowprefetch osvw topoext ssbd ibrs ibpb stibp vmmcall fsgsbase tsc_adjust bmi1 avx2 smep bmi2 rdseed adx smap clflushopt clwb sha_ni xsaveopt xsavec xgetbv1 clzero xsaveerptr arat npt nrip_save umip rdpid\n",
            "bugs\t\t: sysret_ss_attrs spectre_v1 spectre_v2 spec_store_bypass\n",
            "bogomips\t: 4499.99\n",
            "TLB size\t: 3072 4K pages\n",
            "clflush size\t: 64\n",
            "cache_alignment\t: 64\n",
            "address sizes\t: 48 bits physical, 48 bits virtual\n",
            "power management:\n",
            "\n",
            "processor\t: 3\n",
            "vendor_id\t: AuthenticAMD\n",
            "cpu family\t: 23\n",
            "model\t\t: 49\n",
            "model name\t: AMD EPYC 7B12\n",
            "stepping\t: 0\n",
            "microcode\t: 0x1000065\n",
            "cpu MHz\t\t: 2249.996\n",
            "cache size\t: 512 KB\n",
            "physical id\t: 0\n",
            "siblings\t: 4\n",
            "core id\t\t: 1\n",
            "cpu cores\t: 2\n",
            "apicid\t\t: 3\n",
            "initial apicid\t: 3\n",
            "fpu\t\t: yes\n",
            "fpu_exception\t: yes\n",
            "cpuid level\t: 13\n",
            "wp\t\t: yes\n",
            "flags\t\t: fpu vme de pse tsc msr pae mce cx8 apic sep mtrr pge mca cmov pat pse36 clflush mmx fxsr sse sse2 ht syscall nx mmxext fxsr_opt pdpe1gb rdtscp lm constant_tsc rep_good nopl xtopology nonstop_tsc cpuid extd_apicid tsc_known_freq pni pclmulqdq ssse3 fma cx16 sse4_1 sse4_2 movbe popcnt aes xsave avx f16c rdrand hypervisor lahf_lm cmp_legacy cr8_legacy abm sse4a misalignsse 3dnowprefetch osvw topoext ssbd ibrs ibpb stibp vmmcall fsgsbase tsc_adjust bmi1 avx2 smep bmi2 rdseed adx smap clflushopt clwb sha_ni xsaveopt xsavec xgetbv1 clzero xsaveerptr arat npt nrip_save umip rdpid\n",
            "bugs\t\t: sysret_ss_attrs spectre_v1 spectre_v2 spec_store_bypass\n",
            "bogomips\t: 4499.99\n",
            "TLB size\t: 3072 4K pages\n",
            "clflush size\t: 64\n",
            "cache_alignment\t: 64\n",
            "address sizes\t: 48 bits physical, 48 bits virtual\n",
            "power management:\n",
            "\n",
            "********************** CPU Count ********************** \n",
            " - \n",
            "\n",
            "4\n",
            "********************** GPU Info ********************** \n",
            " - \n",
            "\n",
            "NVIDIA-SMI has failed because it couldn't communicate with the NVIDIA driver. Make sure that the latest NVIDIA driver is installed and running.\n",
            "\n",
            "********************** Python Version ********************** \n",
            " - \n",
            "\n",
            "Python 3.7.10\n"
          ],
          "name": "stdout"
        }
      ]
    },
    {
      "cell_type": "markdown",
      "metadata": {
        "id": "historic-hardwood"
      },
      "source": [
        "## Prepare Development Environment\n",
        "\n",
        "- ### Clone GitHub Repository (if necessary)\n",
        "- ### Install Conda package manager (if necessary)\n",
        "- ### Install dependencies"
      ],
      "id": "historic-hardwood"
    },
    {
      "cell_type": "code",
      "metadata": {
        "id": "superior-contents"
      },
      "source": [
        "# remove sample data and clone repo\n",
        "!rm -r sample_data/\n",
        "!rm -r sports-analytics/\n",
        "!git clone https://github.com/wyattowalsh/sports-analytics.git\n",
        "\n",
        "# change directory to directory that contains this notebook\n",
        "%cd /content/sports-analytics/basketball/notebooks/\n",
        "\n",
        "# install conda\n",
        "# !bash sports-analytics/project_resources/bash_scripts/install_conda_in_colab.sh \n",
        "\n",
        "# install dependencies\n",
        "!pip3 install -r ../../dependencies/basketball/data_collection.txt\n",
        "!pip3 install --upgrade --force-reinstall dask\n",
        "!pip3 install --upgrade --force-reinstall dask-cuda\n",
        "!pip3 install 'fsspec>=0.3.3'\n",
        "\n",
        "# restart kernel\n",
        "exit()"
      ],
      "id": "superior-contents",
      "execution_count": null,
      "outputs": []
    },
    {
      "cell_type": "markdown",
      "metadata": {
        "id": "promotional-format"
      },
      "source": [
        "## Import Dependencies & Initialize Kaggle"
      ],
      "id": "promotional-format"
    },
    {
      "cell_type": "code",
      "metadata": {
        "ExecuteTime": {
          "end_time": "2021-03-18T22:40:27.025367Z",
          "start_time": "2021-03-18T22:40:25.450707Z"
        },
        "colab": {
          "resources": {
            "http://localhost:8080/nbextensions/google.colab/files.js": {
              "data": "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",
              "ok": true,
              "headers": [
                [
                  "content-type",
                  "application/javascript"
                ]
              ],
              "status": 200,
              "status_text": ""
            }
          },
          "base_uri": "https://localhost:8080/",
          "height": 72
        },
        "id": "racial-indianapolis",
        "outputId": "735dfe04-70ec-43b5-9b1d-0cf745560e8f"
      },
      "source": [
        "# nba_api dependencies\n",
        "from nba_api.stats.static import players, teams\n",
        "from nba_api.stats.endpoints import commonplayerinfo, playercareerstats\n",
        "\n",
        "# datascience stack\n",
        "import pandas as pd \n",
        "import numpy as np\n",
        "import matplotlib.pyplot as plt\n",
        "import seaborn\n",
        "import sqlite3 as sql\n",
        "import dask\n",
        "from dask.distributed import Client, progress, LocalCluster\n",
        "from dask_cuda import LocalCUDACluster\n",
        "\n",
        "# system utility stack\n",
        "import os\n",
        "import time\n",
        "from requests.packages.urllib3.exceptions import ProxyError\n",
        "import urllib.error\n",
        "import urllib.request\n",
        "\n",
        "# Upload kaggle.json to /content/\n",
        "from google.colab import files\n",
        "uploaded = files.upload()\n",
        "\n",
        "# Move and change permissions as needed, allowing for import\n",
        "!mkdir -p ~/.kaggle/ && mv kaggle.json ~/.kaggle/ && chmod 600 ~/.kaggle/kaggle.json\n",
        "import kaggle\n",
        "\n",
        "# change directory to directory that contains this notebook\n",
        "%cd /content/sports-analytics/basketball/notebooks/"
      ],
      "id": "racial-indianapolis",
      "execution_count": 1,
      "outputs": [
        {
          "output_type": "display_data",
          "data": {
            "text/html": [
              "\n",
              "     <input type=\"file\" id=\"files-ff449918-b811-4fc2-8627-7bcdebcfe1dd\" name=\"files[]\" multiple disabled\n",
              "        style=\"border:none\" />\n",
              "     <output id=\"result-ff449918-b811-4fc2-8627-7bcdebcfe1dd\">\n",
              "      Upload widget is only available when the cell has been executed in the\n",
              "      current browser session. Please rerun this cell to enable.\n",
              "      </output>\n",
              "      <script src=\"/nbextensions/google.colab/files.js\"></script> "
            ],
            "text/plain": [
              "<IPython.core.display.HTML object>"
            ]
          },
          "metadata": {
            "tags": []
          }
        },
        {
          "output_type": "stream",
          "text": [
            "Saving kaggle.json to kaggle.json\n"
          ],
          "name": "stdout"
        }
      ]
    },
    {
      "cell_type": "markdown",
      "metadata": {
        "id": "f10sxJf0y-1o"
      },
      "source": [
        "## Collect Data"
      ],
      "id": "f10sxJf0y-1o"
    },
    {
      "cell_type": "markdown",
      "metadata": {
        "id": "iI8M_ZCxzB8b"
      },
      "source": [
        "### Connect to Database"
      ],
      "id": "iI8M_ZCxzB8b"
    },
    {
      "cell_type": "code",
      "metadata": {
        "id": "executed-amino"
      },
      "source": [
        "conn = sql.connect('../data/basketball.sqlite')"
      ],
      "id": "executed-amino",
      "execution_count": 5,
      "outputs": []
    },
    {
      "cell_type": "markdown",
      "metadata": {
        "id": "O-QokkOkzGw_"
      },
      "source": [
        "## Retrieve Players Table, Format (as needed), Add to Database (if needed)"
      ],
      "id": "O-QokkOkzGw_"
    },
    {
      "cell_type": "code",
      "metadata": {
        "ExecuteTime": {
          "end_time": "2021-03-18T22:40:57.092533Z",
          "start_time": "2021-03-18T22:40:57.064131Z"
        },
        "colab": {
          "base_uri": "https://localhost:8080/",
          "height": 419
        },
        "id": "operating-truth",
        "outputId": "965f8478-32f4-459f-c3ae-eed66182b0bf"
      },
      "source": [
        "df_players = pd.DataFrame(players.get_players()).astype({'id': 'str'})\n",
        "df_players"
      ],
      "id": "operating-truth",
      "execution_count": 6,
      "outputs": [
        {
          "output_type": "execute_result",
          "data": {
            "text/html": [
              "<div>\n",
              "<style scoped>\n",
              "    .dataframe tbody tr th:only-of-type {\n",
              "        vertical-align: middle;\n",
              "    }\n",
              "\n",
              "    .dataframe tbody tr th {\n",
              "        vertical-align: top;\n",
              "    }\n",
              "\n",
              "    .dataframe thead th {\n",
              "        text-align: right;\n",
              "    }\n",
              "</style>\n",
              "<table border=\"1\" class=\"dataframe\">\n",
              "  <thead>\n",
              "    <tr style=\"text-align: right;\">\n",
              "      <th></th>\n",
              "      <th>id</th>\n",
              "      <th>full_name</th>\n",
              "      <th>first_name</th>\n",
              "      <th>last_name</th>\n",
              "      <th>is_active</th>\n",
              "    </tr>\n",
              "  </thead>\n",
              "  <tbody>\n",
              "    <tr>\n",
              "      <th>0</th>\n",
              "      <td>76001</td>\n",
              "      <td>Alaa Abdelnaby</td>\n",
              "      <td>Alaa</td>\n",
              "      <td>Abdelnaby</td>\n",
              "      <td>False</td>\n",
              "    </tr>\n",
              "    <tr>\n",
              "      <th>1</th>\n",
              "      <td>76002</td>\n",
              "      <td>Zaid Abdul-Aziz</td>\n",
              "      <td>Zaid</td>\n",
              "      <td>Abdul-Aziz</td>\n",
              "      <td>False</td>\n",
              "    </tr>\n",
              "    <tr>\n",
              "      <th>2</th>\n",
              "      <td>76003</td>\n",
              "      <td>Kareem Abdul-Jabbar</td>\n",
              "      <td>Kareem</td>\n",
              "      <td>Abdul-Jabbar</td>\n",
              "      <td>False</td>\n",
              "    </tr>\n",
              "    <tr>\n",
              "      <th>3</th>\n",
              "      <td>51</td>\n",
              "      <td>Mahmoud Abdul-Rauf</td>\n",
              "      <td>Mahmoud</td>\n",
              "      <td>Abdul-Rauf</td>\n",
              "      <td>False</td>\n",
              "    </tr>\n",
              "    <tr>\n",
              "      <th>4</th>\n",
              "      <td>1505</td>\n",
              "      <td>Tariq Abdul-Wahad</td>\n",
              "      <td>Tariq</td>\n",
              "      <td>Abdul-Wahad</td>\n",
              "      <td>False</td>\n",
              "    </tr>\n",
              "    <tr>\n",
              "      <th>...</th>\n",
              "      <td>...</td>\n",
              "      <td>...</td>\n",
              "      <td>...</td>\n",
              "      <td>...</td>\n",
              "      <td>...</td>\n",
              "    </tr>\n",
              "    <tr>\n",
              "      <th>4496</th>\n",
              "      <td>1627790</td>\n",
              "      <td>Ante Zizic</td>\n",
              "      <td>Ante</td>\n",
              "      <td>Zizic</td>\n",
              "      <td>True</td>\n",
              "    </tr>\n",
              "    <tr>\n",
              "      <th>4497</th>\n",
              "      <td>78647</td>\n",
              "      <td>Jim Zoet</td>\n",
              "      <td>Jim</td>\n",
              "      <td>Zoet</td>\n",
              "      <td>False</td>\n",
              "    </tr>\n",
              "    <tr>\n",
              "      <th>4498</th>\n",
              "      <td>78648</td>\n",
              "      <td>Bill Zopf</td>\n",
              "      <td>Bill</td>\n",
              "      <td>Zopf</td>\n",
              "      <td>False</td>\n",
              "    </tr>\n",
              "    <tr>\n",
              "      <th>4499</th>\n",
              "      <td>1627826</td>\n",
              "      <td>Ivica Zubac</td>\n",
              "      <td>Ivica</td>\n",
              "      <td>Zubac</td>\n",
              "      <td>True</td>\n",
              "    </tr>\n",
              "    <tr>\n",
              "      <th>4500</th>\n",
              "      <td>78650</td>\n",
              "      <td>Matt Zunic</td>\n",
              "      <td>Matt</td>\n",
              "      <td>Zunic</td>\n",
              "      <td>False</td>\n",
              "    </tr>\n",
              "  </tbody>\n",
              "</table>\n",
              "<p>4501 rows × 5 columns</p>\n",
              "</div>"
            ],
            "text/plain": [
              "           id            full_name first_name     last_name  is_active\n",
              "0       76001       Alaa Abdelnaby       Alaa     Abdelnaby      False\n",
              "1       76002      Zaid Abdul-Aziz       Zaid    Abdul-Aziz      False\n",
              "2       76003  Kareem Abdul-Jabbar     Kareem  Abdul-Jabbar      False\n",
              "3          51   Mahmoud Abdul-Rauf    Mahmoud    Abdul-Rauf      False\n",
              "4        1505    Tariq Abdul-Wahad      Tariq   Abdul-Wahad      False\n",
              "...       ...                  ...        ...           ...        ...\n",
              "4496  1627790           Ante Zizic       Ante         Zizic       True\n",
              "4497    78647             Jim Zoet        Jim          Zoet      False\n",
              "4498    78648            Bill Zopf       Bill          Zopf      False\n",
              "4499  1627826          Ivica Zubac      Ivica         Zubac       True\n",
              "4500    78650           Matt Zunic       Matt         Zunic      False\n",
              "\n",
              "[4501 rows x 5 columns]"
            ]
          },
          "metadata": {
            "tags": []
          },
          "execution_count": 6
        }
      ]
    },
    {
      "cell_type": "code",
      "metadata": {
        "colab": {
          "base_uri": "https://localhost:8080/"
        },
        "id": "controversial-browser",
        "outputId": "448e9b25-43ee-4d6a-eff1-3b9087808416"
      },
      "source": [
        "df_players.info()"
      ],
      "id": "controversial-browser",
      "execution_count": 7,
      "outputs": [
        {
          "output_type": "stream",
          "text": [
            "<class 'pandas.core.frame.DataFrame'>\n",
            "RangeIndex: 4501 entries, 0 to 4500\n",
            "Data columns (total 5 columns):\n",
            " #   Column      Non-Null Count  Dtype \n",
            "---  ------      --------------  ----- \n",
            " 0   id          4501 non-null   object\n",
            " 1   full_name   4501 non-null   object\n",
            " 2   first_name  4501 non-null   object\n",
            " 3   last_name   4501 non-null   object\n",
            " 4   is_active   4501 non-null   bool  \n",
            "dtypes: bool(1), object(4)\n",
            "memory usage: 145.2+ KB\n"
          ],
          "name": "stdout"
        }
      ]
    },
    {
      "cell_type": "code",
      "metadata": {
        "id": "acute-trick"
      },
      "source": [
        "df_players.to_sql('Player', conn)"
      ],
      "id": "acute-trick",
      "execution_count": 8,
      "outputs": []
    },
    {
      "cell_type": "markdown",
      "metadata": {
        "id": "BTpP1K-CzTkS"
      },
      "source": [
        "\n",
        "## Retrieve Teams Table, Format (as needed), Add to Database (if needed)"
      ],
      "id": "BTpP1K-CzTkS"
    },
    {
      "cell_type": "code",
      "metadata": {
        "colab": {
          "base_uri": "https://localhost:8080/",
          "height": 979
        },
        "id": "apparent-president",
        "outputId": "04d1e94c-b5f2-4360-ea18-c08336a60a33"
      },
      "source": [
        "df_teams = pd.DataFrame(teams.get_teams()).astype({'id': 'str'})\n",
        "df_teams['year_founded'] =  pd.to_datetime(df_teams['year_founded'], format='%Y').dt.year # convert year to datetime type\n",
        "df_teams.head()"
      ],
      "id": "apparent-president",
      "execution_count": 9,
      "outputs": [
        {
          "output_type": "execute_result",
          "data": {
            "text/html": [
              "<div>\n",
              "<style scoped>\n",
              "    .dataframe tbody tr th:only-of-type {\n",
              "        vertical-align: middle;\n",
              "    }\n",
              "\n",
              "    .dataframe tbody tr th {\n",
              "        vertical-align: top;\n",
              "    }\n",
              "\n",
              "    .dataframe thead th {\n",
              "        text-align: right;\n",
              "    }\n",
              "</style>\n",
              "<table border=\"1\" class=\"dataframe\">\n",
              "  <thead>\n",
              "    <tr style=\"text-align: right;\">\n",
              "      <th></th>\n",
              "      <th>id</th>\n",
              "      <th>full_name</th>\n",
              "      <th>abbreviation</th>\n",
              "      <th>nickname</th>\n",
              "      <th>city</th>\n",
              "      <th>state</th>\n",
              "      <th>year_founded</th>\n",
              "    </tr>\n",
              "  </thead>\n",
              "  <tbody>\n",
              "    <tr>\n",
              "      <th>0</th>\n",
              "      <td>1610612737</td>\n",
              "      <td>Atlanta Hawks</td>\n",
              "      <td>ATL</td>\n",
              "      <td>Hawks</td>\n",
              "      <td>Atlanta</td>\n",
              "      <td>Atlanta</td>\n",
              "      <td>1949</td>\n",
              "    </tr>\n",
              "    <tr>\n",
              "      <th>1</th>\n",
              "      <td>1610612738</td>\n",
              "      <td>Boston Celtics</td>\n",
              "      <td>BOS</td>\n",
              "      <td>Celtics</td>\n",
              "      <td>Boston</td>\n",
              "      <td>Massachusetts</td>\n",
              "      <td>1946</td>\n",
              "    </tr>\n",
              "    <tr>\n",
              "      <th>2</th>\n",
              "      <td>1610612739</td>\n",
              "      <td>Cleveland Cavaliers</td>\n",
              "      <td>CLE</td>\n",
              "      <td>Cavaliers</td>\n",
              "      <td>Cleveland</td>\n",
              "      <td>Ohio</td>\n",
              "      <td>1970</td>\n",
              "    </tr>\n",
              "    <tr>\n",
              "      <th>3</th>\n",
              "      <td>1610612740</td>\n",
              "      <td>New Orleans Pelicans</td>\n",
              "      <td>NOP</td>\n",
              "      <td>Pelicans</td>\n",
              "      <td>New Orleans</td>\n",
              "      <td>Louisiana</td>\n",
              "      <td>2002</td>\n",
              "    </tr>\n",
              "    <tr>\n",
              "      <th>4</th>\n",
              "      <td>1610612741</td>\n",
              "      <td>Chicago Bulls</td>\n",
              "      <td>CHI</td>\n",
              "      <td>Bulls</td>\n",
              "      <td>Chicago</td>\n",
              "      <td>Illinois</td>\n",
              "      <td>1966</td>\n",
              "    </tr>\n",
              "    <tr>\n",
              "      <th>5</th>\n",
              "      <td>1610612742</td>\n",
              "      <td>Dallas Mavericks</td>\n",
              "      <td>DAL</td>\n",
              "      <td>Mavericks</td>\n",
              "      <td>Dallas</td>\n",
              "      <td>Texas</td>\n",
              "      <td>1980</td>\n",
              "    </tr>\n",
              "    <tr>\n",
              "      <th>6</th>\n",
              "      <td>1610612743</td>\n",
              "      <td>Denver Nuggets</td>\n",
              "      <td>DEN</td>\n",
              "      <td>Nuggets</td>\n",
              "      <td>Denver</td>\n",
              "      <td>Colorado</td>\n",
              "      <td>1976</td>\n",
              "    </tr>\n",
              "    <tr>\n",
              "      <th>7</th>\n",
              "      <td>1610612744</td>\n",
              "      <td>Golden State Warriors</td>\n",
              "      <td>GSW</td>\n",
              "      <td>Warriors</td>\n",
              "      <td>Golden State</td>\n",
              "      <td>California</td>\n",
              "      <td>1946</td>\n",
              "    </tr>\n",
              "    <tr>\n",
              "      <th>8</th>\n",
              "      <td>1610612745</td>\n",
              "      <td>Houston Rockets</td>\n",
              "      <td>HOU</td>\n",
              "      <td>Rockets</td>\n",
              "      <td>Houston</td>\n",
              "      <td>Texas</td>\n",
              "      <td>1967</td>\n",
              "    </tr>\n",
              "    <tr>\n",
              "      <th>9</th>\n",
              "      <td>1610612746</td>\n",
              "      <td>Los Angeles Clippers</td>\n",
              "      <td>LAC</td>\n",
              "      <td>Clippers</td>\n",
              "      <td>Los Angeles</td>\n",
              "      <td>California</td>\n",
              "      <td>1970</td>\n",
              "    </tr>\n",
              "    <tr>\n",
              "      <th>10</th>\n",
              "      <td>1610612747</td>\n",
              "      <td>Los Angeles Lakers</td>\n",
              "      <td>LAL</td>\n",
              "      <td>Lakers</td>\n",
              "      <td>Los Angeles</td>\n",
              "      <td>California</td>\n",
              "      <td>1948</td>\n",
              "    </tr>\n",
              "    <tr>\n",
              "      <th>11</th>\n",
              "      <td>1610612748</td>\n",
              "      <td>Miami Heat</td>\n",
              "      <td>MIA</td>\n",
              "      <td>Heat</td>\n",
              "      <td>Miami</td>\n",
              "      <td>Florida</td>\n",
              "      <td>1988</td>\n",
              "    </tr>\n",
              "    <tr>\n",
              "      <th>12</th>\n",
              "      <td>1610612749</td>\n",
              "      <td>Milwaukee Bucks</td>\n",
              "      <td>MIL</td>\n",
              "      <td>Bucks</td>\n",
              "      <td>Milwaukee</td>\n",
              "      <td>Wisconsin</td>\n",
              "      <td>1968</td>\n",
              "    </tr>\n",
              "    <tr>\n",
              "      <th>13</th>\n",
              "      <td>1610612750</td>\n",
              "      <td>Minnesota Timberwolves</td>\n",
              "      <td>MIN</td>\n",
              "      <td>Timberwolves</td>\n",
              "      <td>Minnesota</td>\n",
              "      <td>Minnesota</td>\n",
              "      <td>1989</td>\n",
              "    </tr>\n",
              "    <tr>\n",
              "      <th>14</th>\n",
              "      <td>1610612751</td>\n",
              "      <td>Brooklyn Nets</td>\n",
              "      <td>BKN</td>\n",
              "      <td>Nets</td>\n",
              "      <td>Brooklyn</td>\n",
              "      <td>New York</td>\n",
              "      <td>1976</td>\n",
              "    </tr>\n",
              "    <tr>\n",
              "      <th>15</th>\n",
              "      <td>1610612752</td>\n",
              "      <td>New York Knicks</td>\n",
              "      <td>NYK</td>\n",
              "      <td>Knicks</td>\n",
              "      <td>New York</td>\n",
              "      <td>New York</td>\n",
              "      <td>1946</td>\n",
              "    </tr>\n",
              "    <tr>\n",
              "      <th>16</th>\n",
              "      <td>1610612753</td>\n",
              "      <td>Orlando Magic</td>\n",
              "      <td>ORL</td>\n",
              "      <td>Magic</td>\n",
              "      <td>Orlando</td>\n",
              "      <td>Florida</td>\n",
              "      <td>1989</td>\n",
              "    </tr>\n",
              "    <tr>\n",
              "      <th>17</th>\n",
              "      <td>1610612754</td>\n",
              "      <td>Indiana Pacers</td>\n",
              "      <td>IND</td>\n",
              "      <td>Pacers</td>\n",
              "      <td>Indiana</td>\n",
              "      <td>Indiana</td>\n",
              "      <td>1976</td>\n",
              "    </tr>\n",
              "    <tr>\n",
              "      <th>18</th>\n",
              "      <td>1610612755</td>\n",
              "      <td>Philadelphia 76ers</td>\n",
              "      <td>PHI</td>\n",
              "      <td>76ers</td>\n",
              "      <td>Philadelphia</td>\n",
              "      <td>Pennsylvania</td>\n",
              "      <td>1949</td>\n",
              "    </tr>\n",
              "    <tr>\n",
              "      <th>19</th>\n",
              "      <td>1610612756</td>\n",
              "      <td>Phoenix Suns</td>\n",
              "      <td>PHX</td>\n",
              "      <td>Suns</td>\n",
              "      <td>Phoenix</td>\n",
              "      <td>Arizona</td>\n",
              "      <td>1968</td>\n",
              "    </tr>\n",
              "    <tr>\n",
              "      <th>20</th>\n",
              "      <td>1610612757</td>\n",
              "      <td>Portland Trail Blazers</td>\n",
              "      <td>POR</td>\n",
              "      <td>Trail Blazers</td>\n",
              "      <td>Portland</td>\n",
              "      <td>Oregon</td>\n",
              "      <td>1970</td>\n",
              "    </tr>\n",
              "    <tr>\n",
              "      <th>21</th>\n",
              "      <td>1610612758</td>\n",
              "      <td>Sacramento Kings</td>\n",
              "      <td>SAC</td>\n",
              "      <td>Kings</td>\n",
              "      <td>Sacramento</td>\n",
              "      <td>California</td>\n",
              "      <td>1948</td>\n",
              "    </tr>\n",
              "    <tr>\n",
              "      <th>22</th>\n",
              "      <td>1610612759</td>\n",
              "      <td>San Antonio Spurs</td>\n",
              "      <td>SAS</td>\n",
              "      <td>Spurs</td>\n",
              "      <td>San Antonio</td>\n",
              "      <td>Texas</td>\n",
              "      <td>1976</td>\n",
              "    </tr>\n",
              "    <tr>\n",
              "      <th>23</th>\n",
              "      <td>1610612760</td>\n",
              "      <td>Oklahoma City Thunder</td>\n",
              "      <td>OKC</td>\n",
              "      <td>Thunder</td>\n",
              "      <td>Oklahoma City</td>\n",
              "      <td>Oklahoma</td>\n",
              "      <td>1967</td>\n",
              "    </tr>\n",
              "    <tr>\n",
              "      <th>24</th>\n",
              "      <td>1610612761</td>\n",
              "      <td>Toronto Raptors</td>\n",
              "      <td>TOR</td>\n",
              "      <td>Raptors</td>\n",
              "      <td>Toronto</td>\n",
              "      <td>Ontario</td>\n",
              "      <td>1995</td>\n",
              "    </tr>\n",
              "    <tr>\n",
              "      <th>25</th>\n",
              "      <td>1610612762</td>\n",
              "      <td>Utah Jazz</td>\n",
              "      <td>UTA</td>\n",
              "      <td>Jazz</td>\n",
              "      <td>Utah</td>\n",
              "      <td>Utah</td>\n",
              "      <td>1974</td>\n",
              "    </tr>\n",
              "    <tr>\n",
              "      <th>26</th>\n",
              "      <td>1610612763</td>\n",
              "      <td>Memphis Grizzlies</td>\n",
              "      <td>MEM</td>\n",
              "      <td>Grizzlies</td>\n",
              "      <td>Memphis</td>\n",
              "      <td>Tennessee</td>\n",
              "      <td>1995</td>\n",
              "    </tr>\n",
              "    <tr>\n",
              "      <th>27</th>\n",
              "      <td>1610612764</td>\n",
              "      <td>Washington Wizards</td>\n",
              "      <td>WAS</td>\n",
              "      <td>Wizards</td>\n",
              "      <td>Washington</td>\n",
              "      <td>District of Columbia</td>\n",
              "      <td>1961</td>\n",
              "    </tr>\n",
              "    <tr>\n",
              "      <th>28</th>\n",
              "      <td>1610612765</td>\n",
              "      <td>Detroit Pistons</td>\n",
              "      <td>DET</td>\n",
              "      <td>Pistons</td>\n",
              "      <td>Detroit</td>\n",
              "      <td>Michigan</td>\n",
              "      <td>1948</td>\n",
              "    </tr>\n",
              "    <tr>\n",
              "      <th>29</th>\n",
              "      <td>1610612766</td>\n",
              "      <td>Charlotte Hornets</td>\n",
              "      <td>CHA</td>\n",
              "      <td>Hornets</td>\n",
              "      <td>Charlotte</td>\n",
              "      <td>North Carolina</td>\n",
              "      <td>1988</td>\n",
              "    </tr>\n",
              "  </tbody>\n",
              "</table>\n",
              "</div>"
            ],
            "text/plain": [
              "            id               full_name  ...                 state year_founded\n",
              "0   1610612737           Atlanta Hawks  ...               Atlanta         1949\n",
              "1   1610612738          Boston Celtics  ...         Massachusetts         1946\n",
              "2   1610612739     Cleveland Cavaliers  ...                  Ohio         1970\n",
              "3   1610612740    New Orleans Pelicans  ...             Louisiana         2002\n",
              "4   1610612741           Chicago Bulls  ...              Illinois         1966\n",
              "5   1610612742        Dallas Mavericks  ...                 Texas         1980\n",
              "6   1610612743          Denver Nuggets  ...              Colorado         1976\n",
              "7   1610612744   Golden State Warriors  ...            California         1946\n",
              "8   1610612745         Houston Rockets  ...                 Texas         1967\n",
              "9   1610612746    Los Angeles Clippers  ...            California         1970\n",
              "10  1610612747      Los Angeles Lakers  ...            California         1948\n",
              "11  1610612748              Miami Heat  ...               Florida         1988\n",
              "12  1610612749         Milwaukee Bucks  ...             Wisconsin         1968\n",
              "13  1610612750  Minnesota Timberwolves  ...             Minnesota         1989\n",
              "14  1610612751           Brooklyn Nets  ...              New York         1976\n",
              "15  1610612752         New York Knicks  ...              New York         1946\n",
              "16  1610612753           Orlando Magic  ...               Florida         1989\n",
              "17  1610612754          Indiana Pacers  ...               Indiana         1976\n",
              "18  1610612755      Philadelphia 76ers  ...          Pennsylvania         1949\n",
              "19  1610612756            Phoenix Suns  ...               Arizona         1968\n",
              "20  1610612757  Portland Trail Blazers  ...                Oregon         1970\n",
              "21  1610612758        Sacramento Kings  ...            California         1948\n",
              "22  1610612759       San Antonio Spurs  ...                 Texas         1976\n",
              "23  1610612760   Oklahoma City Thunder  ...              Oklahoma         1967\n",
              "24  1610612761         Toronto Raptors  ...               Ontario         1995\n",
              "25  1610612762               Utah Jazz  ...                  Utah         1974\n",
              "26  1610612763       Memphis Grizzlies  ...             Tennessee         1995\n",
              "27  1610612764      Washington Wizards  ...  District of Columbia         1961\n",
              "28  1610612765         Detroit Pistons  ...              Michigan         1948\n",
              "29  1610612766       Charlotte Hornets  ...        North Carolina         1988\n",
              "\n",
              "[30 rows x 7 columns]"
            ]
          },
          "metadata": {
            "tags": []
          },
          "execution_count": 9
        }
      ]
    },
    {
      "cell_type": "code",
      "metadata": {
        "colab": {
          "base_uri": "https://localhost:8080/"
        },
        "id": "whole-cabin",
        "outputId": "a511dd6e-86a5-45f0-9a50-33145443dfd0"
      },
      "source": [
        "df_teams.info()"
      ],
      "id": "whole-cabin",
      "execution_count": 10,
      "outputs": [
        {
          "output_type": "stream",
          "text": [
            "<class 'pandas.core.frame.DataFrame'>\n",
            "RangeIndex: 30 entries, 0 to 29\n",
            "Data columns (total 7 columns):\n",
            " #   Column        Non-Null Count  Dtype \n",
            "---  ------        --------------  ----- \n",
            " 0   id            30 non-null     object\n",
            " 1   full_name     30 non-null     object\n",
            " 2   abbreviation  30 non-null     object\n",
            " 3   nickname      30 non-null     object\n",
            " 4   city          30 non-null     object\n",
            " 5   state         30 non-null     object\n",
            " 6   year_founded  30 non-null     int64 \n",
            "dtypes: int64(1), object(6)\n",
            "memory usage: 1.8+ KB\n"
          ],
          "name": "stdout"
        }
      ]
    },
    {
      "cell_type": "code",
      "metadata": {
        "id": "wound-boston"
      },
      "source": [
        "df_teams.to_sql('Team', conn)"
      ],
      "id": "wound-boston",
      "execution_count": 11,
      "outputs": []
    },
    {
      "cell_type": "markdown",
      "metadata": {
        "id": "E50uAPjqzfdF"
      },
      "source": [
        "## Get Proxy Server Addresses"
      ],
      "id": "E50uAPjqzfdF"
    },
    {
      "cell_type": "markdown",
      "metadata": {
        "id": "xm__2P1nzlDT"
      },
      "source": [
        "### Define Function to Scrape New Proxy List and Return Proxies Tested to be Alive"
      ],
      "id": "xm__2P1nzlDT"
    },
    {
      "cell_type": "code",
      "metadata": {
        "ExecuteTime": {
          "end_time": "2021-03-18T22:48:06.899864Z",
          "start_time": "2021-03-18T22:48:06.888891Z"
        },
        "id": "prescribed-appearance"
      },
      "source": [
        "def get_proxies():\n",
        "    !wget -O http_proxies.txt \"https://api.proxyscrape.com/v2/?request=getproxies&protocol=http&timeout=10000&country=all&ssl=all&anonymity=all&simplified=true\"\n",
        "\n",
        "    with open('http_proxies.txt', 'r') as file:\n",
        "        proxies = file.read().split('\\n')\n",
        "    print(\"Original number of proxies: \", len(proxies))\n",
        "\n",
        "    def check_proxies(proxy):\n",
        "        try:\n",
        "            urllib.request.urlopen(\"http://\" + proxy, timeout = 10)\n",
        "        except:\n",
        "            return proxy\n",
        "\n",
        "    dead_proxies = []\n",
        "    for proxy in proxies:\n",
        "        dead_proxy = dask.delayed(check_proxies)(proxy)\n",
        "        dead_proxies.append(dead_proxy)\n",
        "\n",
        "    dead_proxies = dask.persist(*dead_proxies)\n",
        "    dead_proxies = list(filter(None, dask.compute(*dead_proxies))) \n",
        "\n",
        "    [proxies.remove(proxy) for proxy in dead_proxies]\n",
        "    if \"\" in proxies:\n",
        "        proxies.remove(\"\")\n",
        "    print(\"Number of proxies alive: \", len(proxies))\n",
        "    return proxies"
      ],
      "id": "prescribed-appearance",
      "execution_count": 12,
      "outputs": []
    },
    {
      "cell_type": "markdown",
      "metadata": {
        "id": "aB5vvR20zySE"
      },
      "source": [
        "### Create Dask Cluster with the Number of Workers Equal to the Number of CPU Cores"
      ],
      "id": "aB5vvR20zySE"
    },
    {
      "cell_type": "code",
      "metadata": {
        "ExecuteTime": {
          "start_time": "2021-03-18T22:48:16.785Z"
        },
        "colab": {
          "base_uri": "https://localhost:8080/",
          "height": 118
        },
        "id": "minute-focus",
        "outputId": "8ad92d39-f640-4561-f546-f8237329214a"
      },
      "source": [
        "# Make sure to put appropiate number of workers given info provided in the output of the first cell\n",
        "cluster = LocalCluster(n_workers=4) \n",
        "c = Client(cluster)\n",
        "c"
      ],
      "id": "minute-focus",
      "execution_count": 13,
      "outputs": [
        {
          "output_type": "execute_result",
          "data": {
            "text/html": [
              "<table style=\"border: 2px solid white;\">\n",
              "<tr>\n",
              "<td style=\"vertical-align: top; border: 0px solid white\">\n",
              "<h3 style=\"text-align: left;\">Client</h3>\n",
              "<ul style=\"text-align: left; list-style: none; margin: 0; padding: 0;\">\n",
              "  <li><b>Scheduler: </b>tcp://127.0.0.1:35561</li>\n",
              "  <li><b>Dashboard: </b><a href='http://127.0.0.1:8787/status' target='_blank'>http://127.0.0.1:8787/status</a></li>\n",
              "</ul>\n",
              "</td>\n",
              "<td style=\"vertical-align: top; border: 0px solid white\">\n",
              "<h3 style=\"text-align: left;\">Cluster</h3>\n",
              "<ul style=\"text-align: left; list-style:none; margin: 0; padding: 0;\">\n",
              "  <li><b>Workers: </b>4</li>\n",
              "  <li><b>Cores: </b>4</li>\n",
              "  <li><b>Memory: </b>27.39 GB</li>\n",
              "</ul>\n",
              "</td>\n",
              "</tr>\n",
              "</table>"
            ],
            "text/plain": [
              "<Client: 'tcp://127.0.0.1:35561' processes=4 threads=4, memory=27.39 GB>"
            ]
          },
          "metadata": {
            "tags": []
          },
          "execution_count": 13
        }
      ]
    },
    {
      "cell_type": "markdown",
      "metadata": {
        "id": "oIEXZlVPz9jp"
      },
      "source": [
        "## Process `get_proxies()` with Dask then Shutdown Cluster"
      ],
      "id": "oIEXZlVPz9jp"
    },
    {
      "cell_type": "code",
      "metadata": {
        "id": "3pMIVGdFxKE8",
        "outputId": "854ddd25-2b9d-4353-be45-768fc45bf27e",
        "colab": {
          "base_uri": "https://localhost:8080/"
        }
      },
      "source": [
        "proxies = get_proxies()\n",
        "c.shutdown()\n",
        "proxies"
      ],
      "id": "3pMIVGdFxKE8",
      "execution_count": null,
      "outputs": [
        {
          "output_type": "stream",
          "text": [
            "--2021-03-18 23:56:51--  https://api.proxyscrape.com/v2/?request=getproxies&protocol=http&timeout=10000&country=all&ssl=all&anonymity=all&simplified=true\n",
            "Resolving api.proxyscrape.com (api.proxyscrape.com)... 151.139.128.11\n",
            "Connecting to api.proxyscrape.com (api.proxyscrape.com)|151.139.128.11|:443... connected.\n",
            "HTTP request sent, awaiting response... 200 OK\n",
            "Length: unspecified [text/plain]\n",
            "Saving to: ‘http_proxies.txt’\n",
            "\n",
            "\rhttp_proxies.txt        [<=>                 ]       0  --.-KB/s               \rhttp_proxies.txt        [ <=>                ]  23.32K  --.-KB/s    in 0s      \n",
            "\n",
            "2021-03-18 23:56:51 (85.3 MB/s) - ‘http_proxies.txt’ saved [23884]\n",
            "\n",
            "Original number of proxies:  1179\n"
          ],
          "name": "stdout"
        }
      ]
    },
    {
      "cell_type": "markdown",
      "metadata": {
        "id": "D-qCFrs50IwJ"
      },
      "source": [
        "## Get Common Player Information"
      ],
      "id": "D-qCFrs50IwJ"
    },
    {
      "cell_type": "markdown",
      "metadata": {
        "id": "QWDeN_j10QlB"
      },
      "source": [
        "### Define Functions `get_quick_proxies()` & `get_common_player_info()`\n",
        "\n",
        "Each function utilizes a ***Dask*** cluster. \n",
        "\n",
        "`get_quick_proxies()` gets a list of proxies (tested to be alive) more quickly than the function above. This function is used in the case that all proxies found from the above function fail to return responses from stats.nba.com. \n",
        "\n",
        "`get_common_player_info()` returns dataframe of common player infomation for a certain player. The paradigm here is to distribute jobs (where each job is collecting common player info for a certain player) across a ***Dask*** cluster since all outputs will be the same and can be easily be concatenated. "
      ],
      "id": "QWDeN_j10QlB"
    },
    {
      "cell_type": "code",
      "metadata": {
        "id": "greatest-field",
        "outputId": "69d79d85-db97-4d5f-caba-184b7d924209"
      },
      "source": [
        "def get_quick_proxies():\n",
        "    !wget -O http_proxies.txt \"https://api.proxyscrape.com/v2/?request=getproxies&protocol=http&timeout=3500&country=all&ssl=all&anonymity=all&simplified=true\"\n",
        "\n",
        "    with open('http_proxies.txt', 'r') as file:\n",
        "        proxies = file.read().split('\\n')\n",
        "    print(\"Original number of proxies: \", len(proxies))\n",
        "\n",
        "    def check_proxies(proxy):\n",
        "        try:\n",
        "            urllib.request.urlopen(\"http://\" + proxy, timeout = 2.5)\n",
        "        except IOError:\n",
        "            return proxy\n",
        "\n",
        "    dead_proxies = []\n",
        "    for proxy in proxies:\n",
        "        dead_proxy = dask.delayed(check_proxies)(proxy)\n",
        "        dead_proxies.append(dead_proxy)\n",
        "\n",
        "    dead_proxies = dask.persist(*dead_proxies)\n",
        "    dead_proxies = list(filter(None, dask.compute(*dead_proxies))) \n",
        "\n",
        "    [proxies.remove(proxy) for proxy in dead_proxies]\n",
        "    if \"\" in proxies:\n",
        "        proxies.remove(\"\")\n",
        "    print(\"Number of proxies alive: \", len(proxies))\n",
        "    return proxies\n",
        "  \n",
        "def get_common_player_info(player_id, proxies):\n",
        "    custom_headers = {\n",
        "    'Host': 'stats.nba.com',\n",
        "    'Connection': 'keep-alive',\n",
        "    'Cache-Control': 'max-age=0',\n",
        "    'Upgrade-Insecure-Requests': '1',\n",
        "    'User-Agent': 'Mozilla/5.0 (Macintosh; Intel Mac OS X 10_14_3) AppleWebKit/537.36 (KHTML, like Gecko) Chrome/73.0.3683.86 Safari/537.36',\n",
        "    'Accept': 'text/html,application/xhtml+xml,application/xml;q=0.9,image/webp,image/apng,*/*;q=0.8,application/signed-exchange;v=b3',\n",
        "    'Accept-Encoding': 'gzip, deflate, br',\n",
        "    'Accept-Language': 'en-US,en;q=0.9',\n",
        "    }\n",
        "    dfs = []\n",
        "    while len(dfs) < 2: \n",
        "        for proxy in proxies:\n",
        "            try:\n",
        "                res = commonplayerinfo.CommonPlayerInfo(player_id=player_id, proxy=\"http://\" + proxy, timeout=100)\n",
        "                dfs = res.get_data_frames()\n",
        "                df = pd.merge(dfs[0], dfs[1], how='left', left_on=['PERSON_ID', 'DISPLAY_FIRST_LAST'], right_on=['PLAYER_ID', 'PLAYER_NAME'])\n",
        "                df = df.drop(['TimeFrame'], axis=1)\n",
        "                print(player_id)\n",
        "                return df\n",
        "            except:\n",
        "                continue\n",
        "        print(player_id, \"\\n proxies failed; retrieving new proxies and attempting request again\")\n",
        "        proxies = get_quick_proxies()"
      ],
      "id": "greatest-field",
      "execution_count": null,
      "outputs": [
        {
          "output_type": "error",
          "ename": "ProxyError",
          "evalue": "HTTPSConnectionPool(host='stats.nba.com', port=443): Max retries exceeded with url: /stats/commonplayerinfo?LeagueID=&PlayerID=76001 (Caused by ProxyError('Cannot connect to proxy.', OSError('Tunnel connection failed: 500 Internal Server Error')))",
          "traceback": [
            "\u001b[0;31m---------------------------------------------------------------------------\u001b[0m",
            "\u001b[0;31mOSError\u001b[0m                                   Traceback (most recent call last)",
            "\u001b[0;32m~/miniconda3/envs/sports-analytics/lib/python3.9/site-packages/urllib3/connectionpool.py\u001b[0m in \u001b[0;36murlopen\u001b[0;34m(self, method, url, body, headers, retries, redirect, assert_same_host, timeout, pool_timeout, release_conn, chunked, body_pos, **response_kw)\u001b[0m\n\u001b[1;32m    695\u001b[0m             \u001b[0;32mif\u001b[0m \u001b[0mis_new_proxy_conn\u001b[0m \u001b[0;32mand\u001b[0m \u001b[0mhttp_tunnel_required\u001b[0m\u001b[0;34m:\u001b[0m\u001b[0;34m\u001b[0m\u001b[0;34m\u001b[0m\u001b[0m\n\u001b[0;32m--> 696\u001b[0;31m                 \u001b[0mself\u001b[0m\u001b[0;34m.\u001b[0m\u001b[0m_prepare_proxy\u001b[0m\u001b[0;34m(\u001b[0m\u001b[0mconn\u001b[0m\u001b[0;34m)\u001b[0m\u001b[0;34m\u001b[0m\u001b[0;34m\u001b[0m\u001b[0m\n\u001b[0m\u001b[1;32m    697\u001b[0m \u001b[0;34m\u001b[0m\u001b[0m\n",
            "\u001b[0;32m~/miniconda3/envs/sports-analytics/lib/python3.9/site-packages/urllib3/connectionpool.py\u001b[0m in \u001b[0;36m_prepare_proxy\u001b[0;34m(self, conn)\u001b[0m\n\u001b[1;32m    963\u001b[0m \u001b[0;34m\u001b[0m\u001b[0m\n\u001b[0;32m--> 964\u001b[0;31m         \u001b[0mconn\u001b[0m\u001b[0;34m.\u001b[0m\u001b[0mconnect\u001b[0m\u001b[0;34m(\u001b[0m\u001b[0;34m)\u001b[0m\u001b[0;34m\u001b[0m\u001b[0;34m\u001b[0m\u001b[0m\n\u001b[0m\u001b[1;32m    965\u001b[0m \u001b[0;34m\u001b[0m\u001b[0m\n",
            "\u001b[0;32m~/miniconda3/envs/sports-analytics/lib/python3.9/site-packages/urllib3/connection.py\u001b[0m in \u001b[0;36mconnect\u001b[0;34m(self)\u001b[0m\n\u001b[1;32m    365\u001b[0m             \u001b[0;31m# self._tunnel_host below.\u001b[0m\u001b[0;34m\u001b[0m\u001b[0;34m\u001b[0m\u001b[0;34m\u001b[0m\u001b[0m\n\u001b[0;32m--> 366\u001b[0;31m             \u001b[0mself\u001b[0m\u001b[0;34m.\u001b[0m\u001b[0m_tunnel\u001b[0m\u001b[0;34m(\u001b[0m\u001b[0;34m)\u001b[0m\u001b[0;34m\u001b[0m\u001b[0;34m\u001b[0m\u001b[0m\n\u001b[0m\u001b[1;32m    367\u001b[0m             \u001b[0;31m# Mark this connection as not reusable\u001b[0m\u001b[0;34m\u001b[0m\u001b[0;34m\u001b[0m\u001b[0;34m\u001b[0m\u001b[0m\n",
            "\u001b[0;32m~/miniconda3/envs/sports-analytics/lib/python3.9/http/client.py\u001b[0m in \u001b[0;36m_tunnel\u001b[0;34m(self)\u001b[0m\n\u001b[1;32m    903\u001b[0m             \u001b[0mself\u001b[0m\u001b[0;34m.\u001b[0m\u001b[0mclose\u001b[0m\u001b[0;34m(\u001b[0m\u001b[0;34m)\u001b[0m\u001b[0;34m\u001b[0m\u001b[0;34m\u001b[0m\u001b[0m\n\u001b[0;32m--> 904\u001b[0;31m             raise OSError(\"Tunnel connection failed: %d %s\" % (code,\n\u001b[0m\u001b[1;32m    905\u001b[0m                                                                message.strip()))\n",
            "\u001b[0;31mOSError\u001b[0m: Tunnel connection failed: 500 Internal Server Error",
            "\nDuring handling of the above exception, another exception occurred:\n",
            "\u001b[0;31mMaxRetryError\u001b[0m                             Traceback (most recent call last)",
            "\u001b[0;32m~/miniconda3/envs/sports-analytics/lib/python3.9/site-packages/requests/adapters.py\u001b[0m in \u001b[0;36msend\u001b[0;34m(self, request, stream, timeout, verify, cert, proxies)\u001b[0m\n\u001b[1;32m    438\u001b[0m             \u001b[0;32mif\u001b[0m \u001b[0;32mnot\u001b[0m \u001b[0mchunked\u001b[0m\u001b[0;34m:\u001b[0m\u001b[0;34m\u001b[0m\u001b[0;34m\u001b[0m\u001b[0m\n\u001b[0;32m--> 439\u001b[0;31m                 resp = conn.urlopen(\n\u001b[0m\u001b[1;32m    440\u001b[0m                     \u001b[0mmethod\u001b[0m\u001b[0;34m=\u001b[0m\u001b[0mrequest\u001b[0m\u001b[0;34m.\u001b[0m\u001b[0mmethod\u001b[0m\u001b[0;34m,\u001b[0m\u001b[0;34m\u001b[0m\u001b[0;34m\u001b[0m\u001b[0m\n",
            "\u001b[0;32m~/miniconda3/envs/sports-analytics/lib/python3.9/site-packages/urllib3/connectionpool.py\u001b[0m in \u001b[0;36murlopen\u001b[0;34m(self, method, url, body, headers, retries, redirect, assert_same_host, timeout, pool_timeout, release_conn, chunked, body_pos, **response_kw)\u001b[0m\n\u001b[1;32m    754\u001b[0m \u001b[0;34m\u001b[0m\u001b[0m\n\u001b[0;32m--> 755\u001b[0;31m             retries = retries.increment(\n\u001b[0m\u001b[1;32m    756\u001b[0m                 \u001b[0mmethod\u001b[0m\u001b[0;34m,\u001b[0m \u001b[0murl\u001b[0m\u001b[0;34m,\u001b[0m \u001b[0merror\u001b[0m\u001b[0;34m=\u001b[0m\u001b[0me\u001b[0m\u001b[0;34m,\u001b[0m \u001b[0m_pool\u001b[0m\u001b[0;34m=\u001b[0m\u001b[0mself\u001b[0m\u001b[0;34m,\u001b[0m \u001b[0m_stacktrace\u001b[0m\u001b[0;34m=\u001b[0m\u001b[0msys\u001b[0m\u001b[0;34m.\u001b[0m\u001b[0mexc_info\u001b[0m\u001b[0;34m(\u001b[0m\u001b[0;34m)\u001b[0m\u001b[0;34m[\u001b[0m\u001b[0;36m2\u001b[0m\u001b[0;34m]\u001b[0m\u001b[0;34m\u001b[0m\u001b[0;34m\u001b[0m\u001b[0m\n",
            "\u001b[0;32m~/miniconda3/envs/sports-analytics/lib/python3.9/site-packages/urllib3/util/retry.py\u001b[0m in \u001b[0;36mincrement\u001b[0;34m(self, method, url, response, error, _pool, _stacktrace)\u001b[0m\n\u001b[1;32m    573\u001b[0m         \u001b[0;32mif\u001b[0m \u001b[0mnew_retry\u001b[0m\u001b[0;34m.\u001b[0m\u001b[0mis_exhausted\u001b[0m\u001b[0;34m(\u001b[0m\u001b[0;34m)\u001b[0m\u001b[0;34m:\u001b[0m\u001b[0;34m\u001b[0m\u001b[0;34m\u001b[0m\u001b[0m\n\u001b[0;32m--> 574\u001b[0;31m             \u001b[0;32mraise\u001b[0m \u001b[0mMaxRetryError\u001b[0m\u001b[0;34m(\u001b[0m\u001b[0m_pool\u001b[0m\u001b[0;34m,\u001b[0m \u001b[0murl\u001b[0m\u001b[0;34m,\u001b[0m \u001b[0merror\u001b[0m \u001b[0;32mor\u001b[0m \u001b[0mResponseError\u001b[0m\u001b[0;34m(\u001b[0m\u001b[0mcause\u001b[0m\u001b[0;34m)\u001b[0m\u001b[0;34m)\u001b[0m\u001b[0;34m\u001b[0m\u001b[0;34m\u001b[0m\u001b[0m\n\u001b[0m\u001b[1;32m    575\u001b[0m \u001b[0;34m\u001b[0m\u001b[0m\n",
            "\u001b[0;31mMaxRetryError\u001b[0m: HTTPSConnectionPool(host='stats.nba.com', port=443): Max retries exceeded with url: /stats/commonplayerinfo?LeagueID=&PlayerID=76001 (Caused by ProxyError('Cannot connect to proxy.', OSError('Tunnel connection failed: 500 Internal Server Error')))",
            "\nDuring handling of the above exception, another exception occurred:\n",
            "\u001b[0;31mProxyError\u001b[0m                                Traceback (most recent call last)",
            "\u001b[0;32m<ipython-input-23-8eac1a64ded6>\u001b[0m in \u001b[0;36m<module>\u001b[0;34m\u001b[0m\n\u001b[0;32m----> 1\u001b[0;31m \u001b[0mcommonplayerinfo\u001b[0m\u001b[0;34m.\u001b[0m\u001b[0mCommonPlayerInfo\u001b[0m\u001b[0;34m(\u001b[0m\u001b[0mplayer_id\u001b[0m\u001b[0;34m=\u001b[0m\u001b[0mplayer_ids\u001b[0m\u001b[0;34m[\u001b[0m\u001b[0;36m0\u001b[0m\u001b[0;34m]\u001b[0m\u001b[0;34m,\u001b[0m \u001b[0mproxy\u001b[0m\u001b[0;34m=\u001b[0m\u001b[0;34m\"http://\"\u001b[0m \u001b[0;34m+\u001b[0m \u001b[0mproxies\u001b[0m\u001b[0;34m[\u001b[0m\u001b[0;36m2\u001b[0m\u001b[0;34m]\u001b[0m\u001b[0;34m,\u001b[0m \u001b[0mtimeout\u001b[0m\u001b[0;34m=\u001b[0m\u001b[0;36m100\u001b[0m\u001b[0;34m)\u001b[0m\u001b[0;34m\u001b[0m\u001b[0;34m\u001b[0m\u001b[0m\n\u001b[0m",
            "\u001b[0;32m~/miniconda3/envs/sports-analytics/lib/python3.9/site-packages/nba_api/stats/endpoints/commonplayerinfo.py\u001b[0m in \u001b[0;36m__init__\u001b[0;34m(self, player_id, league_id_nullable, proxy, headers, timeout, get_request)\u001b[0m\n\u001b[1;32m     30\u001b[0m         }\n\u001b[1;32m     31\u001b[0m         \u001b[0;32mif\u001b[0m \u001b[0mget_request\u001b[0m\u001b[0;34m:\u001b[0m\u001b[0;34m\u001b[0m\u001b[0;34m\u001b[0m\u001b[0m\n\u001b[0;32m---> 32\u001b[0;31m             \u001b[0mself\u001b[0m\u001b[0;34m.\u001b[0m\u001b[0mget_request\u001b[0m\u001b[0;34m(\u001b[0m\u001b[0;34m)\u001b[0m\u001b[0;34m\u001b[0m\u001b[0;34m\u001b[0m\u001b[0m\n\u001b[0m\u001b[1;32m     33\u001b[0m \u001b[0;34m\u001b[0m\u001b[0m\n\u001b[1;32m     34\u001b[0m     \u001b[0;32mdef\u001b[0m \u001b[0mget_request\u001b[0m\u001b[0;34m(\u001b[0m\u001b[0mself\u001b[0m\u001b[0;34m)\u001b[0m\u001b[0;34m:\u001b[0m\u001b[0;34m\u001b[0m\u001b[0;34m\u001b[0m\u001b[0m\n",
            "\u001b[0;32m~/miniconda3/envs/sports-analytics/lib/python3.9/site-packages/nba_api/stats/endpoints/commonplayerinfo.py\u001b[0m in \u001b[0;36mget_request\u001b[0;34m(self)\u001b[0m\n\u001b[1;32m     33\u001b[0m \u001b[0;34m\u001b[0m\u001b[0m\n\u001b[1;32m     34\u001b[0m     \u001b[0;32mdef\u001b[0m \u001b[0mget_request\u001b[0m\u001b[0;34m(\u001b[0m\u001b[0mself\u001b[0m\u001b[0;34m)\u001b[0m\u001b[0;34m:\u001b[0m\u001b[0;34m\u001b[0m\u001b[0;34m\u001b[0m\u001b[0m\n\u001b[0;32m---> 35\u001b[0;31m         self.nba_response = NBAStatsHTTP().send_api_request(\n\u001b[0m\u001b[1;32m     36\u001b[0m             \u001b[0mendpoint\u001b[0m\u001b[0;34m=\u001b[0m\u001b[0mself\u001b[0m\u001b[0;34m.\u001b[0m\u001b[0mendpoint\u001b[0m\u001b[0;34m,\u001b[0m\u001b[0;34m\u001b[0m\u001b[0;34m\u001b[0m\u001b[0m\n\u001b[1;32m     37\u001b[0m             \u001b[0mparameters\u001b[0m\u001b[0;34m=\u001b[0m\u001b[0mself\u001b[0m\u001b[0;34m.\u001b[0m\u001b[0mparameters\u001b[0m\u001b[0;34m,\u001b[0m\u001b[0;34m\u001b[0m\u001b[0;34m\u001b[0m\u001b[0m\n",
            "\u001b[0;32m~/miniconda3/envs/sports-analytics/lib/python3.9/site-packages/nba_api/library/http.py\u001b[0m in \u001b[0;36msend_api_request\u001b[0;34m(self, endpoint, parameters, referer, proxy, headers, timeout, raise_exception_on_error)\u001b[0m\n\u001b[1;32m    128\u001b[0m \u001b[0;34m\u001b[0m\u001b[0m\n\u001b[1;32m    129\u001b[0m         \u001b[0;32mif\u001b[0m \u001b[0;32mnot\u001b[0m \u001b[0mcontents\u001b[0m\u001b[0;34m:\u001b[0m\u001b[0;34m\u001b[0m\u001b[0;34m\u001b[0m\u001b[0m\n\u001b[0;32m--> 130\u001b[0;31m             \u001b[0mresponse\u001b[0m \u001b[0;34m=\u001b[0m \u001b[0mrequests\u001b[0m\u001b[0;34m.\u001b[0m\u001b[0mget\u001b[0m\u001b[0;34m(\u001b[0m\u001b[0murl\u001b[0m\u001b[0;34m=\u001b[0m\u001b[0mbase_url\u001b[0m\u001b[0;34m,\u001b[0m \u001b[0mparams\u001b[0m\u001b[0;34m=\u001b[0m\u001b[0mparameters\u001b[0m\u001b[0;34m,\u001b[0m \u001b[0mheaders\u001b[0m\u001b[0;34m=\u001b[0m\u001b[0mrequest_headers\u001b[0m\u001b[0;34m,\u001b[0m \u001b[0mproxies\u001b[0m\u001b[0;34m=\u001b[0m\u001b[0mproxies\u001b[0m\u001b[0;34m,\u001b[0m \u001b[0mtimeout\u001b[0m\u001b[0;34m=\u001b[0m\u001b[0mtimeout\u001b[0m\u001b[0;34m)\u001b[0m\u001b[0;34m\u001b[0m\u001b[0;34m\u001b[0m\u001b[0m\n\u001b[0m\u001b[1;32m    131\u001b[0m             \u001b[0murl\u001b[0m \u001b[0;34m=\u001b[0m \u001b[0mresponse\u001b[0m\u001b[0;34m.\u001b[0m\u001b[0murl\u001b[0m\u001b[0;34m\u001b[0m\u001b[0;34m\u001b[0m\u001b[0m\n\u001b[1;32m    132\u001b[0m             \u001b[0mstatus_code\u001b[0m \u001b[0;34m=\u001b[0m \u001b[0mresponse\u001b[0m\u001b[0;34m.\u001b[0m\u001b[0mstatus_code\u001b[0m\u001b[0;34m\u001b[0m\u001b[0;34m\u001b[0m\u001b[0m\n",
            "\u001b[0;32m~/miniconda3/envs/sports-analytics/lib/python3.9/site-packages/requests/api.py\u001b[0m in \u001b[0;36mget\u001b[0;34m(url, params, **kwargs)\u001b[0m\n\u001b[1;32m     74\u001b[0m \u001b[0;34m\u001b[0m\u001b[0m\n\u001b[1;32m     75\u001b[0m     \u001b[0mkwargs\u001b[0m\u001b[0;34m.\u001b[0m\u001b[0msetdefault\u001b[0m\u001b[0;34m(\u001b[0m\u001b[0;34m'allow_redirects'\u001b[0m\u001b[0;34m,\u001b[0m \u001b[0;32mTrue\u001b[0m\u001b[0;34m)\u001b[0m\u001b[0;34m\u001b[0m\u001b[0;34m\u001b[0m\u001b[0m\n\u001b[0;32m---> 76\u001b[0;31m     \u001b[0;32mreturn\u001b[0m \u001b[0mrequest\u001b[0m\u001b[0;34m(\u001b[0m\u001b[0;34m'get'\u001b[0m\u001b[0;34m,\u001b[0m \u001b[0murl\u001b[0m\u001b[0;34m,\u001b[0m \u001b[0mparams\u001b[0m\u001b[0;34m=\u001b[0m\u001b[0mparams\u001b[0m\u001b[0;34m,\u001b[0m \u001b[0;34m**\u001b[0m\u001b[0mkwargs\u001b[0m\u001b[0;34m)\u001b[0m\u001b[0;34m\u001b[0m\u001b[0;34m\u001b[0m\u001b[0m\n\u001b[0m\u001b[1;32m     77\u001b[0m \u001b[0;34m\u001b[0m\u001b[0m\n\u001b[1;32m     78\u001b[0m \u001b[0;34m\u001b[0m\u001b[0m\n",
            "\u001b[0;32m~/miniconda3/envs/sports-analytics/lib/python3.9/site-packages/requests/api.py\u001b[0m in \u001b[0;36mrequest\u001b[0;34m(method, url, **kwargs)\u001b[0m\n\u001b[1;32m     59\u001b[0m     \u001b[0;31m# cases, and look like a memory leak in others.\u001b[0m\u001b[0;34m\u001b[0m\u001b[0;34m\u001b[0m\u001b[0;34m\u001b[0m\u001b[0m\n\u001b[1;32m     60\u001b[0m     \u001b[0;32mwith\u001b[0m \u001b[0msessions\u001b[0m\u001b[0;34m.\u001b[0m\u001b[0mSession\u001b[0m\u001b[0;34m(\u001b[0m\u001b[0;34m)\u001b[0m \u001b[0;32mas\u001b[0m \u001b[0msession\u001b[0m\u001b[0;34m:\u001b[0m\u001b[0;34m\u001b[0m\u001b[0;34m\u001b[0m\u001b[0m\n\u001b[0;32m---> 61\u001b[0;31m         \u001b[0;32mreturn\u001b[0m \u001b[0msession\u001b[0m\u001b[0;34m.\u001b[0m\u001b[0mrequest\u001b[0m\u001b[0;34m(\u001b[0m\u001b[0mmethod\u001b[0m\u001b[0;34m=\u001b[0m\u001b[0mmethod\u001b[0m\u001b[0;34m,\u001b[0m \u001b[0murl\u001b[0m\u001b[0;34m=\u001b[0m\u001b[0murl\u001b[0m\u001b[0;34m,\u001b[0m \u001b[0;34m**\u001b[0m\u001b[0mkwargs\u001b[0m\u001b[0;34m)\u001b[0m\u001b[0;34m\u001b[0m\u001b[0;34m\u001b[0m\u001b[0m\n\u001b[0m\u001b[1;32m     62\u001b[0m \u001b[0;34m\u001b[0m\u001b[0m\n\u001b[1;32m     63\u001b[0m \u001b[0;34m\u001b[0m\u001b[0m\n",
            "\u001b[0;32m~/miniconda3/envs/sports-analytics/lib/python3.9/site-packages/requests/sessions.py\u001b[0m in \u001b[0;36mrequest\u001b[0;34m(self, method, url, params, data, headers, cookies, files, auth, timeout, allow_redirects, proxies, hooks, stream, verify, cert, json)\u001b[0m\n\u001b[1;32m    540\u001b[0m         }\n\u001b[1;32m    541\u001b[0m         \u001b[0msend_kwargs\u001b[0m\u001b[0;34m.\u001b[0m\u001b[0mupdate\u001b[0m\u001b[0;34m(\u001b[0m\u001b[0msettings\u001b[0m\u001b[0;34m)\u001b[0m\u001b[0;34m\u001b[0m\u001b[0;34m\u001b[0m\u001b[0m\n\u001b[0;32m--> 542\u001b[0;31m         \u001b[0mresp\u001b[0m \u001b[0;34m=\u001b[0m \u001b[0mself\u001b[0m\u001b[0;34m.\u001b[0m\u001b[0msend\u001b[0m\u001b[0;34m(\u001b[0m\u001b[0mprep\u001b[0m\u001b[0;34m,\u001b[0m \u001b[0;34m**\u001b[0m\u001b[0msend_kwargs\u001b[0m\u001b[0;34m)\u001b[0m\u001b[0;34m\u001b[0m\u001b[0;34m\u001b[0m\u001b[0m\n\u001b[0m\u001b[1;32m    543\u001b[0m \u001b[0;34m\u001b[0m\u001b[0m\n\u001b[1;32m    544\u001b[0m         \u001b[0;32mreturn\u001b[0m \u001b[0mresp\u001b[0m\u001b[0;34m\u001b[0m\u001b[0;34m\u001b[0m\u001b[0m\n",
            "\u001b[0;32m~/miniconda3/envs/sports-analytics/lib/python3.9/site-packages/requests/sessions.py\u001b[0m in \u001b[0;36msend\u001b[0;34m(self, request, **kwargs)\u001b[0m\n\u001b[1;32m    653\u001b[0m \u001b[0;34m\u001b[0m\u001b[0m\n\u001b[1;32m    654\u001b[0m         \u001b[0;31m# Send the request\u001b[0m\u001b[0;34m\u001b[0m\u001b[0;34m\u001b[0m\u001b[0;34m\u001b[0m\u001b[0m\n\u001b[0;32m--> 655\u001b[0;31m         \u001b[0mr\u001b[0m \u001b[0;34m=\u001b[0m \u001b[0madapter\u001b[0m\u001b[0;34m.\u001b[0m\u001b[0msend\u001b[0m\u001b[0;34m(\u001b[0m\u001b[0mrequest\u001b[0m\u001b[0;34m,\u001b[0m \u001b[0;34m**\u001b[0m\u001b[0mkwargs\u001b[0m\u001b[0;34m)\u001b[0m\u001b[0;34m\u001b[0m\u001b[0;34m\u001b[0m\u001b[0m\n\u001b[0m\u001b[1;32m    656\u001b[0m \u001b[0;34m\u001b[0m\u001b[0m\n\u001b[1;32m    657\u001b[0m         \u001b[0;31m# Total elapsed time of the request (approximately)\u001b[0m\u001b[0;34m\u001b[0m\u001b[0;34m\u001b[0m\u001b[0;34m\u001b[0m\u001b[0m\n",
            "\u001b[0;32m~/miniconda3/envs/sports-analytics/lib/python3.9/site-packages/requests/adapters.py\u001b[0m in \u001b[0;36msend\u001b[0;34m(self, request, stream, timeout, verify, cert, proxies)\u001b[0m\n\u001b[1;32m    508\u001b[0m \u001b[0;34m\u001b[0m\u001b[0m\n\u001b[1;32m    509\u001b[0m             \u001b[0;32mif\u001b[0m \u001b[0misinstance\u001b[0m\u001b[0;34m(\u001b[0m\u001b[0me\u001b[0m\u001b[0;34m.\u001b[0m\u001b[0mreason\u001b[0m\u001b[0;34m,\u001b[0m \u001b[0m_ProxyError\u001b[0m\u001b[0;34m)\u001b[0m\u001b[0;34m:\u001b[0m\u001b[0;34m\u001b[0m\u001b[0;34m\u001b[0m\u001b[0m\n\u001b[0;32m--> 510\u001b[0;31m                 \u001b[0;32mraise\u001b[0m \u001b[0mProxyError\u001b[0m\u001b[0;34m(\u001b[0m\u001b[0me\u001b[0m\u001b[0;34m,\u001b[0m \u001b[0mrequest\u001b[0m\u001b[0;34m=\u001b[0m\u001b[0mrequest\u001b[0m\u001b[0;34m)\u001b[0m\u001b[0;34m\u001b[0m\u001b[0;34m\u001b[0m\u001b[0m\n\u001b[0m\u001b[1;32m    511\u001b[0m \u001b[0;34m\u001b[0m\u001b[0m\n\u001b[1;32m    512\u001b[0m             \u001b[0;32mif\u001b[0m \u001b[0misinstance\u001b[0m\u001b[0;34m(\u001b[0m\u001b[0me\u001b[0m\u001b[0;34m.\u001b[0m\u001b[0mreason\u001b[0m\u001b[0;34m,\u001b[0m \u001b[0m_SSLError\u001b[0m\u001b[0;34m)\u001b[0m\u001b[0;34m:\u001b[0m\u001b[0;34m\u001b[0m\u001b[0;34m\u001b[0m\u001b[0m\n",
            "\u001b[0;31mProxyError\u001b[0m: HTTPSConnectionPool(host='stats.nba.com', port=443): Max retries exceeded with url: /stats/commonplayerinfo?LeagueID=&PlayerID=76001 (Caused by ProxyError('Cannot connect to proxy.', OSError('Tunnel connection failed: 500 Internal Server Error')))"
          ]
        }
      ]
    },
    {
      "cell_type": "markdown",
      "metadata": {
        "id": "30JbhUNT1YBJ"
      },
      "source": [
        "### Extract Common Player Information for all Players"
      ],
      "id": "30JbhUNT1YBJ"
    },
    {
      "cell_type": "code",
      "metadata": {
        "id": "varying-executive"
      },
      "source": [
        "# Make sure to put appropiate number of workers given info provided in the output of the first cell\n",
        "cluster = LocalCluster(n_workers=4)\n",
        "c = Client(cluster)           \n",
        "player_ids = df_players['id'].values\n",
        "common_player_info_dfs = []\n",
        "for player_id in player_ids:\n",
        "    common_player_info_df = dask.delayed(get_common_player_info)(int(player_id), proxies)\n",
        "    common_player_info_dfs.append(common_player_info_df)\n",
        "\n",
        "common_player_info_dfs = dask.persist(*common_player_info_dfs)\n",
        "common_player_info_dfs = dask.compute(*common_player_info_dfs)\n",
        "common_player_info_df = pd.concat(common_player_info_dfs)\n",
        "\n",
        "common_player_info_df.head()\n",
        "c.shutdown()"
      ],
      "id": "varying-executive",
      "execution_count": null,
      "outputs": []
    }
  ]
}
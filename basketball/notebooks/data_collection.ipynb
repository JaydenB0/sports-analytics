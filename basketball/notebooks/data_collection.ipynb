{
 "cells": [
  {
   "cell_type": "markdown",
   "id": "utility-memphis",
   "metadata": {
    "colab_type": "text",
    "id": "view-in-github"
   },
   "source": [
    "<a href=\"https://colab.research.google.com/github/wyattowalsh/sports-analytics/blob/main/basketball/notebooks/data_collection.ipynb\" target=\"_parent\"><img src=\"https://colab.research.google.com/assets/colab-badge.svg\" alt=\"Open In Colab\"/></a>"
   ]
  },
  {
   "cell_type": "markdown",
   "id": "prompt-copper",
   "metadata": {
    "id": "prompt-copper"
   },
   "source": [
    "<h1 align='center'> Basketball Data Collection </h1>"
   ]
  },
  {
   "cell_type": "markdown",
   "id": "transparent-garlic",
   "metadata": {
    "id": "transparent-garlic"
   },
   "source": [
    "This notebook contains the associated work necessary to collect the data that composes the [***Kaggle Basketball Dataset*** (wyattowalsh/basketball)](https://www.kaggle.com/wyattowalsh/basketball) and serves as the foundation for the [basketball related projects](https://github.com/wyattowalsh/sports-analytics/tree/main/basketball) within my [sports analytics GitHub repository](https://github.com/wyattowalsh/sports-analytics).\n",
    "\n",
    "One of the goals for the data collection component of this project is to produce a `robust`, *organized* dataset that can grow to as **large of a scale** as possible. You can find an explanation of my solution for storing the files related to the [***Basketball Dataset***](https://www.kaggle.com/wyattowalsh/basketball) below.\n",
    "\n",
    "<img src=\"https://unsplash.com/photos/Kv-gAzpUSRg/download?force=true\">\n",
    "\n",
    "## Overview\n",
    "\n",
    "***Kaggle*** offers many formats of which one can save files to a dataset, which include: `CSV`, `JSON`, `SQLite`, and `Archives`, among others. The platform essentially acts similarly to industrial cloud solutions like *Google Cloud Platform's* (**GCP**) ***Cloud Storage*** or *Amazon Web Service's* (**AWS**) ***S3*** albeit with a **100GB** storage capacity. ***Kaggle*** datasets as well as these industrial solutions can be considered as broad object/file storage and in certain data engineering paradigms can serve as data lakes. \n",
    "\n",
    "It seems that many state-of-the-art (SOTA) data storage solutions pivot around an organizational-wide data lake (of which itself allows for general object storage) that has multiple inputs (*\"tributaries\"*) both streaming into and routinely added to the overall lake. One benefit of this paradigm is that the lake facilitates the storage of both structured (tabular) and unstructured (image, video, audio, text, etc) data. This can prove useful because, as time progresses, new techniques for extracting useful information from unstructured data can be utilized. Thus it also seems like a good idea to hold onto all extracted data, if possible. \n",
    "\n",
    "***Kaggle*** datasets can serve as data lakes through the archival process or simply by storing data files in their raw file format. This certainly serves as a strong foundation for building a &#8212; one day in the future &#8212; <b><i>\"big data\"</i></b> collection. \n",
    "\n",
    "However, there is further work that can be done in configuring ***Kaggle*** datasets to enable additional platform functionality as well as improved storage efficiency. Structured data, whether structured upon extraction or structured through some pre-processing, can be stored in a ***SQLite*** database (`.sqlite` file type) as opposed to storing individual files such as `CSVs` or `JSONs` within the dataset. Thus, a single database file is stored as an object within the dataset, enabling additional functionality. One easily discerned advantage with storing in ***SQLite*** is that histograms of the distribution of across continuous variables are given directly within ***Kaggle***. \n",
    "\n",
    "As this project moves forward, I hope to collect a large collection of both structured and unstructured data. I hope that the ***SQLite*** database (`basketball.sqlite`) can serve to house the structured data in an efficient, useful format, similarly to the [***European Soccer Database***](https://www.kaggle.com/hugomathien/soccer)."
   ]
  },
  {
   "cell_type": "markdown",
   "id": "_a7HBcMWyUZl",
   "metadata": {
    "id": "_a7HBcMWyUZl"
   },
   "source": [
    "## View System Information"
   ]
  },
  {
   "cell_type": "code",
   "execution_count": 1,
   "id": "7MItZ0I0qReG",
   "metadata": {
    "colab": {
     "base_uri": "https://localhost:8080/"
    },
    "id": "7MItZ0I0qReG",
    "outputId": "84fa31d3-1818-4901-bfc2-dc990ed7110e"
   },
   "outputs": [
    {
     "name": "stdout",
     "output_type": "stream",
     "text": [
      "********************** CUDA Version ********************** \n",
      " - \n",
      "\n",
      "nvcc: NVIDIA (R) Cuda compiler driver\n",
      "Copyright (c) 2005-2020 NVIDIA Corporation\n",
      "Built on Wed_Jul_22_19:09:09_PDT_2020\n",
      "Cuda compilation tools, release 11.0, V11.0.221\n",
      "Build cuda_11.0_bu.TC445_37.28845127_0\n",
      "********************** CPU Info ********************** \n",
      " - \n",
      "\n",
      "processor\t: 0\n",
      "vendor_id\t: GenuineIntel\n",
      "cpu family\t: 6\n",
      "model\t\t: 63\n",
      "model name\t: Intel(R) Xeon(R) CPU @ 2.30GHz\n",
      "stepping\t: 0\n",
      "microcode\t: 0x1\n",
      "cpu MHz\t\t: 2299.998\n",
      "cache size\t: 46080 KB\n",
      "physical id\t: 0\n",
      "siblings\t: 4\n",
      "core id\t\t: 0\n",
      "cpu cores\t: 2\n",
      "apicid\t\t: 0\n",
      "initial apicid\t: 0\n",
      "fpu\t\t: yes\n",
      "fpu_exception\t: yes\n",
      "cpuid level\t: 13\n",
      "wp\t\t: yes\n",
      "flags\t\t: fpu vme de pse tsc msr pae mce cx8 apic sep mtrr pge mca cmov pat pse36 clflush mmx fxsr sse sse2 ss ht syscall nx pdpe1gb rdtscp lm constant_tsc rep_good nopl xtopology nonstop_tsc cpuid tsc_known_freq pni pclmulqdq ssse3 fma cx16 pcid sse4_1 sse4_2 x2apic movbe popcnt aes xsave avx f16c rdrand hypervisor lahf_lm abm invpcid_single ssbd ibrs ibpb stibp fsgsbase tsc_adjust bmi1 avx2 smep bmi2 erms invpcid xsaveopt arat md_clear arch_capabilities\n",
      "bugs\t\t: cpu_meltdown spectre_v1 spectre_v2 spec_store_bypass l1tf mds swapgs\n",
      "bogomips\t: 4599.99\n",
      "clflush size\t: 64\n",
      "cache_alignment\t: 64\n",
      "address sizes\t: 46 bits physical, 48 bits virtual\n",
      "power management:\n",
      "\n",
      "processor\t: 1\n",
      "vendor_id\t: GenuineIntel\n",
      "cpu family\t: 6\n",
      "model\t\t: 63\n",
      "model name\t: Intel(R) Xeon(R) CPU @ 2.30GHz\n",
      "stepping\t: 0\n",
      "microcode\t: 0x1\n",
      "cpu MHz\t\t: 2299.998\n",
      "cache size\t: 46080 KB\n",
      "physical id\t: 0\n",
      "siblings\t: 4\n",
      "core id\t\t: 1\n",
      "cpu cores\t: 2\n",
      "apicid\t\t: 2\n",
      "initial apicid\t: 2\n",
      "fpu\t\t: yes\n",
      "fpu_exception\t: yes\n",
      "cpuid level\t: 13\n",
      "wp\t\t: yes\n",
      "flags\t\t: fpu vme de pse tsc msr pae mce cx8 apic sep mtrr pge mca cmov pat pse36 clflush mmx fxsr sse sse2 ss ht syscall nx pdpe1gb rdtscp lm constant_tsc rep_good nopl xtopology nonstop_tsc cpuid tsc_known_freq pni pclmulqdq ssse3 fma cx16 pcid sse4_1 sse4_2 x2apic movbe popcnt aes xsave avx f16c rdrand hypervisor lahf_lm abm invpcid_single ssbd ibrs ibpb stibp fsgsbase tsc_adjust bmi1 avx2 smep bmi2 erms invpcid xsaveopt arat md_clear arch_capabilities\n",
      "bugs\t\t: cpu_meltdown spectre_v1 spectre_v2 spec_store_bypass l1tf mds swapgs\n",
      "bogomips\t: 4599.99\n",
      "clflush size\t: 64\n",
      "cache_alignment\t: 64\n",
      "address sizes\t: 46 bits physical, 48 bits virtual\n",
      "power management:\n",
      "\n",
      "processor\t: 2\n",
      "vendor_id\t: GenuineIntel\n",
      "cpu family\t: 6\n",
      "model\t\t: 63\n",
      "model name\t: Intel(R) Xeon(R) CPU @ 2.30GHz\n",
      "stepping\t: 0\n",
      "microcode\t: 0x1\n",
      "cpu MHz\t\t: 2299.998\n",
      "cache size\t: 46080 KB\n",
      "physical id\t: 0\n",
      "siblings\t: 4\n",
      "core id\t\t: 0\n",
      "cpu cores\t: 2\n",
      "apicid\t\t: 1\n",
      "initial apicid\t: 1\n",
      "fpu\t\t: yes\n",
      "fpu_exception\t: yes\n",
      "cpuid level\t: 13\n",
      "wp\t\t: yes\n",
      "flags\t\t: fpu vme de pse tsc msr pae mce cx8 apic sep mtrr pge mca cmov pat pse36 clflush mmx fxsr sse sse2 ss ht syscall nx pdpe1gb rdtscp lm constant_tsc rep_good nopl xtopology nonstop_tsc cpuid tsc_known_freq pni pclmulqdq ssse3 fma cx16 pcid sse4_1 sse4_2 x2apic movbe popcnt aes xsave avx f16c rdrand hypervisor lahf_lm abm invpcid_single ssbd ibrs ibpb stibp fsgsbase tsc_adjust bmi1 avx2 smep bmi2 erms invpcid xsaveopt arat md_clear arch_capabilities\n",
      "bugs\t\t: cpu_meltdown spectre_v1 spectre_v2 spec_store_bypass l1tf mds swapgs\n",
      "bogomips\t: 4599.99\n",
      "clflush size\t: 64\n",
      "cache_alignment\t: 64\n",
      "address sizes\t: 46 bits physical, 48 bits virtual\n",
      "power management:\n",
      "\n",
      "processor\t: 3\n",
      "vendor_id\t: GenuineIntel\n",
      "cpu family\t: 6\n",
      "model\t\t: 63\n",
      "model name\t: Intel(R) Xeon(R) CPU @ 2.30GHz\n",
      "stepping\t: 0\n",
      "microcode\t: 0x1\n",
      "cpu MHz\t\t: 2299.998\n",
      "cache size\t: 46080 KB\n",
      "physical id\t: 0\n",
      "siblings\t: 4\n",
      "core id\t\t: 1\n",
      "cpu cores\t: 2\n",
      "apicid\t\t: 3\n",
      "initial apicid\t: 3\n",
      "fpu\t\t: yes\n",
      "fpu_exception\t: yes\n",
      "cpuid level\t: 13\n",
      "wp\t\t: yes\n",
      "flags\t\t: fpu vme de pse tsc msr pae mce cx8 apic sep mtrr pge mca cmov pat pse36 clflush mmx fxsr sse sse2 ss ht syscall nx pdpe1gb rdtscp lm constant_tsc rep_good nopl xtopology nonstop_tsc cpuid tsc_known_freq pni pclmulqdq ssse3 fma cx16 pcid sse4_1 sse4_2 x2apic movbe popcnt aes xsave avx f16c rdrand hypervisor lahf_lm abm invpcid_single ssbd ibrs ibpb stibp fsgsbase tsc_adjust bmi1 avx2 smep bmi2 erms invpcid xsaveopt arat md_clear arch_capabilities\n",
      "bugs\t\t: cpu_meltdown spectre_v1 spectre_v2 spec_store_bypass l1tf mds swapgs\n",
      "bogomips\t: 4599.99\n",
      "clflush size\t: 64\n",
      "cache_alignment\t: 64\n",
      "address sizes\t: 46 bits physical, 48 bits virtual\n",
      "power management:\n",
      "\n",
      "********************** CPU Count ********************** \n",
      " - \n",
      "\n",
      "4\n",
      "********************** GPU Info ********************** \n",
      " - \n",
      "\n",
      "NVIDIA-SMI has failed because it couldn't communicate with the NVIDIA driver. Make sure that the latest NVIDIA driver is installed and running.\n",
      "\n",
      "********************** Python Version ********************** \n",
      " - \n",
      "\n",
      "Python 3.7.10\n"
     ]
    }
   ],
   "source": [
    "print(\"********************** CUDA Version ********************** \\n - \\n\")\n",
    "!nvcc --version\n",
    "print(\"********************** CPU Info ********************** \\n - \\n\")\n",
    "!cat /proc/cpuinfo\n",
    "print(\"********************** CPU Count ********************** \\n - \\n\")\n",
    "import os\n",
    "print(os.cpu_count())\n",
    "print(\"********************** GPU Info ********************** \\n - \\n\")\n",
    "!nvidia-smi\n",
    "print(\"********************** Python Version ********************** \\n - \\n\")\n",
    "!python -V"
   ]
  },
  {
   "cell_type": "markdown",
   "id": "historic-hardwood",
   "metadata": {
    "id": "historic-hardwood"
   },
   "source": [
    "## Prepare Development Environment"
   ]
  },
  {
   "cell_type": "markdown",
   "id": "VFV_otGvEOwF",
   "metadata": {
    "id": "VFV_otGvEOwF"
   },
   "source": [
    "### Clone Project Repository and Install Dependencies"
   ]
  },
  {
   "cell_type": "code",
   "execution_count": 25,
   "id": "superior-contents",
   "metadata": {
    "colab": {
     "base_uri": "https://localhost:8080/",
     "height": 1000
    },
    "id": "superior-contents",
    "outputId": "8f73b52a-3da5-4737-8363-2701d74cda7f"
   },
   "outputs": [
    {
     "name": "stdout",
     "output_type": "stream",
     "text": [
      "rm: cannot remove 'sample_data/': No such file or directory\n",
      "rm: cannot remove 'sports-analytics/': No such file or directory\n",
      "Cloning into 'sports-analytics'...\n",
      "remote: Enumerating objects: 321, done.\u001b[K\n",
      "remote: Counting objects: 100% (321/321), done.\u001b[K\n",
      "remote: Compressing objects: 100% (229/229), done.\u001b[K\n",
      "remote: Total 321 (delta 116), reused 223 (delta 51), pack-reused 0\u001b[K\n",
      "Receiving objects: 100% (321/321), 108.19 KiB | 2.35 MiB/s, done.\n",
      "Resolving deltas: 100% (116/116), done.\n",
      "/content/sports-analytics/basketball/notebooks\n",
      "Requirement already satisfied: numpy in /usr/local/lib/python3.7/dist-packages (from -r ../../dependencies/basketball/data_collection.txt (line 1)) (1.19.5)\n",
      "Requirement already satisfied: pandas in /usr/local/lib/python3.7/dist-packages (from -r ../../dependencies/basketball/data_collection.txt (line 2)) (1.1.5)\n",
      "Requirement already satisfied: seaborn in /usr/local/lib/python3.7/dist-packages (from -r ../../dependencies/basketball/data_collection.txt (line 3)) (0.11.1)\n",
      "Requirement already satisfied: matplotlib in /usr/local/lib/python3.7/dist-packages (from -r ../../dependencies/basketball/data_collection.txt (line 4)) (3.2.2)\n",
      "Requirement already satisfied: yapf in /usr/local/lib/python3.7/dist-packages (from -r ../../dependencies/basketball/data_collection.txt (line 5)) (0.31.0)\n",
      "Requirement already satisfied: isort in /usr/local/lib/python3.7/dist-packages (from -r ../../dependencies/basketball/data_collection.txt (line 6)) (5.8.0)\n",
      "Requirement already satisfied: kaggle in /usr/local/lib/python3.7/dist-packages (from -r ../../dependencies/basketball/data_collection.txt (line 7)) (1.5.10)\n",
      "Requirement already satisfied: distributed in /usr/local/lib/python3.7/dist-packages (from -r ../../dependencies/basketball/data_collection.txt (line 8)) (1.25.3)\n",
      "Requirement already satisfied: dask in /usr/local/lib/python3.7/dist-packages (from -r ../../dependencies/basketball/data_collection.txt (line 9)) (2.12.0)\n",
      "Requirement already satisfied: pyngrok in /usr/local/lib/python3.7/dist-packages (from -r ../../dependencies/basketball/data_collection.txt (line 10)) (5.0.4)\n",
      "Requirement already satisfied: nba-api in /usr/local/lib/python3.7/dist-packages (from -r ../../dependencies/basketball/data_collection.txt (line 11)) (1.1.9)\n",
      "Requirement already satisfied: pytz>=2017.2 in /usr/local/lib/python3.7/dist-packages (from pandas->-r ../../dependencies/basketball/data_collection.txt (line 2)) (2018.9)\n",
      "Requirement already satisfied: python-dateutil>=2.7.3 in /usr/local/lib/python3.7/dist-packages (from pandas->-r ../../dependencies/basketball/data_collection.txt (line 2)) (2.8.1)\n",
      "Requirement already satisfied: scipy>=1.0 in /usr/local/lib/python3.7/dist-packages (from seaborn->-r ../../dependencies/basketball/data_collection.txt (line 3)) (1.4.1)\n",
      "Requirement already satisfied: kiwisolver>=1.0.1 in /usr/local/lib/python3.7/dist-packages (from matplotlib->-r ../../dependencies/basketball/data_collection.txt (line 4)) (1.3.1)\n",
      "Requirement already satisfied: pyparsing!=2.0.4,!=2.1.2,!=2.1.6,>=2.0.1 in /usr/local/lib/python3.7/dist-packages (from matplotlib->-r ../../dependencies/basketball/data_collection.txt (line 4)) (2.4.7)\n",
      "Requirement already satisfied: cycler>=0.10 in /usr/local/lib/python3.7/dist-packages (from matplotlib->-r ../../dependencies/basketball/data_collection.txt (line 4)) (0.10.0)\n",
      "Requirement already satisfied: six>=1.10 in /usr/local/lib/python3.7/dist-packages (from kaggle->-r ../../dependencies/basketball/data_collection.txt (line 7)) (1.15.0)\n",
      "Requirement already satisfied: requests in /usr/local/lib/python3.7/dist-packages (from kaggle->-r ../../dependencies/basketball/data_collection.txt (line 7)) (2.23.0)\n",
      "Requirement already satisfied: certifi in /usr/local/lib/python3.7/dist-packages (from kaggle->-r ../../dependencies/basketball/data_collection.txt (line 7)) (2020.12.5)\n",
      "Requirement already satisfied: urllib3 in /usr/local/lib/python3.7/dist-packages (from kaggle->-r ../../dependencies/basketball/data_collection.txt (line 7)) (1.24.3)\n",
      "Requirement already satisfied: python-slugify in /usr/local/lib/python3.7/dist-packages (from kaggle->-r ../../dependencies/basketball/data_collection.txt (line 7)) (4.0.1)\n",
      "Requirement already satisfied: tqdm in /usr/local/lib/python3.7/dist-packages (from kaggle->-r ../../dependencies/basketball/data_collection.txt (line 7)) (4.41.1)\n",
      "Requirement already satisfied: toolz>=0.7.4 in /usr/local/lib/python3.7/dist-packages (from distributed->-r ../../dependencies/basketball/data_collection.txt (line 8)) (0.11.1)\n",
      "Requirement already satisfied: sortedcontainers!=2.0.0,!=2.0.1 in /usr/local/lib/python3.7/dist-packages (from distributed->-r ../../dependencies/basketball/data_collection.txt (line 8)) (2.3.0)\n",
      "Requirement already satisfied: pyyaml in /usr/local/lib/python3.7/dist-packages (from distributed->-r ../../dependencies/basketball/data_collection.txt (line 8)) (3.13)\n",
      "Requirement already satisfied: tornado>=4.5.1 in /usr/local/lib/python3.7/dist-packages (from distributed->-r ../../dependencies/basketball/data_collection.txt (line 8)) (5.1.1)\n",
      "Requirement already satisfied: click>=6.6 in /usr/local/lib/python3.7/dist-packages (from distributed->-r ../../dependencies/basketball/data_collection.txt (line 8)) (7.1.2)\n",
      "Requirement already satisfied: cloudpickle>=0.2.2 in /usr/local/lib/python3.7/dist-packages (from distributed->-r ../../dependencies/basketball/data_collection.txt (line 8)) (1.3.0)\n",
      "Requirement already satisfied: msgpack in /usr/local/lib/python3.7/dist-packages (from distributed->-r ../../dependencies/basketball/data_collection.txt (line 8)) (1.0.2)\n",
      "Requirement already satisfied: tblib in /usr/local/lib/python3.7/dist-packages (from distributed->-r ../../dependencies/basketball/data_collection.txt (line 8)) (1.7.0)\n",
      "Requirement already satisfied: zict>=0.1.3 in /usr/local/lib/python3.7/dist-packages (from distributed->-r ../../dependencies/basketball/data_collection.txt (line 8)) (2.0.0)\n",
      "Requirement already satisfied: psutil>=5.0 in /usr/local/lib/python3.7/dist-packages (from distributed->-r ../../dependencies/basketball/data_collection.txt (line 8)) (5.8.0)\n",
      "Requirement already satisfied: chardet<4,>=3.0.2 in /usr/local/lib/python3.7/dist-packages (from requests->kaggle->-r ../../dependencies/basketball/data_collection.txt (line 7)) (3.0.4)\n",
      "Requirement already satisfied: idna<3,>=2.5 in /usr/local/lib/python3.7/dist-packages (from requests->kaggle->-r ../../dependencies/basketball/data_collection.txt (line 7)) (2.10)\n",
      "Requirement already satisfied: text-unidecode>=1.3 in /usr/local/lib/python3.7/dist-packages (from python-slugify->kaggle->-r ../../dependencies/basketball/data_collection.txt (line 7)) (1.3)\n",
      "Requirement already satisfied: heapdict in /usr/local/lib/python3.7/dist-packages (from zict>=0.1.3->distributed->-r ../../dependencies/basketball/data_collection.txt (line 8)) (1.0.1)\n",
      "Collecting dask\n",
      "\u001b[?25l  Downloading https://files.pythonhosted.org/packages/2e/86/95faa4a9c1f7fbfa2df2ae9e7e1a11349cb97a81e2f38ff9dda301606882/dask-2021.3.0-py3-none-any.whl (925kB)\n",
      "\u001b[K     |████████████████████████████████| 931kB 3.6MB/s \n",
      "\u001b[?25hRequirement already satisfied, skipping upgrade: pyyaml in /usr/local/lib/python3.7/dist-packages (from dask) (3.13)\n",
      "Installing collected packages: dask\n",
      "  Found existing installation: dask 2.12.0\n",
      "    Uninstalling dask-2.12.0:\n",
      "      Successfully uninstalled dask-2.12.0\n",
      "Successfully installed dask-2021.3.0\n"
     ]
    },
    {
     "data": {
      "application/vnd.colab-display-data+json": {
       "pip_warning": {
        "packages": [
         "dask"
        ]
       }
      }
     },
     "metadata": {
      "tags": []
     },
     "output_type": "display_data"
    },
    {
     "name": "stdout",
     "output_type": "stream",
     "text": [
      "Collecting distributed\n",
      "\u001b[?25l  Downloading https://files.pythonhosted.org/packages/96/b7/f58dd1e30f940a8b38de10f5d92b2fce08f38dcba3eb1ddb017260588ed4/distributed-2021.3.0-py3-none-any.whl (675kB)\n",
      "\u001b[K     |████████████████████████████████| 675kB 5.8MB/s \n",
      "\u001b[?25hCollecting cloudpickle>=1.5.0\n",
      "  Downloading https://files.pythonhosted.org/packages/e7/e3/898487e5dbeb612054cf2e0c188463acb358167fef749c53c8bb8918cea1/cloudpickle-1.6.0-py3-none-any.whl\n",
      "Requirement already satisfied, skipping upgrade: toolz>=0.8.2 in /usr/local/lib/python3.7/dist-packages (from distributed) (0.11.1)\n",
      "Requirement already satisfied, skipping upgrade: tblib>=1.6.0 in /usr/local/lib/python3.7/dist-packages (from distributed) (1.7.0)\n",
      "Requirement already satisfied, skipping upgrade: pyyaml in /usr/local/lib/python3.7/dist-packages (from distributed) (3.13)\n",
      "Requirement already satisfied, skipping upgrade: msgpack>=0.6.0 in /usr/local/lib/python3.7/dist-packages (from distributed) (1.0.2)\n",
      "Requirement already satisfied, skipping upgrade: tornado>=5; python_version < \"3.8\" in /usr/local/lib/python3.7/dist-packages (from distributed) (5.1.1)\n",
      "Requirement already satisfied, skipping upgrade: dask>=2021.03.0 in /usr/local/lib/python3.7/dist-packages (from distributed) (2021.3.0)\n",
      "Requirement already satisfied, skipping upgrade: click>=6.6 in /usr/local/lib/python3.7/dist-packages (from distributed) (7.1.2)\n",
      "Requirement already satisfied, skipping upgrade: setuptools in /usr/local/lib/python3.7/dist-packages (from distributed) (54.1.2)\n",
      "Requirement already satisfied, skipping upgrade: psutil>=5.0 in /usr/local/lib/python3.7/dist-packages (from distributed) (5.8.0)\n",
      "Requirement already satisfied, skipping upgrade: sortedcontainers!=2.0.0,!=2.0.1 in /usr/local/lib/python3.7/dist-packages (from distributed) (2.3.0)\n",
      "Requirement already satisfied, skipping upgrade: zict>=0.1.3 in /usr/local/lib/python3.7/dist-packages (from distributed) (2.0.0)\n",
      "Requirement already satisfied, skipping upgrade: heapdict in /usr/local/lib/python3.7/dist-packages (from zict>=0.1.3->distributed) (1.0.1)\n",
      "Installing collected packages: cloudpickle, distributed\n",
      "  Found existing installation: cloudpickle 1.3.0\n",
      "    Uninstalling cloudpickle-1.3.0:\n",
      "      Successfully uninstalled cloudpickle-1.3.0\n",
      "  Found existing installation: distributed 1.25.3\n",
      "    Uninstalling distributed-1.25.3:\n",
      "      Successfully uninstalled distributed-1.25.3\n",
      "Successfully installed cloudpickle-1.6.0 distributed-2021.3.0\n"
     ]
    },
    {
     "data": {
      "application/vnd.colab-display-data+json": {
       "pip_warning": {
        "packages": [
         "cloudpickle",
         "distributed"
        ]
       }
      }
     },
     "metadata": {
      "tags": []
     },
     "output_type": "display_data"
    }
   ],
   "source": [
    "# remove sample data and clone repo\n",
    "!rm -r sample_data/\n",
    "!rm -r sports-analytics/\n",
    "!git clone https://github.com/wyattowalsh/sports-analytics.git\n",
    "\n",
    "# change directory to directory that contains this notebook\n",
    "%cd /content/sports-analytics/basketball/notebooks/\n",
    "\n",
    "# install dependencies\n",
    "!pip install -r ../../dependencies/basketball/data_collection.txt"
   ]
  },
  {
   "cell_type": "markdown",
   "id": "promotional-format",
   "metadata": {
    "id": "promotional-format"
   },
   "source": [
    "### Import Dependencies and Enable Tools"
   ]
  },
  {
   "cell_type": "code",
   "execution_count": 2,
   "id": "racial-indianapolis",
   "metadata": {
    "ExecuteTime": {
     "end_time": "2021-03-22T09:04:40.041981Z",
     "start_time": "2021-03-22T09:04:38.222772Z"
    },
    "colab": {
     "base_uri": "https://localhost:8080/",
     "height": 89,
     "resources": {
      "http://localhost:8080/nbextensions/google.colab/files.js": {
       "data": "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",
       "headers": [
        [
         "content-type",
         "application/javascript"
        ]
       ],
       "ok": true,
       "status": 200,
       "status_text": ""
      }
     }
    },
    "id": "racial-indianapolis",
    "outputId": "88c38215-3a96-4c4b-ff7f-b07c6f5051a7"
   },
   "outputs": [],
   "source": [
    "# nba_api dependencies\n",
    "from nba_api.stats.static import players, teams\n",
    "from nba_api.stats.endpoints import commonplayerinfo, playercareerstats\n",
    "\n",
    "# datascience stack\n",
    "import pandas as pd \n",
    "import numpy as np\n",
    "import matplotlib.pyplot as plt\n",
    "import seaborn\n",
    "import sqlite3 as sql\n",
    "\n",
    "# system utility stack\n",
    "import os\n",
    "import time\n",
    "import urllib\n",
    "from functools import partial\n",
    "\n",
    "# # Upload kaggle.json to /content/\n",
    "# from google.colab import files\n",
    "# uploaded = files.upload()\n",
    "\n",
    "# # Move and change permissions as needed, allowing for import\n",
    "# !mkdir -p ~/.kaggle/ && mv kaggle.json ~/.kaggle/ && chmod 600 ~/.kaggle/kaggle.json\n",
    "# import kaggle\n",
    "\n",
    "# # change directory to directory that contains this notebook\n",
    "# %cd /content/sports-analytics/basketball/notebooks/\n",
    "\n",
    "# # utilize Colab Monitor\n",
    "# from urllib.request import urlopen\n",
    "# exec(urlopen(\"http://colab-monitor.smankusors.com/track.py\").read())\n",
    "# _colabMonitor = ColabMonitor().start()"
   ]
  },
  {
   "cell_type": "markdown",
   "id": "f10sxJf0y-1o",
   "metadata": {
    "id": "f10sxJf0y-1o"
   },
   "source": [
    "## Collect Data"
   ]
  },
  {
   "cell_type": "markdown",
   "id": "iI8M_ZCxzB8b",
   "metadata": {
    "id": "iI8M_ZCxzB8b"
   },
   "source": [
    "### Connect to Database"
   ]
  },
  {
   "cell_type": "code",
   "execution_count": 3,
   "id": "executed-amino",
   "metadata": {
    "ExecuteTime": {
     "end_time": "2021-03-22T09:04:40.719912Z",
     "start_time": "2021-03-22T09:04:40.710193Z"
    },
    "id": "executed-amino"
   },
   "outputs": [],
   "source": [
    "conn = sql.connect('../data/basketball.sqlite')"
   ]
  },
  {
   "cell_type": "markdown",
   "id": "O-QokkOkzGw_",
   "metadata": {
    "id": "O-QokkOkzGw_"
   },
   "source": [
    "### Players"
   ]
  },
  {
   "cell_type": "markdown",
   "id": "ruQ-P6YiE3I8",
   "metadata": {
    "id": "ruQ-P6YiE3I8"
   },
   "source": [
    "#### Get Players DataFrame and Type ID as String"
   ]
  },
  {
   "cell_type": "code",
   "execution_count": 5,
   "id": "operating-truth",
   "metadata": {
    "colab": {
     "base_uri": "https://localhost:8080/",
     "height": 419
    },
    "id": "operating-truth",
    "outputId": "43a406ab-60c1-4da1-80b2-e70de0ea09c2"
   },
   "outputs": [
    {
     "data": {
      "text/html": [
       "<div>\n",
       "<style scoped>\n",
       "    .dataframe tbody tr th:only-of-type {\n",
       "        vertical-align: middle;\n",
       "    }\n",
       "\n",
       "    .dataframe tbody tr th {\n",
       "        vertical-align: top;\n",
       "    }\n",
       "\n",
       "    .dataframe thead th {\n",
       "        text-align: right;\n",
       "    }\n",
       "</style>\n",
       "<table border=\"1\" class=\"dataframe\">\n",
       "  <thead>\n",
       "    <tr style=\"text-align: right;\">\n",
       "      <th></th>\n",
       "      <th>id</th>\n",
       "      <th>full_name</th>\n",
       "      <th>first_name</th>\n",
       "      <th>last_name</th>\n",
       "      <th>is_active</th>\n",
       "    </tr>\n",
       "  </thead>\n",
       "  <tbody>\n",
       "    <tr>\n",
       "      <th>0</th>\n",
       "      <td>76001</td>\n",
       "      <td>Alaa Abdelnaby</td>\n",
       "      <td>Alaa</td>\n",
       "      <td>Abdelnaby</td>\n",
       "      <td>False</td>\n",
       "    </tr>\n",
       "    <tr>\n",
       "      <th>1</th>\n",
       "      <td>76002</td>\n",
       "      <td>Zaid Abdul-Aziz</td>\n",
       "      <td>Zaid</td>\n",
       "      <td>Abdul-Aziz</td>\n",
       "      <td>False</td>\n",
       "    </tr>\n",
       "    <tr>\n",
       "      <th>2</th>\n",
       "      <td>76003</td>\n",
       "      <td>Kareem Abdul-Jabbar</td>\n",
       "      <td>Kareem</td>\n",
       "      <td>Abdul-Jabbar</td>\n",
       "      <td>False</td>\n",
       "    </tr>\n",
       "    <tr>\n",
       "      <th>3</th>\n",
       "      <td>51</td>\n",
       "      <td>Mahmoud Abdul-Rauf</td>\n",
       "      <td>Mahmoud</td>\n",
       "      <td>Abdul-Rauf</td>\n",
       "      <td>False</td>\n",
       "    </tr>\n",
       "    <tr>\n",
       "      <th>4</th>\n",
       "      <td>1505</td>\n",
       "      <td>Tariq Abdul-Wahad</td>\n",
       "      <td>Tariq</td>\n",
       "      <td>Abdul-Wahad</td>\n",
       "      <td>False</td>\n",
       "    </tr>\n",
       "    <tr>\n",
       "      <th>...</th>\n",
       "      <td>...</td>\n",
       "      <td>...</td>\n",
       "      <td>...</td>\n",
       "      <td>...</td>\n",
       "      <td>...</td>\n",
       "    </tr>\n",
       "    <tr>\n",
       "      <th>4496</th>\n",
       "      <td>1627790</td>\n",
       "      <td>Ante Zizic</td>\n",
       "      <td>Ante</td>\n",
       "      <td>Zizic</td>\n",
       "      <td>True</td>\n",
       "    </tr>\n",
       "    <tr>\n",
       "      <th>4497</th>\n",
       "      <td>78647</td>\n",
       "      <td>Jim Zoet</td>\n",
       "      <td>Jim</td>\n",
       "      <td>Zoet</td>\n",
       "      <td>False</td>\n",
       "    </tr>\n",
       "    <tr>\n",
       "      <th>4498</th>\n",
       "      <td>78648</td>\n",
       "      <td>Bill Zopf</td>\n",
       "      <td>Bill</td>\n",
       "      <td>Zopf</td>\n",
       "      <td>False</td>\n",
       "    </tr>\n",
       "    <tr>\n",
       "      <th>4499</th>\n",
       "      <td>1627826</td>\n",
       "      <td>Ivica Zubac</td>\n",
       "      <td>Ivica</td>\n",
       "      <td>Zubac</td>\n",
       "      <td>True</td>\n",
       "    </tr>\n",
       "    <tr>\n",
       "      <th>4500</th>\n",
       "      <td>78650</td>\n",
       "      <td>Matt Zunic</td>\n",
       "      <td>Matt</td>\n",
       "      <td>Zunic</td>\n",
       "      <td>False</td>\n",
       "    </tr>\n",
       "  </tbody>\n",
       "</table>\n",
       "<p>4501 rows × 5 columns</p>\n",
       "</div>"
      ],
      "text/plain": [
       "           id            full_name first_name     last_name  is_active\n",
       "0       76001       Alaa Abdelnaby       Alaa     Abdelnaby      False\n",
       "1       76002      Zaid Abdul-Aziz       Zaid    Abdul-Aziz      False\n",
       "2       76003  Kareem Abdul-Jabbar     Kareem  Abdul-Jabbar      False\n",
       "3          51   Mahmoud Abdul-Rauf    Mahmoud    Abdul-Rauf      False\n",
       "4        1505    Tariq Abdul-Wahad      Tariq   Abdul-Wahad      False\n",
       "...       ...                  ...        ...           ...        ...\n",
       "4496  1627790           Ante Zizic       Ante         Zizic       True\n",
       "4497    78647             Jim Zoet        Jim          Zoet      False\n",
       "4498    78648            Bill Zopf       Bill          Zopf      False\n",
       "4499  1627826          Ivica Zubac      Ivica         Zubac       True\n",
       "4500    78650           Matt Zunic       Matt         Zunic      False\n",
       "\n",
       "[4501 rows x 5 columns]"
      ]
     },
     "execution_count": 5,
     "metadata": {
      "tags": []
     },
     "output_type": "execute_result"
    }
   ],
   "source": [
    "df_players = pd.DataFrame(players.get_players()).astype({'id': 'str'})\n",
    "df_players"
   ]
  },
  {
   "cell_type": "code",
   "execution_count": 6,
   "id": "controversial-browser",
   "metadata": {
    "colab": {
     "base_uri": "https://localhost:8080/"
    },
    "id": "controversial-browser",
    "outputId": "fc0be360-aa16-45dd-d0a2-67dd8a0e5f77"
   },
   "outputs": [
    {
     "name": "stdout",
     "output_type": "stream",
     "text": [
      "<class 'pandas.core.frame.DataFrame'>\n",
      "RangeIndex: 4501 entries, 0 to 4500\n",
      "Data columns (total 5 columns):\n",
      " #   Column      Non-Null Count  Dtype \n",
      "---  ------      --------------  ----- \n",
      " 0   id          4501 non-null   object\n",
      " 1   full_name   4501 non-null   object\n",
      " 2   first_name  4501 non-null   object\n",
      " 3   last_name   4501 non-null   object\n",
      " 4   is_active   4501 non-null   bool  \n",
      "dtypes: bool(1), object(4)\n",
      "memory usage: 145.2+ KB\n"
     ]
    }
   ],
   "source": [
    "df_players.info()"
   ]
  },
  {
   "cell_type": "markdown",
   "id": "tCTlewUSQ20t",
   "metadata": {
    "id": "tCTlewUSQ20t"
   },
   "source": [
    "#### Add Dataframe as Table to Database, Unless it Already Exists"
   ]
  },
  {
   "cell_type": "code",
   "execution_count": 8,
   "id": "acute-trick",
   "metadata": {
    "id": "acute-trick"
   },
   "outputs": [],
   "source": [
    "try:\n",
    "    df_players.to_sql('Player', conn, index=False)\n",
    "except:\n",
    "    pass"
   ]
  },
  {
   "cell_type": "markdown",
   "id": "BTpP1K-CzTkS",
   "metadata": {
    "id": "BTpP1K-CzTkS"
   },
   "source": [
    "### Teams"
   ]
  },
  {
   "cell_type": "markdown",
   "id": "4jfJ9gvLREu4",
   "metadata": {
    "id": "4jfJ9gvLREu4"
   },
   "source": [
    "#### Get Teams DataFrame, Type ID as String and Convert Year to Datetime"
   ]
  },
  {
   "cell_type": "code",
   "execution_count": 9,
   "id": "apparent-president",
   "metadata": {
    "colab": {
     "base_uri": "https://localhost:8080/",
     "height": 0
    },
    "id": "apparent-president",
    "outputId": "85b93946-405e-4077-8c83-1740db941f35"
   },
   "outputs": [
    {
     "data": {
      "text/html": [
       "<div>\n",
       "<style scoped>\n",
       "    .dataframe tbody tr th:only-of-type {\n",
       "        vertical-align: middle;\n",
       "    }\n",
       "\n",
       "    .dataframe tbody tr th {\n",
       "        vertical-align: top;\n",
       "    }\n",
       "\n",
       "    .dataframe thead th {\n",
       "        text-align: right;\n",
       "    }\n",
       "</style>\n",
       "<table border=\"1\" class=\"dataframe\">\n",
       "  <thead>\n",
       "    <tr style=\"text-align: right;\">\n",
       "      <th></th>\n",
       "      <th>id</th>\n",
       "      <th>full_name</th>\n",
       "      <th>abbreviation</th>\n",
       "      <th>nickname</th>\n",
       "      <th>city</th>\n",
       "      <th>state</th>\n",
       "      <th>year_founded</th>\n",
       "    </tr>\n",
       "  </thead>\n",
       "  <tbody>\n",
       "    <tr>\n",
       "      <th>0</th>\n",
       "      <td>1610612737</td>\n",
       "      <td>Atlanta Hawks</td>\n",
       "      <td>ATL</td>\n",
       "      <td>Hawks</td>\n",
       "      <td>Atlanta</td>\n",
       "      <td>Atlanta</td>\n",
       "      <td>1949</td>\n",
       "    </tr>\n",
       "    <tr>\n",
       "      <th>1</th>\n",
       "      <td>1610612738</td>\n",
       "      <td>Boston Celtics</td>\n",
       "      <td>BOS</td>\n",
       "      <td>Celtics</td>\n",
       "      <td>Boston</td>\n",
       "      <td>Massachusetts</td>\n",
       "      <td>1946</td>\n",
       "    </tr>\n",
       "    <tr>\n",
       "      <th>2</th>\n",
       "      <td>1610612739</td>\n",
       "      <td>Cleveland Cavaliers</td>\n",
       "      <td>CLE</td>\n",
       "      <td>Cavaliers</td>\n",
       "      <td>Cleveland</td>\n",
       "      <td>Ohio</td>\n",
       "      <td>1970</td>\n",
       "    </tr>\n",
       "    <tr>\n",
       "      <th>3</th>\n",
       "      <td>1610612740</td>\n",
       "      <td>New Orleans Pelicans</td>\n",
       "      <td>NOP</td>\n",
       "      <td>Pelicans</td>\n",
       "      <td>New Orleans</td>\n",
       "      <td>Louisiana</td>\n",
       "      <td>2002</td>\n",
       "    </tr>\n",
       "    <tr>\n",
       "      <th>4</th>\n",
       "      <td>1610612741</td>\n",
       "      <td>Chicago Bulls</td>\n",
       "      <td>CHI</td>\n",
       "      <td>Bulls</td>\n",
       "      <td>Chicago</td>\n",
       "      <td>Illinois</td>\n",
       "      <td>1966</td>\n",
       "    </tr>\n",
       "  </tbody>\n",
       "</table>\n",
       "</div>"
      ],
      "text/plain": [
       "           id             full_name  ...          state year_founded\n",
       "0  1610612737         Atlanta Hawks  ...        Atlanta         1949\n",
       "1  1610612738        Boston Celtics  ...  Massachusetts         1946\n",
       "2  1610612739   Cleveland Cavaliers  ...           Ohio         1970\n",
       "3  1610612740  New Orleans Pelicans  ...      Louisiana         2002\n",
       "4  1610612741         Chicago Bulls  ...       Illinois         1966\n",
       "\n",
       "[5 rows x 7 columns]"
      ]
     },
     "execution_count": 9,
     "metadata": {
      "tags": []
     },
     "output_type": "execute_result"
    }
   ],
   "source": [
    "df_teams = pd.DataFrame(teams.get_teams()).astype({'id': 'str'})\n",
    "df_teams['year_founded'] =  pd.to_datetime(df_teams['year_founded'], format='%Y').dt.year # convert year to datetime type\n",
    "df_teams.head()"
   ]
  },
  {
   "cell_type": "code",
   "execution_count": 10,
   "id": "whole-cabin",
   "metadata": {
    "colab": {
     "base_uri": "https://localhost:8080/"
    },
    "id": "whole-cabin",
    "outputId": "812b621a-0910-4d56-b61c-5a94d5f0ed21",
    "scrolled": true
   },
   "outputs": [
    {
     "name": "stdout",
     "output_type": "stream",
     "text": [
      "<class 'pandas.core.frame.DataFrame'>\n",
      "RangeIndex: 30 entries, 0 to 29\n",
      "Data columns (total 7 columns):\n",
      " #   Column        Non-Null Count  Dtype \n",
      "---  ------        --------------  ----- \n",
      " 0   id            30 non-null     object\n",
      " 1   full_name     30 non-null     object\n",
      " 2   abbreviation  30 non-null     object\n",
      " 3   nickname      30 non-null     object\n",
      " 4   city          30 non-null     object\n",
      " 5   state         30 non-null     object\n",
      " 6   year_founded  30 non-null     int64 \n",
      "dtypes: int64(1), object(6)\n",
      "memory usage: 1.8+ KB\n"
     ]
    }
   ],
   "source": [
    "df_teams.info()"
   ]
  },
  {
   "cell_type": "markdown",
   "id": "n3NfRUuPRToY",
   "metadata": {
    "id": "n3NfRUuPRToY"
   },
   "source": [
    "#### Add Dataframe as Table to Database, Unless it Already Exists"
   ]
  },
  {
   "cell_type": "code",
   "execution_count": 11,
   "id": "wound-boston",
   "metadata": {
    "id": "wound-boston"
   },
   "outputs": [],
   "source": [
    "try:\n",
    "    df_teams.to_sql('Team', conn, index=False)\n",
    "except:\n",
    "    pass"
   ]
  },
  {
   "cell_type": "markdown",
   "id": "E50uAPjqzfdF",
   "metadata": {
    "id": "E50uAPjqzfdF"
   },
   "source": [
    "### Common Player Information"
   ]
  },
  {
   "cell_type": "code",
   "execution_count": null,
   "id": "JkUPoh2jfGuF",
   "metadata": {
    "ExecuteTime": {
     "start_time": "2021-03-22T09:07:51.408Z"
    },
    "code_folding": [
     20
    ],
    "id": "JkUPoh2jfGuF"
   },
   "outputs": [],
   "source": [
    "# define function to extract common player info for a single player\n",
    "def get_common_player_info(player_id, proxies):\n",
    "    # define helpful variables\n",
    "    no_res = True\n",
    "    proxy_collection_counter = 0\n",
    "    proxy_index = 0\n",
    "    # while no response\n",
    "    while no_res:\n",
    "        # try getting a response without a proxy\n",
    "        try:\n",
    "            res = commonplayerinfo.CommonPlayerInfo(player_id=player_id, timeout=3).get_data_frames()\n",
    "            no_res = False\n",
    "            print(player_id)\n",
    "            break\n",
    "        except:\n",
    "            # if that fails\n",
    "            while no_res:\n",
    "                # try getting with a certain proxy\n",
    "                try: \n",
    "                    res = commonplayerinfo.CommonPlayerInfo(player_id=player_id, proxy=\"http://\" + proxies[proxy_index], timeout=3).get_data_frames()\n",
    "                    no_res = False\n",
    "                    break\n",
    "                except:\n",
    "                    # if that fails, move on to next proxy unless out of proxies\n",
    "                    if (proxy_index + 1) >= len(proxies):\n",
    "                        # unless tried proxies 5 times\n",
    "                        if proxy_collection_counter < 6:\n",
    "                            # if out of proxies: get more proxies, fix counters, and try without a proxy again\n",
    "                            proxy_index = 0\n",
    "                            proxy_collection_counter = proxy_collection_counter + 1\n",
    "                            print(player_id, ' failed {} times'.format(proxy_collection_counter))\n",
    "                            proxies = [str(proxy).split('\\\\')[0][2:] for proxy in urllib.request.urlopen(\"https://api.proxyscrape.com/v2/?request=getproxies&protocol=http&timeout=1000&country=all&ssl=yes&anonymity=all&simplified=true\").readlines()]\n",
    "                            break\n",
    "                        else:\n",
    "                            return None\n",
    "                    else:\n",
    "                        proxy_index = proxy_index + 1\n",
    "                        \n",
    "    # merge the common player info and player headline stats and drop timeframe                   \n",
    "    res_df = pd.merge(res[0], res[1], how='left', left_on=['PERSON_ID', 'DISPLAY_FIRST_LAST'], right_on=['PLAYER_ID', 'PLAYER_NAME'])\n",
    "    res_df = res_df.drop(['TimeFrame'], axis=1)\n",
    "    return res_df\n",
    "\n",
    "# get proxies\n",
    "proxies = [str(proxy).split('\\\\')[0][2:] for proxy in urllib.request.urlopen(\"https://api.proxyscrape.com/v2/?request=getproxies&protocol=http&timeout=1000&country=all&ssl=yes&anonymity=all&simplified=true\").readlines()]\n",
    "\n",
    "# get common player info for each player in the db\n",
    "dfs = []\n",
    "player_ids = pd.read_sql('SELECT id FROM Player', conn).T.values[0]\n",
    "dfs = list(map(partial(get_common_player_info, proxies=proxies), player_ids))\n",
    "df = pd.concat(dfs)\n",
    "df.head()"
   ]
  },
  {
   "cell_type": "code",
   "execution_count": 6,
   "id": "driving-beach",
   "metadata": {
    "ExecuteTime": {
     "end_time": "2021-03-22T09:06:02.700150Z",
     "start_time": "2021-03-22T09:06:02.692943Z"
    }
   },
   "outputs": [
    {
     "data": {
      "text/plain": [
       "[]"
      ]
     },
     "execution_count": 6,
     "metadata": {},
     "output_type": "execute_result"
    }
   ],
   "source": [
    "list(dfs)"
   ]
  },
  {
   "cell_type": "code",
   "execution_count": 3,
   "id": "artificial-surgeon",
   "metadata": {},
   "outputs": [
    {
     "data": {
      "text/plain": [
       "'34.78.118.194:3128'"
      ]
     },
     "execution_count": 3,
     "metadata": {},
     "output_type": "execute_result"
    }
   ],
   "source": [
    "df.info()"
   ]
  },
  {
   "cell_type": "code",
   "execution_count": null,
   "id": "revised-reminder",
   "metadata": {},
   "outputs": [],
   "source": [
    "person_id -> id\n",
    "PLAYER_NAME x"
   ]
  },
  {
   "cell_type": "markdown",
   "id": "limited-nowhere",
   "metadata": {
    "colab": {
     "base_uri": "https://localhost:8080/"
    },
    "id": "XzgsoUv7k28o",
    "outputId": "2444cad9-6770-4af7-f0d8-3db3508fe70c"
   },
   "source": [
    "#### Add Data to Table in Database"
   ]
  },
  {
   "cell_type": "code",
   "execution_count": null,
   "id": "complicated-madison",
   "metadata": {},
   "outputs": [],
   "source": [
    "try:\n",
    "    df_teams.to_sql('Team', conn, index=False)\n",
    "except:\n",
    "    pass"
   ]
  },
  {
   "cell_type": "markdown",
   "id": "dimensional-plumbing",
   "metadata": {},
   "source": [
    "#### Upload to Kaggle"
   ]
  },
  {
   "cell_type": "code",
   "execution_count": null,
   "id": "restricted-terminal",
   "metadata": {},
   "outputs": [],
   "source": [
    "!kaggle datasets version -p ../data -m \"adding common player info\""
   ]
  },
  {
   "cell_type": "markdown",
   "id": "motivated-ethiopia",
   "metadata": {},
   "source": [
    "### Team Details"
   ]
  },
  {
   "cell_type": "code",
   "execution_count": null,
   "id": "square-pepper",
   "metadata": {},
   "outputs": [],
   "source": []
  }
 ],
 "metadata": {
  "colab": {
   "include_colab_link": true,
   "machine_shape": "hm",
   "name": "data_collection.ipynb",
   "provenance": []
  },
  "kernelspec": {
   "display_name": "Python [conda env:sports-analytics] *",
   "language": "python",
   "name": "conda-env-sports-analytics-py"
  },
  "language_info": {
   "codemirror_mode": {
    "name": "ipython",
    "version": 3
   },
   "file_extension": ".py",
   "mimetype": "text/x-python",
   "name": "python",
   "nbconvert_exporter": "python",
   "pygments_lexer": "ipython3",
   "version": "3.9.2"
  },
  "latex_envs": {
   "LaTeX_envs_menu_present": true,
   "autoclose": true,
   "autocomplete": true,
   "bibliofile": "biblio.bib",
   "cite_by": "apalike",
   "current_citInitial": 1,
   "eqLabelWithNumbers": true,
   "eqNumInitial": 1,
   "hotkeys": {
    "equation": "Ctrl-E",
    "itemize": "Ctrl-I"
   },
   "labels_anchors": false,
   "latex_user_defs": false,
   "report_style_numbering": false,
   "user_envs_cfg": false
  },
  "notify_time": "5",
  "toc": {
   "base_numbering": 1,
   "nav_menu": {},
   "number_sections": false,
   "sideBar": true,
   "skip_h1_title": true,
   "title_cell": "Table of Contents",
   "title_sidebar": "Contents",
   "toc_cell": false,
   "toc_position": {
    "height": "calc(100% - 180px)",
    "left": "10px",
    "top": "150px",
    "width": "384px"
   },
   "toc_section_display": true,
   "toc_window_display": true
  }
 },
 "nbformat": 4,
 "nbformat_minor": 5
}

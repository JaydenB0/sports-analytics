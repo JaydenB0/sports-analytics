{
  "nbformat": 4,
  "nbformat_minor": 5,
  "metadata": {
    "kernelspec": {
      "display_name": "Python [conda env:sports-analytics] *",
      "language": "python",
      "name": "conda-env-sports-analytics-py"
    },
    "language_info": {
      "codemirror_mode": {
        "name": "ipython",
        "version": 3
      },
      "file_extension": ".py",
      "mimetype": "text/x-python",
      "name": "python",
      "nbconvert_exporter": "python",
      "pygments_lexer": "ipython3",
      "version": "3.9.2"
    },
    "latex_envs": {
      "LaTeX_envs_menu_present": true,
      "autoclose": true,
      "autocomplete": true,
      "bibliofile": "biblio.bib",
      "cite_by": "apalike",
      "current_citInitial": 1,
      "eqLabelWithNumbers": true,
      "eqNumInitial": 1,
      "hotkeys": {
        "equation": "Ctrl-E",
        "itemize": "Ctrl-I"
      },
      "labels_anchors": false,
      "latex_user_defs": false,
      "report_style_numbering": false,
      "user_envs_cfg": false
    },
    "toc": {
      "base_numbering": 1,
      "nav_menu": {},
      "number_sections": false,
      "sideBar": true,
      "skip_h1_title": true,
      "title_cell": "Table of Contents",
      "title_sidebar": "Contents",
      "toc_cell": true,
      "toc_position": {},
      "toc_section_display": true,
      "toc_window_display": true
    },
    "colab": {
      "name": "data_collection.ipynb",
      "provenance": [],
      "toc_visible": true,
      "machine_shape": "hm",
      "include_colab_link": true
    }
  },
  "cells": [
    {
      "cell_type": "markdown",
      "metadata": {
        "id": "view-in-github",
        "colab_type": "text"
      },
      "source": [
        "<a href=\"https://colab.research.google.com/github/wyattowalsh/sports-analytics/blob/main/basketball/notebooks/data_collection.ipynb\" target=\"_parent\"><img src=\"https://colab.research.google.com/assets/colab-badge.svg\" alt=\"Open In Colab\"/></a>"
      ]
    },
    {
      "cell_type": "markdown",
      "metadata": {
        "id": "prompt-copper"
      },
      "source": [
        "<h1 align='center'> Basketball Data Collection </h1>"
      ],
      "id": "prompt-copper"
    },
    {
      "cell_type": "markdown",
      "metadata": {
        "id": "transparent-garlic"
      },
      "source": [
        "This notebook contains the associated work necessary to collect the data that composes the [***Kaggle Basketball Dataset*** (wyattowalsh/basketball)](https://www.kaggle.com/wyattowalsh/basketball) and serves as the foundation for the [basketball related projects](https://github.com/wyattowalsh/sports-analytics/tree/main/basketball) within my [sports analytics GitHub repository](https://github.com/wyattowalsh/sports-analytics).\n",
        "\n",
        "One of the goals for the data collection component of this project is to produce a `robust`, *organized* dataset that can grow to as **large of a scale** as possible. You can find an explanation of my solution for storing the files related to the [***Basketball Dataset***](https://www.kaggle.com/wyattowalsh/basketball) below.\n",
        "\n",
        "<img src=\"https://unsplash.com/photos/Kv-gAzpUSRg/download?force=true\">\n",
        "\n",
        "## Overview\n",
        "\n",
        "***Kaggle*** offers many formats of which one can save files to a dataset, which include: `CSV`, `JSON`, `SQLite`, and `Archives`, among others. The platform essentially acts similarly to industrial cloud solutions like *Google Cloud Platform's* (**GCP**) ***Cloud Storage*** or *Amazon Web Service's* (**AWS**) ***S3*** albeit with a **100GB** storage capacity. ***Kaggle*** datasets as well as these industrial solutions can be considered as broad object/file storage and in certain data engineering paradigms can serve as data lakes. \n",
        "\n",
        "It seems that many state-of-the-art (SOTA) data storage solutions pivot around an organizational-wide data lake (of which itself allows for general object storage) that has multiple inputs (*\"tributaries\"*) both streaming into and routinely added to the overall lake. One benefit of this paradigm is that the lake facilitates the storage of both structured (tabular) and unstructured (image, video, audio, text, etc) data. This can prove useful because, as time progresses, new techniques for extracting useful information from unstructured data can be utilized. Thus it also seems like a good idea to hold onto all extracted data, if possible. \n",
        "\n",
        "***Kaggle*** datasets can serve as data lakes through the archival process or simply by storing data files in their raw file format. This certainly serves as a strong foundation for building a &#8212; one day in the future &#8212; <b><i>\"big data\"</i></b> collection. \n",
        "\n",
        "However, there is further work that can be done in configuring ***Kaggle*** datasets to enable additional platform functionality as well as improved storage efficiency. Structured data, whether structured upon extraction or structured through some pre-processing, can be stored in a ***SQLite*** database (`.sqlite` file type) as opposed to storing individual files such as `CSVs` or `JSONs` within the dataset. Thus, a single database file is stored as an object within the dataset, enabling additional functionality. One easily discerned advantage with storing in ***SQLite*** is that histograms of the distribution of across continuous variables are given directly within ***Kaggle***. \n",
        "\n",
        "As this project moves forward, I hope to collect a large collection of both structured and unstructured data. I hope that the ***SQLite*** database (`basketball.sqlite`) can serve to house the structured data in an efficient, useful format, similarly to the [***European Soccer Database***](https://www.kaggle.com/hugomathien/soccer)."
      ],
      "id": "transparent-garlic"
    },
    {
      "cell_type": "markdown",
      "metadata": {
        "id": "_a7HBcMWyUZl"
      },
      "source": [
        "## View System Information"
      ],
      "id": "_a7HBcMWyUZl"
    },
    {
      "cell_type": "code",
      "metadata": {
        "colab": {
          "base_uri": "https://localhost:8080/"
        },
        "id": "7MItZ0I0qReG",
        "outputId": "f6106b4a-b53c-4099-fc9d-26c349077858"
      },
      "source": [
        "print(\"********************** CUDA Version ********************** \\n - \\n\")\n",
        "!nvcc --version\n",
        "print(\"********************** CPU Info ********************** \\n - \\n\")\n",
        "!cat /proc/cpuinfo\n",
        "print(\"********************** CPU Count ********************** \\n - \\n\")\n",
        "import os\n",
        "print(os.cpu_count())\n",
        "print(\"********************** GPU Info ********************** \\n - \\n\")\n",
        "!nvidia-smi\n",
        "print(\"********************** Python Version ********************** \\n - \\n\")\n",
        "!python -V"
      ],
      "id": "7MItZ0I0qReG",
      "execution_count": 3,
      "outputs": [
        {
          "output_type": "stream",
          "text": [
            "********************** CUDA Version ********************** \n",
            " - \n",
            "\n",
            "nvcc: NVIDIA (R) Cuda compiler driver\n",
            "Copyright (c) 2005-2020 NVIDIA Corporation\n",
            "Built on Wed_Jul_22_19:09:09_PDT_2020\n",
            "Cuda compilation tools, release 11.0, V11.0.221\n",
            "Build cuda_11.0_bu.TC445_37.28845127_0\n",
            "********************** CPU Info ********************** \n",
            " - \n",
            "\n",
            "processor\t: 0\n",
            "vendor_id\t: GenuineIntel\n",
            "cpu family\t: 6\n",
            "model\t\t: 79\n",
            "model name\t: Intel(R) Xeon(R) CPU @ 2.20GHz\n",
            "stepping\t: 0\n",
            "microcode\t: 0x1\n",
            "cpu MHz\t\t: 2200.210\n",
            "cache size\t: 56320 KB\n",
            "physical id\t: 0\n",
            "siblings\t: 4\n",
            "core id\t\t: 0\n",
            "cpu cores\t: 2\n",
            "apicid\t\t: 0\n",
            "initial apicid\t: 0\n",
            "fpu\t\t: yes\n",
            "fpu_exception\t: yes\n",
            "cpuid level\t: 13\n",
            "wp\t\t: yes\n",
            "flags\t\t: fpu vme de pse tsc msr pae mce cx8 apic sep mtrr pge mca cmov pat pse36 clflush mmx fxsr sse sse2 ss ht syscall nx pdpe1gb rdtscp lm constant_tsc rep_good nopl xtopology nonstop_tsc cpuid tsc_known_freq pni pclmulqdq ssse3 fma cx16 pcid sse4_1 sse4_2 x2apic movbe popcnt aes xsave avx f16c rdrand hypervisor lahf_lm abm 3dnowprefetch invpcid_single ssbd ibrs ibpb stibp fsgsbase tsc_adjust bmi1 hle avx2 smep bmi2 erms invpcid rtm rdseed adx smap xsaveopt arat md_clear arch_capabilities\n",
            "bugs\t\t: cpu_meltdown spectre_v1 spectre_v2 spec_store_bypass l1tf mds swapgs taa\n",
            "bogomips\t: 4400.42\n",
            "clflush size\t: 64\n",
            "cache_alignment\t: 64\n",
            "address sizes\t: 46 bits physical, 48 bits virtual\n",
            "power management:\n",
            "\n",
            "processor\t: 1\n",
            "vendor_id\t: GenuineIntel\n",
            "cpu family\t: 6\n",
            "model\t\t: 79\n",
            "model name\t: Intel(R) Xeon(R) CPU @ 2.20GHz\n",
            "stepping\t: 0\n",
            "microcode\t: 0x1\n",
            "cpu MHz\t\t: 2200.210\n",
            "cache size\t: 56320 KB\n",
            "physical id\t: 0\n",
            "siblings\t: 4\n",
            "core id\t\t: 1\n",
            "cpu cores\t: 2\n",
            "apicid\t\t: 2\n",
            "initial apicid\t: 2\n",
            "fpu\t\t: yes\n",
            "fpu_exception\t: yes\n",
            "cpuid level\t: 13\n",
            "wp\t\t: yes\n",
            "flags\t\t: fpu vme de pse tsc msr pae mce cx8 apic sep mtrr pge mca cmov pat pse36 clflush mmx fxsr sse sse2 ss ht syscall nx pdpe1gb rdtscp lm constant_tsc rep_good nopl xtopology nonstop_tsc cpuid tsc_known_freq pni pclmulqdq ssse3 fma cx16 pcid sse4_1 sse4_2 x2apic movbe popcnt aes xsave avx f16c rdrand hypervisor lahf_lm abm 3dnowprefetch invpcid_single ssbd ibrs ibpb stibp fsgsbase tsc_adjust bmi1 hle avx2 smep bmi2 erms invpcid rtm rdseed adx smap xsaveopt arat md_clear arch_capabilities\n",
            "bugs\t\t: cpu_meltdown spectre_v1 spectre_v2 spec_store_bypass l1tf mds swapgs taa\n",
            "bogomips\t: 4400.42\n",
            "clflush size\t: 64\n",
            "cache_alignment\t: 64\n",
            "address sizes\t: 46 bits physical, 48 bits virtual\n",
            "power management:\n",
            "\n",
            "processor\t: 2\n",
            "vendor_id\t: GenuineIntel\n",
            "cpu family\t: 6\n",
            "model\t\t: 79\n",
            "model name\t: Intel(R) Xeon(R) CPU @ 2.20GHz\n",
            "stepping\t: 0\n",
            "microcode\t: 0x1\n",
            "cpu MHz\t\t: 2200.210\n",
            "cache size\t: 56320 KB\n",
            "physical id\t: 0\n",
            "siblings\t: 4\n",
            "core id\t\t: 0\n",
            "cpu cores\t: 2\n",
            "apicid\t\t: 1\n",
            "initial apicid\t: 1\n",
            "fpu\t\t: yes\n",
            "fpu_exception\t: yes\n",
            "cpuid level\t: 13\n",
            "wp\t\t: yes\n",
            "flags\t\t: fpu vme de pse tsc msr pae mce cx8 apic sep mtrr pge mca cmov pat pse36 clflush mmx fxsr sse sse2 ss ht syscall nx pdpe1gb rdtscp lm constant_tsc rep_good nopl xtopology nonstop_tsc cpuid tsc_known_freq pni pclmulqdq ssse3 fma cx16 pcid sse4_1 sse4_2 x2apic movbe popcnt aes xsave avx f16c rdrand hypervisor lahf_lm abm 3dnowprefetch invpcid_single ssbd ibrs ibpb stibp fsgsbase tsc_adjust bmi1 hle avx2 smep bmi2 erms invpcid rtm rdseed adx smap xsaveopt arat md_clear arch_capabilities\n",
            "bugs\t\t: cpu_meltdown spectre_v1 spectre_v2 spec_store_bypass l1tf mds swapgs taa\n",
            "bogomips\t: 4400.42\n",
            "clflush size\t: 64\n",
            "cache_alignment\t: 64\n",
            "address sizes\t: 46 bits physical, 48 bits virtual\n",
            "power management:\n",
            "\n",
            "processor\t: 3\n",
            "vendor_id\t: GenuineIntel\n",
            "cpu family\t: 6\n",
            "model\t\t: 79\n",
            "model name\t: Intel(R) Xeon(R) CPU @ 2.20GHz\n",
            "stepping\t: 0\n",
            "microcode\t: 0x1\n",
            "cpu MHz\t\t: 2200.210\n",
            "cache size\t: 56320 KB\n",
            "physical id\t: 0\n",
            "siblings\t: 4\n",
            "core id\t\t: 1\n",
            "cpu cores\t: 2\n",
            "apicid\t\t: 3\n",
            "initial apicid\t: 3\n",
            "fpu\t\t: yes\n",
            "fpu_exception\t: yes\n",
            "cpuid level\t: 13\n",
            "wp\t\t: yes\n",
            "flags\t\t: fpu vme de pse tsc msr pae mce cx8 apic sep mtrr pge mca cmov pat pse36 clflush mmx fxsr sse sse2 ss ht syscall nx pdpe1gb rdtscp lm constant_tsc rep_good nopl xtopology nonstop_tsc cpuid tsc_known_freq pni pclmulqdq ssse3 fma cx16 pcid sse4_1 sse4_2 x2apic movbe popcnt aes xsave avx f16c rdrand hypervisor lahf_lm abm 3dnowprefetch invpcid_single ssbd ibrs ibpb stibp fsgsbase tsc_adjust bmi1 hle avx2 smep bmi2 erms invpcid rtm rdseed adx smap xsaveopt arat md_clear arch_capabilities\n",
            "bugs\t\t: cpu_meltdown spectre_v1 spectre_v2 spec_store_bypass l1tf mds swapgs taa\n",
            "bogomips\t: 4400.42\n",
            "clflush size\t: 64\n",
            "cache_alignment\t: 64\n",
            "address sizes\t: 46 bits physical, 48 bits virtual\n",
            "power management:\n",
            "\n",
            "********************** CPU Count ********************** \n",
            " - \n",
            "\n",
            "4\n",
            "********************** GPU Info ********************** \n",
            " - \n",
            "\n",
            "NVIDIA-SMI has failed because it couldn't communicate with the NVIDIA driver. Make sure that the latest NVIDIA driver is installed and running.\n",
            "\n",
            "********************** Python Version ********************** \n",
            " - \n",
            "\n",
            "Python 3.7.10\n"
          ],
          "name": "stdout"
        }
      ]
    },
    {
      "cell_type": "markdown",
      "metadata": {
        "id": "historic-hardwood"
      },
      "source": [
        "## Prepare Development Environment\n",
        "\n",
        "- ### Clone GitHub Repository (if necessary)\n",
        "- ### Install Conda package manager (if necessary)\n",
        "- ### Install dependencies"
      ],
      "id": "historic-hardwood"
    },
    {
      "cell_type": "code",
      "metadata": {
        "colab": {
          "base_uri": "https://localhost:8080/",
          "height": 1000
        },
        "id": "superior-contents",
        "outputId": "18e489ed-d446-46d3-d66a-ada1294de28e"
      },
      "source": [
        "# remove sample data and clone repo\n",
        "!rm -r sample_data/\n",
        "!rm -r sports-analytics/\n",
        "!git clone https://github.com/wyattowalsh/sports-analytics.git\n",
        "\n",
        "# change directory to directory that contains this notebook\n",
        "%cd /content/sports-analytics/basketball/notebooks/\n",
        "\n",
        "# install conda\n",
        "# !bash sports-analytics/project_resources/bash_scripts/install_conda_in_colab.sh \n",
        "\n",
        "# install dependencies\n",
        "!pip3 install -r ../../dependencies/basketball/data_collection.txt\n",
        "!pip3 install --upgrade --force-reinstall dask\n",
        "!pip3 install --upgrade --force-reinstall dask-cuda\n",
        "!pip3 install 'fsspec>=0.3.3'\n",
        "\n",
        "# restart kernel\n",
        "exit()"
      ],
      "id": "superior-contents",
      "execution_count": 4,
      "outputs": [
        {
          "output_type": "stream",
          "text": [
            "rm: cannot remove 'sample_data/': No such file or directory\n",
            "Cloning into 'sports-analytics'...\n",
            "remote: Enumerating objects: 222, done.\u001b[K\n",
            "remote: Counting objects: 100% (222/222), done.\u001b[K\n",
            "remote: Compressing objects: 100% (159/159), done.\u001b[K\n",
            "remote: Total 222 (delta 79), reused 150 (delta 35), pack-reused 0\u001b[K\n",
            "Receiving objects: 100% (222/222), 92.69 KiB | 1.27 MiB/s, done.\n",
            "Resolving deltas: 100% (79/79), done.\n",
            "/content/sports-analytics/basketball/notebooks\n",
            "Requirement already satisfied: pip in /usr/local/lib/python3.7/dist-packages (from -r ../../dependencies/basketball/data_collection.txt (line 1)) (19.3.1)\n",
            "Requirement already satisfied: numpy in /usr/local/lib/python3.7/dist-packages (from -r ../../dependencies/basketball/data_collection.txt (line 2)) (1.20.1)\n",
            "Requirement already satisfied: pandas in /usr/local/lib/python3.7/dist-packages (from -r ../../dependencies/basketball/data_collection.txt (line 3)) (1.1.5)\n",
            "Requirement already satisfied: seaborn in /usr/local/lib/python3.7/dist-packages (from -r ../../dependencies/basketball/data_collection.txt (line 4)) (0.11.1)\n",
            "Requirement already satisfied: matplotlib in /usr/local/lib/python3.7/dist-packages (from -r ../../dependencies/basketball/data_collection.txt (line 5)) (3.2.2)\n",
            "Requirement already satisfied: yapf in /usr/local/lib/python3.7/dist-packages (from -r ../../dependencies/basketball/data_collection.txt (line 6)) (0.31.0)\n",
            "Requirement already satisfied: isort in /usr/local/lib/python3.7/dist-packages (from -r ../../dependencies/basketball/data_collection.txt (line 7)) (5.7.0)\n",
            "Requirement already satisfied: nba_api in /usr/local/lib/python3.7/dist-packages (from -r ../../dependencies/basketball/data_collection.txt (line 8)) (1.1.9)\n",
            "Requirement already satisfied: kaggle in /usr/local/lib/python3.7/dist-packages (from -r ../../dependencies/basketball/data_collection.txt (line 9)) (1.5.10)\n",
            "Collecting cudf\n",
            "  Using cached https://files.pythonhosted.org/packages/ee/8f/b8f7eb3c24d1062b419fec0b9e39b98a5954b3d0fc1539b8f830565ff06b/cudf-0.6.1.post1.tar.gz\n",
            "Requirement already satisfied: dask_cuda in /usr/local/lib/python3.7/dist-packages (from -r ../../dependencies/basketball/data_collection.txt (line 11)) (0.18.0)\n",
            "Requirement already satisfied: distributed in /usr/local/lib/python3.7/dist-packages (from -r ../../dependencies/basketball/data_collection.txt (line 12)) (2021.3.0)\n",
            "Requirement already satisfied: dask in /usr/local/lib/python3.7/dist-packages (from -r ../../dependencies/basketball/data_collection.txt (line 13)) (2021.3.0)\n",
            "Requirement already satisfied: python-dateutil>=2.7.3 in /usr/local/lib/python3.7/dist-packages (from pandas->-r ../../dependencies/basketball/data_collection.txt (line 3)) (2.8.1)\n",
            "Requirement already satisfied: pytz>=2017.2 in /usr/local/lib/python3.7/dist-packages (from pandas->-r ../../dependencies/basketball/data_collection.txt (line 3)) (2018.9)\n",
            "Requirement already satisfied: scipy>=1.0 in /usr/local/lib/python3.7/dist-packages (from seaborn->-r ../../dependencies/basketball/data_collection.txt (line 4)) (1.4.1)\n",
            "Requirement already satisfied: cycler>=0.10 in /usr/local/lib/python3.7/dist-packages (from matplotlib->-r ../../dependencies/basketball/data_collection.txt (line 5)) (0.10.0)\n",
            "Requirement already satisfied: kiwisolver>=1.0.1 in /usr/local/lib/python3.7/dist-packages (from matplotlib->-r ../../dependencies/basketball/data_collection.txt (line 5)) (1.3.1)\n",
            "Requirement already satisfied: pyparsing!=2.0.4,!=2.1.2,!=2.1.6,>=2.0.1 in /usr/local/lib/python3.7/dist-packages (from matplotlib->-r ../../dependencies/basketball/data_collection.txt (line 5)) (2.4.7)\n",
            "Requirement already satisfied: requests in /usr/local/lib/python3.7/dist-packages (from nba_api->-r ../../dependencies/basketball/data_collection.txt (line 8)) (2.23.0)\n",
            "Requirement already satisfied: urllib3 in /usr/local/lib/python3.7/dist-packages (from kaggle->-r ../../dependencies/basketball/data_collection.txt (line 9)) (1.24.3)\n",
            "Requirement already satisfied: tqdm in /usr/local/lib/python3.7/dist-packages (from kaggle->-r ../../dependencies/basketball/data_collection.txt (line 9)) (4.41.1)\n",
            "Requirement already satisfied: certifi in /usr/local/lib/python3.7/dist-packages (from kaggle->-r ../../dependencies/basketball/data_collection.txt (line 9)) (2020.12.5)\n",
            "Requirement already satisfied: six>=1.10 in /usr/local/lib/python3.7/dist-packages (from kaggle->-r ../../dependencies/basketball/data_collection.txt (line 9)) (1.15.0)\n",
            "Requirement already satisfied: python-slugify in /usr/local/lib/python3.7/dist-packages (from kaggle->-r ../../dependencies/basketball/data_collection.txt (line 9)) (4.0.1)\n",
            "Requirement already satisfied: pynvml>=8.0.3 in /usr/local/lib/python3.7/dist-packages (from dask_cuda->-r ../../dependencies/basketball/data_collection.txt (line 11)) (8.0.4)\n",
            "Requirement already satisfied: numba>=0.40.1 in /usr/local/lib/python3.7/dist-packages (from dask_cuda->-r ../../dependencies/basketball/data_collection.txt (line 11)) (0.53.0)\n",
            "Requirement already satisfied: toolz>=0.8.2 in /usr/local/lib/python3.7/dist-packages (from distributed->-r ../../dependencies/basketball/data_collection.txt (line 12)) (0.11.1)\n",
            "Requirement already satisfied: pyyaml in /usr/local/lib/python3.7/dist-packages (from distributed->-r ../../dependencies/basketball/data_collection.txt (line 12)) (5.4.1)\n",
            "Requirement already satisfied: setuptools in /usr/local/lib/python3.7/dist-packages (from distributed->-r ../../dependencies/basketball/data_collection.txt (line 12)) (54.1.2)\n",
            "Requirement already satisfied: cloudpickle>=1.5.0 in /usr/local/lib/python3.7/dist-packages (from distributed->-r ../../dependencies/basketball/data_collection.txt (line 12)) (1.6.0)\n",
            "Requirement already satisfied: tblib>=1.6.0 in /usr/local/lib/python3.7/dist-packages (from distributed->-r ../../dependencies/basketball/data_collection.txt (line 12)) (1.7.0)\n",
            "Requirement already satisfied: psutil>=5.0 in /usr/local/lib/python3.7/dist-packages (from distributed->-r ../../dependencies/basketball/data_collection.txt (line 12)) (5.8.0)\n",
            "Requirement already satisfied: sortedcontainers!=2.0.0,!=2.0.1 in /usr/local/lib/python3.7/dist-packages (from distributed->-r ../../dependencies/basketball/data_collection.txt (line 12)) (2.3.0)\n",
            "Requirement already satisfied: tornado>=5; python_version < \"3.8\" in /usr/local/lib/python3.7/dist-packages (from distributed->-r ../../dependencies/basketball/data_collection.txt (line 12)) (6.1)\n",
            "Requirement already satisfied: zict>=0.1.3 in /usr/local/lib/python3.7/dist-packages (from distributed->-r ../../dependencies/basketball/data_collection.txt (line 12)) (2.0.0)\n",
            "Requirement already satisfied: msgpack>=0.6.0 in /usr/local/lib/python3.7/dist-packages (from distributed->-r ../../dependencies/basketball/data_collection.txt (line 12)) (1.0.2)\n",
            "Requirement already satisfied: click>=6.6 in /usr/local/lib/python3.7/dist-packages (from distributed->-r ../../dependencies/basketball/data_collection.txt (line 12)) (7.1.2)\n",
            "Requirement already satisfied: idna<3,>=2.5 in /usr/local/lib/python3.7/dist-packages (from requests->nba_api->-r ../../dependencies/basketball/data_collection.txt (line 8)) (2.10)\n",
            "Requirement already satisfied: chardet<4,>=3.0.2 in /usr/local/lib/python3.7/dist-packages (from requests->nba_api->-r ../../dependencies/basketball/data_collection.txt (line 8)) (3.0.4)\n",
            "Requirement already satisfied: text-unidecode>=1.3 in /usr/local/lib/python3.7/dist-packages (from python-slugify->kaggle->-r ../../dependencies/basketball/data_collection.txt (line 9)) (1.3)\n",
            "Requirement already satisfied: llvmlite<0.37,>=0.36.0rc1 in /usr/local/lib/python3.7/dist-packages (from numba>=0.40.1->dask_cuda->-r ../../dependencies/basketball/data_collection.txt (line 11)) (0.36.0)\n",
            "Requirement already satisfied: heapdict in /usr/local/lib/python3.7/dist-packages (from zict>=0.1.3->distributed->-r ../../dependencies/basketball/data_collection.txt (line 12)) (1.0.1)\n",
            "Building wheels for collected packages: cudf\n",
            "  Building wheel for cudf (setup.py) ... \u001b[?25lerror\n",
            "\u001b[31m  ERROR: Failed building wheel for cudf\u001b[0m\n",
            "\u001b[?25h  Running setup.py clean for cudf\n",
            "Failed to build cudf\n",
            "Installing collected packages: cudf\n",
            "    Running setup.py install for cudf ... \u001b[?25l\u001b[?25herror\n",
            "\u001b[31mERROR: Command errored out with exit status 1: /usr/bin/python3 -u -c 'import sys, setuptools, tokenize; sys.argv[0] = '\"'\"'/tmp/pip-install-xj659e77/cudf/setup.py'\"'\"'; __file__='\"'\"'/tmp/pip-install-xj659e77/cudf/setup.py'\"'\"';f=getattr(tokenize, '\"'\"'open'\"'\"', open)(__file__);code=f.read().replace('\"'\"'\\r\\n'\"'\"', '\"'\"'\\n'\"'\"');f.close();exec(compile(code, __file__, '\"'\"'exec'\"'\"'))' install --record /tmp/pip-record-o1kfij3f/install-record.txt --single-version-externally-managed --compile Check the logs for full command output.\u001b[0m\n",
            "Collecting dask\n",
            "  Using cached https://files.pythonhosted.org/packages/2e/86/95faa4a9c1f7fbfa2df2ae9e7e1a11349cb97a81e2f38ff9dda301606882/dask-2021.3.0-py3-none-any.whl\n",
            "Collecting pyyaml\n",
            "  Using cached https://files.pythonhosted.org/packages/7a/a5/393c087efdc78091afa2af9f1378762f9821c9c1d7a22c5753fb5ac5f97a/PyYAML-5.4.1-cp37-cp37m-manylinux1_x86_64.whl\n",
            "Installing collected packages: pyyaml, dask\n",
            "  Found existing installation: PyYAML 5.4.1\n",
            "    Uninstalling PyYAML-5.4.1:\n",
            "      Successfully uninstalled PyYAML-5.4.1\n",
            "  Found existing installation: dask 2021.3.0\n",
            "    Uninstalling dask-2021.3.0:\n",
            "      Successfully uninstalled dask-2021.3.0\n",
            "Successfully installed dask-2021.3.0 pyyaml-5.4.1\n",
            "Collecting dask-cuda\n",
            "  Using cached https://files.pythonhosted.org/packages/af/bc/86255af79f74d7e91fcc824eeb6299f46de3133b8e4095f06a1f44787c2d/dask_cuda-0.18.0-py3-none-any.whl\n",
            "Collecting pynvml>=8.0.3\n",
            "  Using cached https://files.pythonhosted.org/packages/1b/1a/a25c143e1d2f873d67edf534b269d028dd3c20be69737cca56bf28911d02/pynvml-8.0.4-py3-none-any.whl\n",
            "Collecting distributed>=2.18.0\n",
            "  Using cached https://files.pythonhosted.org/packages/96/b7/f58dd1e30f940a8b38de10f5d92b2fce08f38dcba3eb1ddb017260588ed4/distributed-2021.3.0-py3-none-any.whl\n",
            "Collecting dask>=2.9.0\n",
            "  Using cached https://files.pythonhosted.org/packages/2e/86/95faa4a9c1f7fbfa2df2ae9e7e1a11349cb97a81e2f38ff9dda301606882/dask-2021.3.0-py3-none-any.whl\n",
            "Collecting numpy>=1.16.0\n",
            "  Using cached https://files.pythonhosted.org/packages/70/8a/064b4077e3d793f877e3b77aa64f56fa49a4d37236a53f78ee28be009a16/numpy-1.20.1-cp37-cp37m-manylinux2010_x86_64.whl\n",
            "Collecting numba>=0.40.1\n",
            "  Using cached https://files.pythonhosted.org/packages/92/e8/4f67aa44b86333528e04dc8820f7e8058753582d8a0867324a2b818ef516/numba-0.53.0-cp37-cp37m-manylinux2014_x86_64.whl\n",
            "Collecting toolz>=0.8.2\n",
            "  Using cached https://files.pythonhosted.org/packages/12/f5/537e55f8ba664ff2a26f26913010fb0fcb98b6bbadc6158af888184fd0b7/toolz-0.11.1-py3-none-any.whl\n",
            "Collecting zict>=0.1.3\n",
            "  Using cached https://files.pythonhosted.org/packages/5a/65/0f743c740c30cace984ef8ff96fd1e991083fa884900a8aad3efff3252b9/zict-2.0.0-py3-none-any.whl\n",
            "Collecting sortedcontainers!=2.0.0,!=2.0.1\n",
            "  Using cached https://files.pythonhosted.org/packages/20/4d/a7046ae1a1a4cc4e9bbed194c387086f06b25038be596543d026946330c9/sortedcontainers-2.3.0-py2.py3-none-any.whl\n",
            "Collecting pyyaml\n",
            "  Using cached https://files.pythonhosted.org/packages/7a/a5/393c087efdc78091afa2af9f1378762f9821c9c1d7a22c5753fb5ac5f97a/PyYAML-5.4.1-cp37-cp37m-manylinux1_x86_64.whl\n",
            "Collecting psutil>=5.0\n",
            "  Using cached https://files.pythonhosted.org/packages/84/da/f7efdcf012b51506938553dbe302aecc22f3f43abd5cffa8320e8e0588d5/psutil-5.8.0-cp37-cp37m-manylinux2010_x86_64.whl\n",
            "Collecting msgpack>=0.6.0\n",
            "  Using cached https://files.pythonhosted.org/packages/b7/88/b0d0c339044360036e51d3afda0d2b0f9503087fddff8867496198b24cda/msgpack-1.0.2-cp37-cp37m-manylinux1_x86_64.whl\n",
            "Collecting cloudpickle>=1.5.0\n",
            "  Using cached https://files.pythonhosted.org/packages/e7/e3/898487e5dbeb612054cf2e0c188463acb358167fef749c53c8bb8918cea1/cloudpickle-1.6.0-py3-none-any.whl\n",
            "Collecting tblib>=1.6.0\n",
            "  Using cached https://files.pythonhosted.org/packages/f8/cd/2fad4add11c8837e72f50a30e2bda30e67a10d70462f826b291443a55c7d/tblib-1.7.0-py2.py3-none-any.whl\n",
            "Collecting tornado>=5; python_version < \"3.8\"\n",
            "  Using cached https://files.pythonhosted.org/packages/91/a8/9c5902233fa3c2e6a889cbd164333ddda5009669f494e3fadbeee2c03af5/tornado-6.1-cp37-cp37m-manylinux2010_x86_64.whl\n",
            "Collecting click>=6.6\n",
            "  Using cached https://files.pythonhosted.org/packages/d2/3d/fa76db83bf75c4f8d338c2fd15c8d33fdd7ad23a9b5e57eb6c5de26b430e/click-7.1.2-py2.py3-none-any.whl\n",
            "Collecting setuptools\n",
            "  Using cached https://files.pythonhosted.org/packages/0c/12/18eda60a1b961e0248e1b1e3ec1ff417420596dc7edf3614ef58a7a8cf6a/setuptools-54.1.2-py3-none-any.whl\n",
            "Collecting llvmlite<0.37,>=0.36.0rc1\n",
            "  Using cached https://files.pythonhosted.org/packages/54/25/2b4015e2b0c3be2efa6870cf2cf2bd969dd0e5f937476fc13c102209df32/llvmlite-0.36.0-cp37-cp37m-manylinux2010_x86_64.whl\n",
            "Collecting heapdict\n",
            "  Using cached https://files.pythonhosted.org/packages/b6/9d/cd4777dbcf3bef9d9627e0fe4bc43d2e294b1baeb01d0422399d5e9de319/HeapDict-1.0.1-py3-none-any.whl\n",
            "\u001b[31mERROR: tensorflow 2.4.1 has requirement numpy~=1.19.2, but you'll have numpy 1.20.1 which is incompatible.\u001b[0m\n",
            "\u001b[31mERROR: google-colab 1.0.0 has requirement tornado~=5.1.0; python_version >= \"3.0\", but you'll have tornado 6.1 which is incompatible.\u001b[0m\n",
            "\u001b[31mERROR: datascience 0.10.6 has requirement folium==0.2.1, but you'll have folium 0.8.3 which is incompatible.\u001b[0m\n",
            "\u001b[31mERROR: albumentations 0.1.12 has requirement imgaug<0.2.7,>=0.2.5, but you'll have imgaug 0.2.9 which is incompatible.\u001b[0m\n",
            "Installing collected packages: pynvml, pyyaml, dask, toolz, heapdict, zict, sortedcontainers, psutil, msgpack, cloudpickle, tblib, tornado, click, setuptools, distributed, numpy, llvmlite, numba, dask-cuda\n",
            "  Found existing installation: pynvml 8.0.4\n",
            "    Uninstalling pynvml-8.0.4:\n",
            "      Successfully uninstalled pynvml-8.0.4\n",
            "  Found existing installation: PyYAML 5.4.1\n",
            "    Uninstalling PyYAML-5.4.1:\n",
            "      Successfully uninstalled PyYAML-5.4.1\n",
            "  Found existing installation: dask 2021.3.0\n",
            "    Uninstalling dask-2021.3.0:\n",
            "      Successfully uninstalled dask-2021.3.0\n",
            "  Found existing installation: toolz 0.11.1\n",
            "    Uninstalling toolz-0.11.1:\n",
            "      Successfully uninstalled toolz-0.11.1\n",
            "  Found existing installation: HeapDict 1.0.1\n",
            "    Uninstalling HeapDict-1.0.1:\n",
            "      Successfully uninstalled HeapDict-1.0.1\n",
            "  Found existing installation: zict 2.0.0\n",
            "    Uninstalling zict-2.0.0:\n",
            "      Successfully uninstalled zict-2.0.0\n",
            "  Found existing installation: sortedcontainers 2.3.0\n",
            "    Uninstalling sortedcontainers-2.3.0:\n",
            "      Successfully uninstalled sortedcontainers-2.3.0\n",
            "  Found existing installation: psutil 5.8.0\n",
            "    Uninstalling psutil-5.8.0:\n",
            "      Successfully uninstalled psutil-5.8.0\n",
            "  Found existing installation: msgpack 1.0.2\n",
            "    Uninstalling msgpack-1.0.2:\n",
            "      Successfully uninstalled msgpack-1.0.2\n",
            "  Found existing installation: cloudpickle 1.6.0\n",
            "    Uninstalling cloudpickle-1.6.0:\n",
            "      Successfully uninstalled cloudpickle-1.6.0\n",
            "  Found existing installation: tblib 1.7.0\n",
            "    Uninstalling tblib-1.7.0:\n",
            "      Successfully uninstalled tblib-1.7.0\n",
            "  Found existing installation: tornado 6.1\n",
            "    Uninstalling tornado-6.1:\n",
            "      Successfully uninstalled tornado-6.1\n",
            "  Found existing installation: click 7.1.2\n",
            "    Uninstalling click-7.1.2:\n",
            "      Successfully uninstalled click-7.1.2\n",
            "  Found existing installation: setuptools 54.1.2\n",
            "    Uninstalling setuptools-54.1.2:\n",
            "      Successfully uninstalled setuptools-54.1.2\n",
            "  Found existing installation: distributed 2021.3.0\n",
            "    Uninstalling distributed-2021.3.0:\n",
            "      Successfully uninstalled distributed-2021.3.0\n",
            "  Found existing installation: numpy 1.20.1\n",
            "    Uninstalling numpy-1.20.1:\n",
            "      Successfully uninstalled numpy-1.20.1\n",
            "  Found existing installation: llvmlite 0.36.0\n",
            "    Uninstalling llvmlite-0.36.0:\n",
            "      Successfully uninstalled llvmlite-0.36.0\n",
            "  Found existing installation: numba 0.53.0\n",
            "    Uninstalling numba-0.53.0:\n",
            "      Successfully uninstalled numba-0.53.0\n",
            "  Found existing installation: dask-cuda 0.18.0\n",
            "    Uninstalling dask-cuda-0.18.0:\n",
            "      Successfully uninstalled dask-cuda-0.18.0\n",
            "Successfully installed click-7.1.2 cloudpickle-1.6.0 dask-2021.3.0 dask-cuda-0.18.0 distributed-2021.3.0 heapdict-1.0.1 llvmlite-0.36.0 msgpack-1.0.2 numba-0.53.0 numpy-1.20.1 psutil-5.8.0 pynvml-8.0.4 pyyaml-5.4.1 setuptools-54.1.2 sortedcontainers-2.3.0 tblib-1.7.0 toolz-0.11.1 tornado-6.1 zict-2.0.0\n"
          ],
          "name": "stdout"
        },
        {
          "output_type": "display_data",
          "data": {
            "application/vnd.colab-display-data+json": {
              "pip_warning": {
                "packages": [
                  "cloudpickle",
                  "numpy",
                  "pkg_resources",
                  "psutil",
                  "tornado"
                ]
              }
            }
          },
          "metadata": {
            "tags": []
          }
        },
        {
          "output_type": "stream",
          "text": [
            "Requirement already satisfied: fsspec>=0.3.3 in /usr/local/lib/python3.7/dist-packages (0.8.7)\n",
            "Requirement already satisfied: importlib-metadata; python_version < \"3.8\" in /usr/local/lib/python3.7/dist-packages (from fsspec>=0.3.3) (3.7.2)\n",
            "Requirement already satisfied: zipp>=0.5 in /usr/local/lib/python3.7/dist-packages (from importlib-metadata; python_version < \"3.8\"->fsspec>=0.3.3) (3.4.1)\n",
            "Requirement already satisfied: typing-extensions>=3.6.4; python_version < \"3.8\" in /usr/local/lib/python3.7/dist-packages (from importlib-metadata; python_version < \"3.8\"->fsspec>=0.3.3) (3.7.4.3)\n"
          ],
          "name": "stdout"
        }
      ]
    },
    {
      "cell_type": "markdown",
      "metadata": {
        "id": "promotional-format"
      },
      "source": [
        "## Import Dependencies & Initialize Kaggle"
      ],
      "id": "promotional-format"
    },
    {
      "cell_type": "code",
      "metadata": {
        "ExecuteTime": {
          "end_time": "2021-03-18T22:40:27.025367Z",
          "start_time": "2021-03-18T22:40:25.450707Z"
        },
        "colab": {
          "resources": {
            "http://localhost:8080/nbextensions/google.colab/files.js": {
              "data": "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",
              "ok": true,
              "headers": [
                [
                  "content-type",
                  "application/javascript"
                ]
              ],
              "status": 200,
              "status_text": ""
            }
          },
          "base_uri": "https://localhost:8080/",
          "height": 106
        },
        "id": "racial-indianapolis",
        "outputId": "e16e5e68-c7e7-4593-a4c9-f2d9a30ccf35"
      },
      "source": [
        "# nba_api dependencies\n",
        "from nba_api.stats.static import players, teams\n",
        "from nba_api.stats.endpoints import commonplayerinfo, playercareerstats\n",
        "\n",
        "# datascience stack\n",
        "import pandas as pd \n",
        "import numpy as np\n",
        "import matplotlib.pyplot as plt\n",
        "import seaborn\n",
        "import sqlite3 as sql\n",
        "import dask\n",
        "from dask.distributed import Client, progress, LocalCluster\n",
        "from dask_cuda import LocalCUDACluster\n",
        "\n",
        "import dask.array as da\n",
        "\n",
        "# system utility stack\n",
        "import os\n",
        "import time\n",
        "from requests.packages.urllib3.exceptions import ProxyError\n",
        "import urllib.error\n",
        "import urllib.request\n",
        "\n",
        "# Upload kaggle.json to /content/\n",
        "from google.colab import files\n",
        "uploaded = files.upload()\n",
        "\n",
        "# Move and change permissions as needed, allowing for import\n",
        "!mkdir -p ~/.kaggle/ && mv kaggle.json ~/.kaggle/ && chmod 600 ~/.kaggle/kaggle.json\n",
        "import kaggle\n",
        "\n",
        "# change directory to directory that contains this notebook\n",
        "%cd /content/sports-analytics/basketball/notebooks/\n",
        "\n",
        "# utilize Colab Monitor\n",
        "from urllib.request import urlopen\n",
        "exec(urlopen(\"http://colab-monitor.smankusors.com/track.py\").read())\n",
        "_colabMonitor = ColabMonitor().start()"
      ],
      "id": "racial-indianapolis",
      "execution_count": 1,
      "outputs": [
        {
          "output_type": "display_data",
          "data": {
            "text/html": [
              "\n",
              "     <input type=\"file\" id=\"files-1160137e-6279-4cc6-b8d3-cf2d22926f14\" name=\"files[]\" multiple disabled\n",
              "        style=\"border:none\" />\n",
              "     <output id=\"result-1160137e-6279-4cc6-b8d3-cf2d22926f14\">\n",
              "      Upload widget is only available when the cell has been executed in the\n",
              "      current browser session. Please rerun this cell to enable.\n",
              "      </output>\n",
              "      <script src=\"/nbextensions/google.colab/files.js\"></script> "
            ],
            "text/plain": [
              "<IPython.core.display.HTML object>"
            ]
          },
          "metadata": {
            "tags": []
          }
        },
        {
          "output_type": "stream",
          "text": [
            "Saving kaggle.json to kaggle.json\n",
            "/content/sports-analytics/basketball/notebooks\n",
            "Now live at : http://colab-monitor.smankusors.com/6054ed1e8ab0d\n"
          ],
          "name": "stdout"
        }
      ]
    },
    {
      "cell_type": "markdown",
      "metadata": {
        "id": "f10sxJf0y-1o"
      },
      "source": [
        "## Collect Data"
      ],
      "id": "f10sxJf0y-1o"
    },
    {
      "cell_type": "markdown",
      "metadata": {
        "id": "iI8M_ZCxzB8b"
      },
      "source": [
        "### Connect to Database"
      ],
      "id": "iI8M_ZCxzB8b"
    },
    {
      "cell_type": "code",
      "metadata": {
        "id": "executed-amino"
      },
      "source": [
        "conn = sql.connect('../data/basketball.sqlite')"
      ],
      "id": "executed-amino",
      "execution_count": 2,
      "outputs": []
    },
    {
      "cell_type": "markdown",
      "metadata": {
        "id": "O-QokkOkzGw_"
      },
      "source": [
        "## Retrieve Players Table, Format (as needed), Add to Database (if needed)"
      ],
      "id": "O-QokkOkzGw_"
    },
    {
      "cell_type": "code",
      "metadata": {
        "ExecuteTime": {
          "end_time": "2021-03-18T22:40:57.092533Z",
          "start_time": "2021-03-18T22:40:57.064131Z"
        },
        "colab": {
          "base_uri": "https://localhost:8080/",
          "height": 419
        },
        "id": "operating-truth",
        "outputId": "4318389d-0f3e-4403-c368-70bba31e966f"
      },
      "source": [
        "df_players = pd.DataFrame(players.get_players()).astype({'id': 'str'})\n",
        "df_players"
      ],
      "id": "operating-truth",
      "execution_count": 3,
      "outputs": [
        {
          "output_type": "execute_result",
          "data": {
            "text/html": [
              "<div>\n",
              "<style scoped>\n",
              "    .dataframe tbody tr th:only-of-type {\n",
              "        vertical-align: middle;\n",
              "    }\n",
              "\n",
              "    .dataframe tbody tr th {\n",
              "        vertical-align: top;\n",
              "    }\n",
              "\n",
              "    .dataframe thead th {\n",
              "        text-align: right;\n",
              "    }\n",
              "</style>\n",
              "<table border=\"1\" class=\"dataframe\">\n",
              "  <thead>\n",
              "    <tr style=\"text-align: right;\">\n",
              "      <th></th>\n",
              "      <th>id</th>\n",
              "      <th>full_name</th>\n",
              "      <th>first_name</th>\n",
              "      <th>last_name</th>\n",
              "      <th>is_active</th>\n",
              "    </tr>\n",
              "  </thead>\n",
              "  <tbody>\n",
              "    <tr>\n",
              "      <th>0</th>\n",
              "      <td>76001</td>\n",
              "      <td>Alaa Abdelnaby</td>\n",
              "      <td>Alaa</td>\n",
              "      <td>Abdelnaby</td>\n",
              "      <td>False</td>\n",
              "    </tr>\n",
              "    <tr>\n",
              "      <th>1</th>\n",
              "      <td>76002</td>\n",
              "      <td>Zaid Abdul-Aziz</td>\n",
              "      <td>Zaid</td>\n",
              "      <td>Abdul-Aziz</td>\n",
              "      <td>False</td>\n",
              "    </tr>\n",
              "    <tr>\n",
              "      <th>2</th>\n",
              "      <td>76003</td>\n",
              "      <td>Kareem Abdul-Jabbar</td>\n",
              "      <td>Kareem</td>\n",
              "      <td>Abdul-Jabbar</td>\n",
              "      <td>False</td>\n",
              "    </tr>\n",
              "    <tr>\n",
              "      <th>3</th>\n",
              "      <td>51</td>\n",
              "      <td>Mahmoud Abdul-Rauf</td>\n",
              "      <td>Mahmoud</td>\n",
              "      <td>Abdul-Rauf</td>\n",
              "      <td>False</td>\n",
              "    </tr>\n",
              "    <tr>\n",
              "      <th>4</th>\n",
              "      <td>1505</td>\n",
              "      <td>Tariq Abdul-Wahad</td>\n",
              "      <td>Tariq</td>\n",
              "      <td>Abdul-Wahad</td>\n",
              "      <td>False</td>\n",
              "    </tr>\n",
              "    <tr>\n",
              "      <th>...</th>\n",
              "      <td>...</td>\n",
              "      <td>...</td>\n",
              "      <td>...</td>\n",
              "      <td>...</td>\n",
              "      <td>...</td>\n",
              "    </tr>\n",
              "    <tr>\n",
              "      <th>4496</th>\n",
              "      <td>1627790</td>\n",
              "      <td>Ante Zizic</td>\n",
              "      <td>Ante</td>\n",
              "      <td>Zizic</td>\n",
              "      <td>True</td>\n",
              "    </tr>\n",
              "    <tr>\n",
              "      <th>4497</th>\n",
              "      <td>78647</td>\n",
              "      <td>Jim Zoet</td>\n",
              "      <td>Jim</td>\n",
              "      <td>Zoet</td>\n",
              "      <td>False</td>\n",
              "    </tr>\n",
              "    <tr>\n",
              "      <th>4498</th>\n",
              "      <td>78648</td>\n",
              "      <td>Bill Zopf</td>\n",
              "      <td>Bill</td>\n",
              "      <td>Zopf</td>\n",
              "      <td>False</td>\n",
              "    </tr>\n",
              "    <tr>\n",
              "      <th>4499</th>\n",
              "      <td>1627826</td>\n",
              "      <td>Ivica Zubac</td>\n",
              "      <td>Ivica</td>\n",
              "      <td>Zubac</td>\n",
              "      <td>True</td>\n",
              "    </tr>\n",
              "    <tr>\n",
              "      <th>4500</th>\n",
              "      <td>78650</td>\n",
              "      <td>Matt Zunic</td>\n",
              "      <td>Matt</td>\n",
              "      <td>Zunic</td>\n",
              "      <td>False</td>\n",
              "    </tr>\n",
              "  </tbody>\n",
              "</table>\n",
              "<p>4501 rows × 5 columns</p>\n",
              "</div>"
            ],
            "text/plain": [
              "           id            full_name first_name     last_name  is_active\n",
              "0       76001       Alaa Abdelnaby       Alaa     Abdelnaby      False\n",
              "1       76002      Zaid Abdul-Aziz       Zaid    Abdul-Aziz      False\n",
              "2       76003  Kareem Abdul-Jabbar     Kareem  Abdul-Jabbar      False\n",
              "3          51   Mahmoud Abdul-Rauf    Mahmoud    Abdul-Rauf      False\n",
              "4        1505    Tariq Abdul-Wahad      Tariq   Abdul-Wahad      False\n",
              "...       ...                  ...        ...           ...        ...\n",
              "4496  1627790           Ante Zizic       Ante         Zizic       True\n",
              "4497    78647             Jim Zoet        Jim          Zoet      False\n",
              "4498    78648            Bill Zopf       Bill          Zopf      False\n",
              "4499  1627826          Ivica Zubac      Ivica         Zubac       True\n",
              "4500    78650           Matt Zunic       Matt         Zunic      False\n",
              "\n",
              "[4501 rows x 5 columns]"
            ]
          },
          "metadata": {
            "tags": []
          },
          "execution_count": 3
        }
      ]
    },
    {
      "cell_type": "code",
      "metadata": {
        "colab": {
          "base_uri": "https://localhost:8080/"
        },
        "id": "controversial-browser",
        "outputId": "a930002f-8d15-4c7d-8965-2b27166efb92"
      },
      "source": [
        "df_players.info()"
      ],
      "id": "controversial-browser",
      "execution_count": 4,
      "outputs": [
        {
          "output_type": "stream",
          "text": [
            "<class 'pandas.core.frame.DataFrame'>\n",
            "RangeIndex: 4501 entries, 0 to 4500\n",
            "Data columns (total 5 columns):\n",
            " #   Column      Non-Null Count  Dtype \n",
            "---  ------      --------------  ----- \n",
            " 0   id          4501 non-null   object\n",
            " 1   full_name   4501 non-null   object\n",
            " 2   first_name  4501 non-null   object\n",
            " 3   last_name   4501 non-null   object\n",
            " 4   is_active   4501 non-null   bool  \n",
            "dtypes: bool(1), object(4)\n",
            "memory usage: 145.2+ KB\n"
          ],
          "name": "stdout"
        }
      ]
    },
    {
      "cell_type": "code",
      "metadata": {
        "colab": {
          "base_uri": "https://localhost:8080/",
          "height": 307
        },
        "id": "acute-trick",
        "outputId": "d2a0f62c-de43-48dc-8828-e3970faf1a4b"
      },
      "source": [
        "df_players.to_sql('Player', conn)"
      ],
      "id": "acute-trick",
      "execution_count": 5,
      "outputs": [
        {
          "output_type": "error",
          "ename": "ValueError",
          "evalue": "ignored",
          "traceback": [
            "\u001b[0;31m---------------------------------------------------------------------------\u001b[0m",
            "\u001b[0;31mValueError\u001b[0m                                Traceback (most recent call last)",
            "\u001b[0;32m<ipython-input-5-e4895615e7fa>\u001b[0m in \u001b[0;36m<module>\u001b[0;34m()\u001b[0m\n\u001b[0;32m----> 1\u001b[0;31m \u001b[0mdf_players\u001b[0m\u001b[0;34m.\u001b[0m\u001b[0mto_sql\u001b[0m\u001b[0;34m(\u001b[0m\u001b[0;34m'Player'\u001b[0m\u001b[0;34m,\u001b[0m \u001b[0mconn\u001b[0m\u001b[0;34m)\u001b[0m\u001b[0;34m\u001b[0m\u001b[0;34m\u001b[0m\u001b[0m\n\u001b[0m",
            "\u001b[0;32m/usr/local/lib/python3.7/dist-packages/pandas/core/generic.py\u001b[0m in \u001b[0;36mto_sql\u001b[0;34m(self, name, con, schema, if_exists, index, index_label, chunksize, dtype, method)\u001b[0m\n\u001b[1;32m   2613\u001b[0m             \u001b[0mchunksize\u001b[0m\u001b[0;34m=\u001b[0m\u001b[0mchunksize\u001b[0m\u001b[0;34m,\u001b[0m\u001b[0;34m\u001b[0m\u001b[0;34m\u001b[0m\u001b[0m\n\u001b[1;32m   2614\u001b[0m             \u001b[0mdtype\u001b[0m\u001b[0;34m=\u001b[0m\u001b[0mdtype\u001b[0m\u001b[0;34m,\u001b[0m\u001b[0;34m\u001b[0m\u001b[0;34m\u001b[0m\u001b[0m\n\u001b[0;32m-> 2615\u001b[0;31m             \u001b[0mmethod\u001b[0m\u001b[0;34m=\u001b[0m\u001b[0mmethod\u001b[0m\u001b[0;34m,\u001b[0m\u001b[0;34m\u001b[0m\u001b[0;34m\u001b[0m\u001b[0m\n\u001b[0m\u001b[1;32m   2616\u001b[0m         )\n\u001b[1;32m   2617\u001b[0m \u001b[0;34m\u001b[0m\u001b[0m\n",
            "\u001b[0;32m/usr/local/lib/python3.7/dist-packages/pandas/io/sql.py\u001b[0m in \u001b[0;36mto_sql\u001b[0;34m(frame, name, con, schema, if_exists, index, index_label, chunksize, dtype, method)\u001b[0m\n\u001b[1;32m    596\u001b[0m         \u001b[0mchunksize\u001b[0m\u001b[0;34m=\u001b[0m\u001b[0mchunksize\u001b[0m\u001b[0;34m,\u001b[0m\u001b[0;34m\u001b[0m\u001b[0;34m\u001b[0m\u001b[0m\n\u001b[1;32m    597\u001b[0m         \u001b[0mdtype\u001b[0m\u001b[0;34m=\u001b[0m\u001b[0mdtype\u001b[0m\u001b[0;34m,\u001b[0m\u001b[0;34m\u001b[0m\u001b[0;34m\u001b[0m\u001b[0m\n\u001b[0;32m--> 598\u001b[0;31m         \u001b[0mmethod\u001b[0m\u001b[0;34m=\u001b[0m\u001b[0mmethod\u001b[0m\u001b[0;34m,\u001b[0m\u001b[0;34m\u001b[0m\u001b[0;34m\u001b[0m\u001b[0m\n\u001b[0m\u001b[1;32m    599\u001b[0m     )\n\u001b[1;32m    600\u001b[0m \u001b[0;34m\u001b[0m\u001b[0m\n",
            "\u001b[0;32m/usr/local/lib/python3.7/dist-packages/pandas/io/sql.py\u001b[0m in \u001b[0;36mto_sql\u001b[0;34m(self, frame, name, if_exists, index, index_label, schema, chunksize, dtype, method)\u001b[0m\n\u001b[1;32m   1825\u001b[0m             \u001b[0mdtype\u001b[0m\u001b[0;34m=\u001b[0m\u001b[0mdtype\u001b[0m\u001b[0;34m,\u001b[0m\u001b[0;34m\u001b[0m\u001b[0;34m\u001b[0m\u001b[0m\n\u001b[1;32m   1826\u001b[0m         )\n\u001b[0;32m-> 1827\u001b[0;31m         \u001b[0mtable\u001b[0m\u001b[0;34m.\u001b[0m\u001b[0mcreate\u001b[0m\u001b[0;34m(\u001b[0m\u001b[0;34m)\u001b[0m\u001b[0;34m\u001b[0m\u001b[0;34m\u001b[0m\u001b[0m\n\u001b[0m\u001b[1;32m   1828\u001b[0m         \u001b[0mtable\u001b[0m\u001b[0;34m.\u001b[0m\u001b[0minsert\u001b[0m\u001b[0;34m(\u001b[0m\u001b[0mchunksize\u001b[0m\u001b[0;34m,\u001b[0m \u001b[0mmethod\u001b[0m\u001b[0;34m)\u001b[0m\u001b[0;34m\u001b[0m\u001b[0;34m\u001b[0m\u001b[0m\n\u001b[1;32m   1829\u001b[0m \u001b[0;34m\u001b[0m\u001b[0m\n",
            "\u001b[0;32m/usr/local/lib/python3.7/dist-packages/pandas/io/sql.py\u001b[0m in \u001b[0;36mcreate\u001b[0;34m(self)\u001b[0m\n\u001b[1;32m    721\u001b[0m         \u001b[0;32mif\u001b[0m \u001b[0mself\u001b[0m\u001b[0;34m.\u001b[0m\u001b[0mexists\u001b[0m\u001b[0;34m(\u001b[0m\u001b[0;34m)\u001b[0m\u001b[0;34m:\u001b[0m\u001b[0;34m\u001b[0m\u001b[0;34m\u001b[0m\u001b[0m\n\u001b[1;32m    722\u001b[0m             \u001b[0;32mif\u001b[0m \u001b[0mself\u001b[0m\u001b[0;34m.\u001b[0m\u001b[0mif_exists\u001b[0m \u001b[0;34m==\u001b[0m \u001b[0;34m\"fail\"\u001b[0m\u001b[0;34m:\u001b[0m\u001b[0;34m\u001b[0m\u001b[0;34m\u001b[0m\u001b[0m\n\u001b[0;32m--> 723\u001b[0;31m                 \u001b[0;32mraise\u001b[0m \u001b[0mValueError\u001b[0m\u001b[0;34m(\u001b[0m\u001b[0;34mf\"Table '{self.name}' already exists.\"\u001b[0m\u001b[0;34m)\u001b[0m\u001b[0;34m\u001b[0m\u001b[0;34m\u001b[0m\u001b[0m\n\u001b[0m\u001b[1;32m    724\u001b[0m             \u001b[0;32melif\u001b[0m \u001b[0mself\u001b[0m\u001b[0;34m.\u001b[0m\u001b[0mif_exists\u001b[0m \u001b[0;34m==\u001b[0m \u001b[0;34m\"replace\"\u001b[0m\u001b[0;34m:\u001b[0m\u001b[0;34m\u001b[0m\u001b[0;34m\u001b[0m\u001b[0m\n\u001b[1;32m    725\u001b[0m                 \u001b[0mself\u001b[0m\u001b[0;34m.\u001b[0m\u001b[0mpd_sql\u001b[0m\u001b[0;34m.\u001b[0m\u001b[0mdrop_table\u001b[0m\u001b[0;34m(\u001b[0m\u001b[0mself\u001b[0m\u001b[0;34m.\u001b[0m\u001b[0mname\u001b[0m\u001b[0;34m,\u001b[0m \u001b[0mself\u001b[0m\u001b[0;34m.\u001b[0m\u001b[0mschema\u001b[0m\u001b[0;34m)\u001b[0m\u001b[0;34m\u001b[0m\u001b[0;34m\u001b[0m\u001b[0m\n",
            "\u001b[0;31mValueError\u001b[0m: Table 'Player' already exists."
          ]
        }
      ]
    },
    {
      "cell_type": "markdown",
      "metadata": {
        "id": "BTpP1K-CzTkS"
      },
      "source": [
        "\n",
        "## Retrieve Teams Table, Format (as needed), Add to Database (if needed)"
      ],
      "id": "BTpP1K-CzTkS"
    },
    {
      "cell_type": "code",
      "metadata": {
        "colab": {
          "base_uri": "https://localhost:8080/",
          "height": 204
        },
        "id": "apparent-president",
        "outputId": "5a97723c-8b03-4c05-b8dd-dcc152e55b24"
      },
      "source": [
        "df_teams = pd.DataFrame(teams.get_teams()).astype({'id': 'str'})\n",
        "df_teams['year_founded'] =  pd.to_datetime(df_teams['year_founded'], format='%Y').dt.year # convert year to datetime type\n",
        "df_teams.head()"
      ],
      "id": "apparent-president",
      "execution_count": 6,
      "outputs": [
        {
          "output_type": "execute_result",
          "data": {
            "text/html": [
              "<div>\n",
              "<style scoped>\n",
              "    .dataframe tbody tr th:only-of-type {\n",
              "        vertical-align: middle;\n",
              "    }\n",
              "\n",
              "    .dataframe tbody tr th {\n",
              "        vertical-align: top;\n",
              "    }\n",
              "\n",
              "    .dataframe thead th {\n",
              "        text-align: right;\n",
              "    }\n",
              "</style>\n",
              "<table border=\"1\" class=\"dataframe\">\n",
              "  <thead>\n",
              "    <tr style=\"text-align: right;\">\n",
              "      <th></th>\n",
              "      <th>id</th>\n",
              "      <th>full_name</th>\n",
              "      <th>abbreviation</th>\n",
              "      <th>nickname</th>\n",
              "      <th>city</th>\n",
              "      <th>state</th>\n",
              "      <th>year_founded</th>\n",
              "    </tr>\n",
              "  </thead>\n",
              "  <tbody>\n",
              "    <tr>\n",
              "      <th>0</th>\n",
              "      <td>1610612737</td>\n",
              "      <td>Atlanta Hawks</td>\n",
              "      <td>ATL</td>\n",
              "      <td>Hawks</td>\n",
              "      <td>Atlanta</td>\n",
              "      <td>Atlanta</td>\n",
              "      <td>1949</td>\n",
              "    </tr>\n",
              "    <tr>\n",
              "      <th>1</th>\n",
              "      <td>1610612738</td>\n",
              "      <td>Boston Celtics</td>\n",
              "      <td>BOS</td>\n",
              "      <td>Celtics</td>\n",
              "      <td>Boston</td>\n",
              "      <td>Massachusetts</td>\n",
              "      <td>1946</td>\n",
              "    </tr>\n",
              "    <tr>\n",
              "      <th>2</th>\n",
              "      <td>1610612739</td>\n",
              "      <td>Cleveland Cavaliers</td>\n",
              "      <td>CLE</td>\n",
              "      <td>Cavaliers</td>\n",
              "      <td>Cleveland</td>\n",
              "      <td>Ohio</td>\n",
              "      <td>1970</td>\n",
              "    </tr>\n",
              "    <tr>\n",
              "      <th>3</th>\n",
              "      <td>1610612740</td>\n",
              "      <td>New Orleans Pelicans</td>\n",
              "      <td>NOP</td>\n",
              "      <td>Pelicans</td>\n",
              "      <td>New Orleans</td>\n",
              "      <td>Louisiana</td>\n",
              "      <td>2002</td>\n",
              "    </tr>\n",
              "    <tr>\n",
              "      <th>4</th>\n",
              "      <td>1610612741</td>\n",
              "      <td>Chicago Bulls</td>\n",
              "      <td>CHI</td>\n",
              "      <td>Bulls</td>\n",
              "      <td>Chicago</td>\n",
              "      <td>Illinois</td>\n",
              "      <td>1966</td>\n",
              "    </tr>\n",
              "  </tbody>\n",
              "</table>\n",
              "</div>"
            ],
            "text/plain": [
              "           id             full_name  ...          state year_founded\n",
              "0  1610612737         Atlanta Hawks  ...        Atlanta         1949\n",
              "1  1610612738        Boston Celtics  ...  Massachusetts         1946\n",
              "2  1610612739   Cleveland Cavaliers  ...           Ohio         1970\n",
              "3  1610612740  New Orleans Pelicans  ...      Louisiana         2002\n",
              "4  1610612741         Chicago Bulls  ...       Illinois         1966\n",
              "\n",
              "[5 rows x 7 columns]"
            ]
          },
          "metadata": {
            "tags": []
          },
          "execution_count": 6
        }
      ]
    },
    {
      "cell_type": "code",
      "metadata": {
        "colab": {
          "base_uri": "https://localhost:8080/"
        },
        "id": "whole-cabin",
        "outputId": "33030693-6e17-4468-c1bc-af6cbf0bb8ba"
      },
      "source": [
        "df_teams.info()"
      ],
      "id": "whole-cabin",
      "execution_count": 7,
      "outputs": [
        {
          "output_type": "stream",
          "text": [
            "<class 'pandas.core.frame.DataFrame'>\n",
            "RangeIndex: 30 entries, 0 to 29\n",
            "Data columns (total 7 columns):\n",
            " #   Column        Non-Null Count  Dtype \n",
            "---  ------        --------------  ----- \n",
            " 0   id            30 non-null     object\n",
            " 1   full_name     30 non-null     object\n",
            " 2   abbreviation  30 non-null     object\n",
            " 3   nickname      30 non-null     object\n",
            " 4   city          30 non-null     object\n",
            " 5   state         30 non-null     object\n",
            " 6   year_founded  30 non-null     int64 \n",
            "dtypes: int64(1), object(6)\n",
            "memory usage: 1.8+ KB\n"
          ],
          "name": "stdout"
        }
      ]
    },
    {
      "cell_type": "code",
      "metadata": {
        "colab": {
          "base_uri": "https://localhost:8080/",
          "height": 307
        },
        "id": "wound-boston",
        "outputId": "2044c334-176b-47b6-a760-0f2abb6834f0"
      },
      "source": [
        "df_teams.to_sql('Team', conn)"
      ],
      "id": "wound-boston",
      "execution_count": 8,
      "outputs": [
        {
          "output_type": "error",
          "ename": "ValueError",
          "evalue": "ignored",
          "traceback": [
            "\u001b[0;31m---------------------------------------------------------------------------\u001b[0m",
            "\u001b[0;31mValueError\u001b[0m                                Traceback (most recent call last)",
            "\u001b[0;32m<ipython-input-8-a22ed4f7811f>\u001b[0m in \u001b[0;36m<module>\u001b[0;34m()\u001b[0m\n\u001b[0;32m----> 1\u001b[0;31m \u001b[0mdf_teams\u001b[0m\u001b[0;34m.\u001b[0m\u001b[0mto_sql\u001b[0m\u001b[0;34m(\u001b[0m\u001b[0;34m'Team'\u001b[0m\u001b[0;34m,\u001b[0m \u001b[0mconn\u001b[0m\u001b[0;34m)\u001b[0m\u001b[0;34m\u001b[0m\u001b[0;34m\u001b[0m\u001b[0m\n\u001b[0m",
            "\u001b[0;32m/usr/local/lib/python3.7/dist-packages/pandas/core/generic.py\u001b[0m in \u001b[0;36mto_sql\u001b[0;34m(self, name, con, schema, if_exists, index, index_label, chunksize, dtype, method)\u001b[0m\n\u001b[1;32m   2613\u001b[0m             \u001b[0mchunksize\u001b[0m\u001b[0;34m=\u001b[0m\u001b[0mchunksize\u001b[0m\u001b[0;34m,\u001b[0m\u001b[0;34m\u001b[0m\u001b[0;34m\u001b[0m\u001b[0m\n\u001b[1;32m   2614\u001b[0m             \u001b[0mdtype\u001b[0m\u001b[0;34m=\u001b[0m\u001b[0mdtype\u001b[0m\u001b[0;34m,\u001b[0m\u001b[0;34m\u001b[0m\u001b[0;34m\u001b[0m\u001b[0m\n\u001b[0;32m-> 2615\u001b[0;31m             \u001b[0mmethod\u001b[0m\u001b[0;34m=\u001b[0m\u001b[0mmethod\u001b[0m\u001b[0;34m,\u001b[0m\u001b[0;34m\u001b[0m\u001b[0;34m\u001b[0m\u001b[0m\n\u001b[0m\u001b[1;32m   2616\u001b[0m         )\n\u001b[1;32m   2617\u001b[0m \u001b[0;34m\u001b[0m\u001b[0m\n",
            "\u001b[0;32m/usr/local/lib/python3.7/dist-packages/pandas/io/sql.py\u001b[0m in \u001b[0;36mto_sql\u001b[0;34m(frame, name, con, schema, if_exists, index, index_label, chunksize, dtype, method)\u001b[0m\n\u001b[1;32m    596\u001b[0m         \u001b[0mchunksize\u001b[0m\u001b[0;34m=\u001b[0m\u001b[0mchunksize\u001b[0m\u001b[0;34m,\u001b[0m\u001b[0;34m\u001b[0m\u001b[0;34m\u001b[0m\u001b[0m\n\u001b[1;32m    597\u001b[0m         \u001b[0mdtype\u001b[0m\u001b[0;34m=\u001b[0m\u001b[0mdtype\u001b[0m\u001b[0;34m,\u001b[0m\u001b[0;34m\u001b[0m\u001b[0;34m\u001b[0m\u001b[0m\n\u001b[0;32m--> 598\u001b[0;31m         \u001b[0mmethod\u001b[0m\u001b[0;34m=\u001b[0m\u001b[0mmethod\u001b[0m\u001b[0;34m,\u001b[0m\u001b[0;34m\u001b[0m\u001b[0;34m\u001b[0m\u001b[0m\n\u001b[0m\u001b[1;32m    599\u001b[0m     )\n\u001b[1;32m    600\u001b[0m \u001b[0;34m\u001b[0m\u001b[0m\n",
            "\u001b[0;32m/usr/local/lib/python3.7/dist-packages/pandas/io/sql.py\u001b[0m in \u001b[0;36mto_sql\u001b[0;34m(self, frame, name, if_exists, index, index_label, schema, chunksize, dtype, method)\u001b[0m\n\u001b[1;32m   1825\u001b[0m             \u001b[0mdtype\u001b[0m\u001b[0;34m=\u001b[0m\u001b[0mdtype\u001b[0m\u001b[0;34m,\u001b[0m\u001b[0;34m\u001b[0m\u001b[0;34m\u001b[0m\u001b[0m\n\u001b[1;32m   1826\u001b[0m         )\n\u001b[0;32m-> 1827\u001b[0;31m         \u001b[0mtable\u001b[0m\u001b[0;34m.\u001b[0m\u001b[0mcreate\u001b[0m\u001b[0;34m(\u001b[0m\u001b[0;34m)\u001b[0m\u001b[0;34m\u001b[0m\u001b[0;34m\u001b[0m\u001b[0m\n\u001b[0m\u001b[1;32m   1828\u001b[0m         \u001b[0mtable\u001b[0m\u001b[0;34m.\u001b[0m\u001b[0minsert\u001b[0m\u001b[0;34m(\u001b[0m\u001b[0mchunksize\u001b[0m\u001b[0;34m,\u001b[0m \u001b[0mmethod\u001b[0m\u001b[0;34m)\u001b[0m\u001b[0;34m\u001b[0m\u001b[0;34m\u001b[0m\u001b[0m\n\u001b[1;32m   1829\u001b[0m \u001b[0;34m\u001b[0m\u001b[0m\n",
            "\u001b[0;32m/usr/local/lib/python3.7/dist-packages/pandas/io/sql.py\u001b[0m in \u001b[0;36mcreate\u001b[0;34m(self)\u001b[0m\n\u001b[1;32m    721\u001b[0m         \u001b[0;32mif\u001b[0m \u001b[0mself\u001b[0m\u001b[0;34m.\u001b[0m\u001b[0mexists\u001b[0m\u001b[0;34m(\u001b[0m\u001b[0;34m)\u001b[0m\u001b[0;34m:\u001b[0m\u001b[0;34m\u001b[0m\u001b[0;34m\u001b[0m\u001b[0m\n\u001b[1;32m    722\u001b[0m             \u001b[0;32mif\u001b[0m \u001b[0mself\u001b[0m\u001b[0;34m.\u001b[0m\u001b[0mif_exists\u001b[0m \u001b[0;34m==\u001b[0m \u001b[0;34m\"fail\"\u001b[0m\u001b[0;34m:\u001b[0m\u001b[0;34m\u001b[0m\u001b[0;34m\u001b[0m\u001b[0m\n\u001b[0;32m--> 723\u001b[0;31m                 \u001b[0;32mraise\u001b[0m \u001b[0mValueError\u001b[0m\u001b[0;34m(\u001b[0m\u001b[0;34mf\"Table '{self.name}' already exists.\"\u001b[0m\u001b[0;34m)\u001b[0m\u001b[0;34m\u001b[0m\u001b[0;34m\u001b[0m\u001b[0m\n\u001b[0m\u001b[1;32m    724\u001b[0m             \u001b[0;32melif\u001b[0m \u001b[0mself\u001b[0m\u001b[0;34m.\u001b[0m\u001b[0mif_exists\u001b[0m \u001b[0;34m==\u001b[0m \u001b[0;34m\"replace\"\u001b[0m\u001b[0;34m:\u001b[0m\u001b[0;34m\u001b[0m\u001b[0;34m\u001b[0m\u001b[0m\n\u001b[1;32m    725\u001b[0m                 \u001b[0mself\u001b[0m\u001b[0;34m.\u001b[0m\u001b[0mpd_sql\u001b[0m\u001b[0;34m.\u001b[0m\u001b[0mdrop_table\u001b[0m\u001b[0;34m(\u001b[0m\u001b[0mself\u001b[0m\u001b[0;34m.\u001b[0m\u001b[0mname\u001b[0m\u001b[0;34m,\u001b[0m \u001b[0mself\u001b[0m\u001b[0;34m.\u001b[0m\u001b[0mschema\u001b[0m\u001b[0;34m)\u001b[0m\u001b[0;34m\u001b[0m\u001b[0;34m\u001b[0m\u001b[0m\n",
            "\u001b[0;31mValueError\u001b[0m: Table 'Team' already exists."
          ]
        }
      ]
    },
    {
      "cell_type": "markdown",
      "metadata": {
        "id": "E50uAPjqzfdF"
      },
      "source": [
        "## Get Proxy Server Addresses"
      ],
      "id": "E50uAPjqzfdF"
    },
    {
      "cell_type": "markdown",
      "metadata": {
        "id": "xm__2P1nzlDT"
      },
      "source": [
        "### Define Function to Scrape New Proxy List and Return Proxies Tested to be Alive"
      ],
      "id": "xm__2P1nzlDT"
    },
    {
      "cell_type": "code",
      "metadata": {
        "ExecuteTime": {
          "end_time": "2021-03-18T22:48:06.899864Z",
          "start_time": "2021-03-18T22:48:06.888891Z"
        },
        "id": "prescribed-appearance"
      },
      "source": [
        "def get_proxies():\n",
        "    !wget -O http_proxies.txt \"https://api.proxyscrape.com/v2/?request=getproxies&protocol=http&timeout=5000&country=all&ssl=yes&anonymity=all&simplified=true\"\n",
        "\n",
        "    with open('http_proxies.txt', 'r') as file:\n",
        "        proxies = file.read().split('\\n')\n",
        "    print(\"Original number of proxies: \", len(proxies))\n",
        "\n",
        "    def check_proxies(proxy):\n",
        "        try:\n",
        "            urllib.request.urlopen(\"http://\" + proxy, timeout = 30)\n",
        "            print(\"alive proxy detected\")\n",
        "        except:\n",
        "            return proxy\n",
        "\n",
        "    dead_proxies = []\n",
        "    for proxy in proxies:\n",
        "        dead_proxy = dask.delayed(check_proxies)(proxy)\n",
        "        dead_proxies.append(dead_proxy)\n",
        "\n",
        "    dead_proxies = dask.persist(*dead_proxies)\n",
        "    dead_proxies = list(filter(None, dask.compute(dead_proxies))) \n",
        "\n",
        "    [proxies.remove(proxy) for proxy in dead_proxies if proxy in proxies]\n",
        "    if \"\" in proxies:\n",
        "        proxies.remove(\"\")\n",
        "    print(\"Number of proxies alive: \", len(proxies))\n",
        "    return proxies"
      ],
      "id": "prescribed-appearance",
      "execution_count": 2,
      "outputs": []
    },
    {
      "cell_type": "markdown",
      "metadata": {
        "id": "aB5vvR20zySE"
      },
      "source": [
        "### Create Dask Cluster with the Number of Workers Equal to the Number of CPU Cores"
      ],
      "id": "aB5vvR20zySE"
    },
    {
      "cell_type": "code",
      "metadata": {
        "ExecuteTime": {
          "start_time": "2021-03-18T22:48:16.785Z"
        },
        "colab": {
          "base_uri": "https://localhost:8080/",
          "height": 118
        },
        "id": "minute-focus",
        "outputId": "04bda660-0f2e-4233-bbb9-0efbd6f4defa"
      },
      "source": [
        "# Make sure to put appropiate number of workers given info provided in the output of the first cell\n",
        "cluster = LocalCluster(n_workers=32) \n",
        "c = Client(cluster)\n",
        "c"
      ],
      "id": "minute-focus",
      "execution_count": 10,
      "outputs": [
        {
          "output_type": "execute_result",
          "data": {
            "text/html": [
              "<table style=\"border: 2px solid white;\">\n",
              "<tr>\n",
              "<td style=\"vertical-align: top; border: 0px solid white\">\n",
              "<h3 style=\"text-align: left;\">Client</h3>\n",
              "<ul style=\"text-align: left; list-style: none; margin: 0; padding: 0;\">\n",
              "  <li><b>Scheduler: </b>tcp://127.0.0.1:41867</li>\n",
              "  <li><b>Dashboard: </b><a href='http://127.0.0.1:8787/status' target='_blank'>http://127.0.0.1:8787/status</a></li>\n",
              "</ul>\n",
              "</td>\n",
              "<td style=\"vertical-align: top; border: 0px solid white\">\n",
              "<h3 style=\"text-align: left;\">Cluster</h3>\n",
              "<ul style=\"text-align: left; list-style:none; margin: 0; padding: 0;\">\n",
              "  <li><b>Workers: </b>32</li>\n",
              "  <li><b>Cores: </b>32</li>\n",
              "  <li><b>Memory: </b>27.39 GB</li>\n",
              "</ul>\n",
              "</td>\n",
              "</tr>\n",
              "</table>"
            ],
            "text/plain": [
              "<Client: 'tcp://127.0.0.1:41867' processes=32 threads=32, memory=27.39 GB>"
            ]
          },
          "metadata": {
            "tags": []
          },
          "execution_count": 10
        }
      ]
    },
    {
      "cell_type": "markdown",
      "metadata": {
        "id": "oIEXZlVPz9jp"
      },
      "source": [
        "## Process `get_proxies()` with Dask then Shutdown Cluster"
      ],
      "id": "oIEXZlVPz9jp"
    },
    {
      "cell_type": "code",
      "metadata": {
        "colab": {
          "base_uri": "https://localhost:8080/"
        },
        "id": "3pMIVGdFxKE8",
        "outputId": "4f3cfcc5-07c0-49a2-a19d-b131c1de262c"
      },
      "source": [
        "proxies = get_proxies()\n",
        "with open('valid_proxies.txt', 'w') as f:\n",
        "    for proxy in proxies:\n",
        "        f.write(\"%s\\n\" % proxy)\n",
        "c.shutdown()\n",
        "proxies"
      ],
      "id": "3pMIVGdFxKE8",
      "execution_count": 11,
      "outputs": [
        {
          "output_type": "stream",
          "text": [
            "--2021-03-19 17:02:50--  https://api.proxyscrape.com/v2/?request=getproxies&protocol=http&timeout=5000&country=all&ssl=yes&anonymity=all&simplified=true\n",
            "Resolving api.proxyscrape.com (api.proxyscrape.com)... 151.139.128.11\n",
            "Connecting to api.proxyscrape.com (api.proxyscrape.com)|151.139.128.11|:443... connected.\n",
            "HTTP request sent, awaiting response... 200 OK\n",
            "Length: 1527 (1.5K) [text/plain]\n",
            "Saving to: ‘http_proxies.txt’\n",
            "\n",
            "http_proxies.txt    100%[===================>]   1.49K  --.-KB/s    in 0s      \n",
            "\n",
            "2021-03-19 17:02:51 (22.1 MB/s) - ‘http_proxies.txt’ saved [1527/1527]\n",
            "\n",
            "Original number of proxies:  76\n",
            "Number of proxies alive:  75\n"
          ],
          "name": "stdout"
        },
        {
          "output_type": "execute_result",
          "data": {
            "text/plain": [
              "['91.149.203.9:3128',\n",
              " '47.254.247.210:3128',\n",
              " '51.79.173.166:3128',\n",
              " '51.79.145.108:8080',\n",
              " '51.158.172.165:8811',\n",
              " '51.210.150.171:3128',\n",
              " '144.91.89.199:3128',\n",
              " '62.210.203.211:8080',\n",
              " '206.189.153.241:3128',\n",
              " '95.217.102.133:3128',\n",
              " '134.209.130.135:10303',\n",
              " '103.125.162.1:83',\n",
              " '167.172.109.12:36499',\n",
              " '142.44.243.113:3128',\n",
              " '104.248.146.99:3128',\n",
              " '65.1.148.79:80',\n",
              " '134.209.102.189:8888',\n",
              " '111.235.65.211:45811',\n",
              " '116.58.236.172:8080',\n",
              " '88.220.104.178:8080',\n",
              " '186.96.170.132:9991',\n",
              " '51.159.24.172:3162',\n",
              " '178.32.247.156:3128',\n",
              " '176.241.129.113:3128',\n",
              " '81.90.224.248:3128',\n",
              " '51.158.172.165:8761',\n",
              " '190.83.114.9:999',\n",
              " '103.52.145.97:8080',\n",
              " '91.221.74.150:3128',\n",
              " '122.155.165.191:3128',\n",
              " '191.252.61.219:3128',\n",
              " '82.200.181.54:3129',\n",
              " '187.1.174.94:20183',\n",
              " '18.139.161.101:80',\n",
              " '51.79.173.154:8080',\n",
              " '51.79.144.52:8080',\n",
              " '103.152.101.136:8080',\n",
              " '51.79.173.167:8080',\n",
              " '20.195.17.90:3128',\n",
              " '13.212.154.38:80',\n",
              " '206.189.153.241:8888',\n",
              " '176.113.73.101:3128',\n",
              " '83.168.86.189:8090',\n",
              " '45.32.117.4:8888',\n",
              " '195.138.83.218:53281',\n",
              " '134.209.102.189:3128',\n",
              " '178.159.40.19:8080',\n",
              " '195.46.124.94:4444',\n",
              " '103.227.252.231:3128',\n",
              " '178.128.83.219:8899',\n",
              " '190.53.38.98:46340',\n",
              " '103.227.252.231:8080',\n",
              " '51.79.173.154:3128',\n",
              " '51.68.215.98:8080',\n",
              " '13.212.77.22:80',\n",
              " '90.157.198.182:8080',\n",
              " '111.90.179.74:8080',\n",
              " '51.79.173.168:3128',\n",
              " '51.79.145.108:3128',\n",
              " '103.243.82.198:37358',\n",
              " '18.141.25.124:80',\n",
              " '13.212.32.171:80',\n",
              " '176.9.85.13:3128',\n",
              " '3.114.241.246:8080',\n",
              " '181.78.12.151:999',\n",
              " '200.63.67.64:8080',\n",
              " '176.113.73.95:3128',\n",
              " '190.14.225.117:3128',\n",
              " '186.6.8.249:3128',\n",
              " '185.34.23.100:8080',\n",
              " '157.230.103.189:45518',\n",
              " '115.226.144.146:3256',\n",
              " '157.230.103.189:39319',\n",
              " '113.121.241.193:8888',\n",
              " '200.73.129.128:8080']"
            ]
          },
          "metadata": {
            "tags": []
          },
          "execution_count": 11
        }
      ]
    },
    {
      "cell_type": "markdown",
      "metadata": {
        "id": "D-qCFrs50IwJ"
      },
      "source": [
        "## Get Common Player Information"
      ],
      "id": "D-qCFrs50IwJ"
    },
    {
      "cell_type": "markdown",
      "metadata": {
        "id": "QWDeN_j10QlB"
      },
      "source": [
        "### Define Functions `get_quick_proxies()` & `get_common_player_info()`\n",
        "\n",
        "Each function utilizes a ***Dask*** cluster. \n",
        "\n",
        "`get_quick_proxies()` gets a list of proxies (tested to be alive) more quickly than the function above. This function is used in the case that all proxies found from the above function fail to return responses from stats.nba.com. \n",
        "\n",
        "`get_common_player_info()` returns dataframe of common player infomation for a certain player. The paradigm here is to distribute jobs (where each job is collecting common player info for a certain player) across a ***Dask*** cluster since all outputs will be the same and can be easily be concatenated. "
      ],
      "id": "QWDeN_j10QlB"
    },
    {
      "cell_type": "code",
      "metadata": {
        "id": "greatest-field"
      },
      "source": [
        "def get_common_player_info(player_id):\n",
        "  with open('valid_proxies.txt', 'r') as file:\n",
        "    proxies = file.read().split('\\n')\n",
        "  res_dfs = []\n",
        "  i = 0\n",
        "  proxies_retrieved = False\n",
        "  # while response is empty\n",
        "  while len(res_dfs) <= 0: \n",
        "    # try the request without a proxy\n",
        "    try:\n",
        "      res_dfs = commonplayerinfo.CommonPlayerInfo(player_id=player_id, timeout=100).get_data_frames()\n",
        "      res_df = pd.merge(res_dfs[0], res_dfs[1], how='left', left_on=['PERSON_ID', 'DISPLAY_FIRST_LAST'], right_on=['PLAYER_ID', 'PLAYER_NAME'])\n",
        "      res_df = res_df.drop(['TimeFrame'], axis=1)\n",
        "      print(\"******* SUCCESS ******* \\n ******* {} ******* \\n\".format(player_id))\n",
        "      return res_df\n",
        "    # if still fails, then try with proxy\n",
        "    except:\n",
        "      try:\n",
        "        res_dfs = commonplayerinfo.CommonPlayerInfo(player_id=player_id, timeout=150).get_data_frames()\n",
        "        res_df = pd.merge(res_dfs[0], res_dfs[1], how='left', left_on=['PERSON_ID', 'DISPLAY_FIRST_LAST'], right_on=['PLAYER_ID', 'PLAYER_NAME'])\n",
        "        res_df = res_df.drop(['TimeFrame'], axis=1)\n",
        "        print(\"******* SUCCESS ******* \\n ******* {} ******* \\n\".format(player_id))\n",
        "        return res_df\n",
        "      # if still fails, move on to next proxy, unless out of proxies\n",
        "      except:\n",
        "        if (i + 1) < len(proxies):\n",
        "          i = i + 1\n",
        "        # if out of proxies, restart counter and get new proxies\n",
        "        else:\n",
        "          if proxies_retrieved:\n",
        "            print(\"******* FAILURE ****** \\n ****** {} ******* \\n ******* RETURNING NONE ******\".format(player_id))\n",
        "            return None\n",
        "          else:\n",
        "            print(\"******* FAILURE ****** \\n ****** {} ******* \\n ******* COLLECTING NEW PROXIES AND TRYING REQUEST AGAIN ******\".format(player_id))\n",
        "            i = 0\n",
        "            proxies = get_proxies()\n",
        "            proxies_retrieved = True\n",
        "      "
      ],
      "id": "greatest-field",
      "execution_count": 3,
      "outputs": []
    },
    {
      "cell_type": "markdown",
      "metadata": {
        "id": "30JbhUNT1YBJ"
      },
      "source": [
        "### Extract Common Player Information for all Players"
      ],
      "id": "30JbhUNT1YBJ"
    },
    {
      "cell_type": "code",
      "metadata": {
        "id": "93TAjK2SU_RI"
      },
      "source": [
        "# Make sure to put appropiate number of workers given info provided in the output of the first cell\n",
        "def main():\n",
        "    cluster = LocalCluster(n_workers=12) \n",
        "    with Client(address=cluster):\n",
        "      conn = sql.connect('../data/basketball.sqlite')\n",
        "      player_ids = pd.read_sql('SELECT id FROM Player', conn).values #pd.DataFrame(players.get_players()).astype({'id': 'str'})['id'].values\n",
        "\n",
        "      dfs = []\n",
        "      for player_id in player_ids:\n",
        "        df = dask.delayed(get_common_player_info(player_id))\n",
        "        dfs.append(df)\n",
        "\n",
        "      dfs = dask.persist(*dfs)\n",
        "      dfs = dask.compute(dfs)\n",
        "      dfs = [df for df in dfs if df != None]\n",
        "      dfs = dask.dataframe.multi.concat(dfs)\n",
        "      return dfs\n",
        "\n",
        "if __name__ == \"__main__\":\n",
        "  common_player_info_dfs = main()\n",
        "\n",
        "common_player_info_dfs.head()"
      ],
      "id": "93TAjK2SU_RI",
      "execution_count": null,
      "outputs": []
    },
    {
      "cell_type": "code",
      "metadata": {
        "id": "WrOyTE4W_87c"
      },
      "source": [
        "cluster.shutdown()"
      ],
      "id": "WrOyTE4W_87c",
      "execution_count": null,
      "outputs": []
    }
  ]
}